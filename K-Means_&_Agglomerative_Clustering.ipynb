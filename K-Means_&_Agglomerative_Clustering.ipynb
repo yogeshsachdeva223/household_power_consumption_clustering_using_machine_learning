{
 "cells": [
  {
   "cell_type": "code",
   "execution_count": 1,
   "id": "22fb8305",
   "metadata": {},
   "outputs": [],
   "source": [
    "import numpy as np\n",
    "import pandas as pd\n",
    "import matplotlib.pyplot as plt\n",
    "import seaborn as sns"
   ]
  },
  {
   "cell_type": "code",
   "execution_count": 2,
   "id": "6726b51c",
   "metadata": {},
   "outputs": [
    {
     "name": "stderr",
     "output_type": "stream",
     "text": [
      "C:\\ProgramData\\Anaconda3\\lib\\site-packages\\IPython\\core\\interactiveshell.py:3165: DtypeWarning: Columns (2,3,4,5,6,7) have mixed types.Specify dtype option on import or set low_memory=False.\n",
      "  has_raised = await self.run_ast_nodes(code_ast.body, cell_name,\n"
     ]
    }
   ],
   "source": [
    "data = pd.read_csv(\"household_power_consumption.txt\", sep = \";\")"
   ]
  },
  {
   "cell_type": "code",
   "execution_count": 3,
   "id": "f2c143fc",
   "metadata": {},
   "outputs": [],
   "source": [
    "df = data.sample(n=5000)"
   ]
  },
  {
   "cell_type": "code",
   "execution_count": 4,
   "id": "4270ddf6",
   "metadata": {},
   "outputs": [
    {
     "data": {
      "text/html": [
       "<div>\n",
       "<style scoped>\n",
       "    .dataframe tbody tr th:only-of-type {\n",
       "        vertical-align: middle;\n",
       "    }\n",
       "\n",
       "    .dataframe tbody tr th {\n",
       "        vertical-align: top;\n",
       "    }\n",
       "\n",
       "    .dataframe thead th {\n",
       "        text-align: right;\n",
       "    }\n",
       "</style>\n",
       "<table border=\"1\" class=\"dataframe\">\n",
       "  <thead>\n",
       "    <tr style=\"text-align: right;\">\n",
       "      <th></th>\n",
       "      <th>Date</th>\n",
       "      <th>Time</th>\n",
       "      <th>Global_active_power</th>\n",
       "      <th>Global_reactive_power</th>\n",
       "      <th>Voltage</th>\n",
       "      <th>Global_intensity</th>\n",
       "      <th>Sub_metering_1</th>\n",
       "      <th>Sub_metering_2</th>\n",
       "      <th>Sub_metering_3</th>\n",
       "    </tr>\n",
       "  </thead>\n",
       "  <tbody>\n",
       "    <tr>\n",
       "      <th>58522</th>\n",
       "      <td>26/1/2007</td>\n",
       "      <td>08:46:00</td>\n",
       "      <td>0.806</td>\n",
       "      <td>0.084</td>\n",
       "      <td>242.670</td>\n",
       "      <td>3.600</td>\n",
       "      <td>0.000</td>\n",
       "      <td>0.000</td>\n",
       "      <td>0.0</td>\n",
       "    </tr>\n",
       "    <tr>\n",
       "      <th>1792862</th>\n",
       "      <td>14/5/2010</td>\n",
       "      <td>18:26:00</td>\n",
       "      <td>1.666</td>\n",
       "      <td>0.094</td>\n",
       "      <td>239.920</td>\n",
       "      <td>6.800</td>\n",
       "      <td>0.000</td>\n",
       "      <td>0.000</td>\n",
       "      <td>18.0</td>\n",
       "    </tr>\n",
       "    <tr>\n",
       "      <th>616638</th>\n",
       "      <td>17/2/2008</td>\n",
       "      <td>22:42:00</td>\n",
       "      <td>0.872</td>\n",
       "      <td>0.102</td>\n",
       "      <td>241.750</td>\n",
       "      <td>3.600</td>\n",
       "      <td>0.000</td>\n",
       "      <td>0.000</td>\n",
       "      <td>0.0</td>\n",
       "    </tr>\n",
       "    <tr>\n",
       "      <th>1186055</th>\n",
       "      <td>19/3/2009</td>\n",
       "      <td>08:59:00</td>\n",
       "      <td>1.460</td>\n",
       "      <td>0.190</td>\n",
       "      <td>240.810</td>\n",
       "      <td>6.000</td>\n",
       "      <td>0.000</td>\n",
       "      <td>0.000</td>\n",
       "      <td>17.0</td>\n",
       "    </tr>\n",
       "    <tr>\n",
       "      <th>148583</th>\n",
       "      <td>29/3/2007</td>\n",
       "      <td>21:47:00</td>\n",
       "      <td>2.902</td>\n",
       "      <td>0.326</td>\n",
       "      <td>239.910</td>\n",
       "      <td>12.000</td>\n",
       "      <td>2.000</td>\n",
       "      <td>1.000</td>\n",
       "      <td>18.0</td>\n",
       "    </tr>\n",
       "  </tbody>\n",
       "</table>\n",
       "</div>"
      ],
      "text/plain": [
       "              Date      Time Global_active_power Global_reactive_power  \\\n",
       "58522    26/1/2007  08:46:00               0.806                 0.084   \n",
       "1792862  14/5/2010  18:26:00               1.666                 0.094   \n",
       "616638   17/2/2008  22:42:00               0.872                 0.102   \n",
       "1186055  19/3/2009  08:59:00               1.460                 0.190   \n",
       "148583   29/3/2007  21:47:00               2.902                 0.326   \n",
       "\n",
       "         Voltage Global_intensity Sub_metering_1 Sub_metering_2  \\\n",
       "58522    242.670            3.600          0.000          0.000   \n",
       "1792862  239.920            6.800          0.000          0.000   \n",
       "616638   241.750            3.600          0.000          0.000   \n",
       "1186055  240.810            6.000          0.000          0.000   \n",
       "148583   239.910           12.000          2.000          1.000   \n",
       "\n",
       "         Sub_metering_3  \n",
       "58522               0.0  \n",
       "1792862            18.0  \n",
       "616638              0.0  \n",
       "1186055            17.0  \n",
       "148583             18.0  "
      ]
     },
     "execution_count": 4,
     "metadata": {},
     "output_type": "execute_result"
    }
   ],
   "source": [
    "df.head()"
   ]
  },
  {
   "cell_type": "code",
   "execution_count": 5,
   "id": "cd36f6f1",
   "metadata": {},
   "outputs": [
    {
     "data": {
      "text/html": [
       "<div>\n",
       "<style scoped>\n",
       "    .dataframe tbody tr th:only-of-type {\n",
       "        vertical-align: middle;\n",
       "    }\n",
       "\n",
       "    .dataframe tbody tr th {\n",
       "        vertical-align: top;\n",
       "    }\n",
       "\n",
       "    .dataframe thead th {\n",
       "        text-align: right;\n",
       "    }\n",
       "</style>\n",
       "<table border=\"1\" class=\"dataframe\">\n",
       "  <thead>\n",
       "    <tr style=\"text-align: right;\">\n",
       "      <th></th>\n",
       "      <th>Date</th>\n",
       "      <th>Time</th>\n",
       "      <th>Global_active_power</th>\n",
       "      <th>Global_reactive_power</th>\n",
       "      <th>Voltage</th>\n",
       "      <th>Global_intensity</th>\n",
       "      <th>Sub_metering_1</th>\n",
       "      <th>Sub_metering_2</th>\n",
       "      <th>Sub_metering_3</th>\n",
       "    </tr>\n",
       "  </thead>\n",
       "  <tbody>\n",
       "    <tr>\n",
       "      <th>1589683</th>\n",
       "      <td>24/12/2009</td>\n",
       "      <td>16:07:00</td>\n",
       "      <td>4.766</td>\n",
       "      <td>0.290</td>\n",
       "      <td>247.220</td>\n",
       "      <td>19.400</td>\n",
       "      <td>0.000</td>\n",
       "      <td>32.000</td>\n",
       "      <td>19.0</td>\n",
       "    </tr>\n",
       "    <tr>\n",
       "      <th>688441</th>\n",
       "      <td>7/4/2008</td>\n",
       "      <td>19:25:00</td>\n",
       "      <td>4.502</td>\n",
       "      <td>0.388</td>\n",
       "      <td>240.220</td>\n",
       "      <td>18.800</td>\n",
       "      <td>39.000</td>\n",
       "      <td>8.000</td>\n",
       "      <td>19.0</td>\n",
       "    </tr>\n",
       "    <tr>\n",
       "      <th>696886</th>\n",
       "      <td>13/4/2008</td>\n",
       "      <td>16:10:00</td>\n",
       "      <td>0.326</td>\n",
       "      <td>0.106</td>\n",
       "      <td>240.670</td>\n",
       "      <td>1.400</td>\n",
       "      <td>0.000</td>\n",
       "      <td>1.000</td>\n",
       "      <td>0.0</td>\n",
       "    </tr>\n",
       "    <tr>\n",
       "      <th>1985945</th>\n",
       "      <td>25/9/2010</td>\n",
       "      <td>20:29:00</td>\n",
       "      <td>?</td>\n",
       "      <td>?</td>\n",
       "      <td>?</td>\n",
       "      <td>?</td>\n",
       "      <td>?</td>\n",
       "      <td>?</td>\n",
       "      <td>NaN</td>\n",
       "    </tr>\n",
       "    <tr>\n",
       "      <th>2031444</th>\n",
       "      <td>27/10/2010</td>\n",
       "      <td>10:48:00</td>\n",
       "      <td>1.524</td>\n",
       "      <td>0.208</td>\n",
       "      <td>244.340</td>\n",
       "      <td>6.200</td>\n",
       "      <td>0.000</td>\n",
       "      <td>1.000</td>\n",
       "      <td>19.0</td>\n",
       "    </tr>\n",
       "  </tbody>\n",
       "</table>\n",
       "</div>"
      ],
      "text/plain": [
       "               Date      Time Global_active_power Global_reactive_power  \\\n",
       "1589683  24/12/2009  16:07:00               4.766                 0.290   \n",
       "688441     7/4/2008  19:25:00               4.502                 0.388   \n",
       "696886    13/4/2008  16:10:00               0.326                 0.106   \n",
       "1985945   25/9/2010  20:29:00                   ?                     ?   \n",
       "2031444  27/10/2010  10:48:00               1.524                 0.208   \n",
       "\n",
       "         Voltage Global_intensity Sub_metering_1 Sub_metering_2  \\\n",
       "1589683  247.220           19.400          0.000         32.000   \n",
       "688441   240.220           18.800         39.000          8.000   \n",
       "696886   240.670            1.400          0.000          1.000   \n",
       "1985945        ?                ?              ?              ?   \n",
       "2031444  244.340            6.200          0.000          1.000   \n",
       "\n",
       "         Sub_metering_3  \n",
       "1589683            19.0  \n",
       "688441             19.0  \n",
       "696886              0.0  \n",
       "1985945             NaN  \n",
       "2031444            19.0  "
      ]
     },
     "execution_count": 5,
     "metadata": {},
     "output_type": "execute_result"
    }
   ],
   "source": [
    "df.tail()"
   ]
  },
  {
   "cell_type": "code",
   "execution_count": 6,
   "id": "80b56cb1",
   "metadata": {},
   "outputs": [
    {
     "name": "stdout",
     "output_type": "stream",
     "text": [
      "<class 'pandas.core.frame.DataFrame'>\n",
      "Int64Index: 5000 entries, 58522 to 2031444\n",
      "Data columns (total 9 columns):\n",
      " #   Column                 Non-Null Count  Dtype  \n",
      "---  ------                 --------------  -----  \n",
      " 0   Date                   5000 non-null   object \n",
      " 1   Time                   5000 non-null   object \n",
      " 2   Global_active_power    5000 non-null   object \n",
      " 3   Global_reactive_power  5000 non-null   object \n",
      " 4   Voltage                5000 non-null   object \n",
      " 5   Global_intensity       5000 non-null   object \n",
      " 6   Sub_metering_1         5000 non-null   object \n",
      " 7   Sub_metering_2         5000 non-null   object \n",
      " 8   Sub_metering_3         4923 non-null   float64\n",
      "dtypes: float64(1), object(8)\n",
      "memory usage: 390.6+ KB\n"
     ]
    }
   ],
   "source": [
    "df.info()"
   ]
  },
  {
   "cell_type": "code",
   "execution_count": 7,
   "id": "d4e149d0",
   "metadata": {},
   "outputs": [
    {
     "data": {
      "text/html": [
       "<div>\n",
       "<style scoped>\n",
       "    .dataframe tbody tr th:only-of-type {\n",
       "        vertical-align: middle;\n",
       "    }\n",
       "\n",
       "    .dataframe tbody tr th {\n",
       "        vertical-align: top;\n",
       "    }\n",
       "\n",
       "    .dataframe thead th {\n",
       "        text-align: right;\n",
       "    }\n",
       "</style>\n",
       "<table border=\"1\" class=\"dataframe\">\n",
       "  <thead>\n",
       "    <tr style=\"text-align: right;\">\n",
       "      <th></th>\n",
       "      <th>Sub_metering_3</th>\n",
       "    </tr>\n",
       "  </thead>\n",
       "  <tbody>\n",
       "    <tr>\n",
       "      <th>count</th>\n",
       "      <td>4923.000000</td>\n",
       "    </tr>\n",
       "    <tr>\n",
       "      <th>mean</th>\n",
       "      <td>6.604713</td>\n",
       "    </tr>\n",
       "    <tr>\n",
       "      <th>std</th>\n",
       "      <td>8.445354</td>\n",
       "    </tr>\n",
       "    <tr>\n",
       "      <th>min</th>\n",
       "      <td>0.000000</td>\n",
       "    </tr>\n",
       "    <tr>\n",
       "      <th>25%</th>\n",
       "      <td>0.000000</td>\n",
       "    </tr>\n",
       "    <tr>\n",
       "      <th>50%</th>\n",
       "      <td>1.000000</td>\n",
       "    </tr>\n",
       "    <tr>\n",
       "      <th>75%</th>\n",
       "      <td>17.000000</td>\n",
       "    </tr>\n",
       "    <tr>\n",
       "      <th>max</th>\n",
       "      <td>31.000000</td>\n",
       "    </tr>\n",
       "  </tbody>\n",
       "</table>\n",
       "</div>"
      ],
      "text/plain": [
       "       Sub_metering_3\n",
       "count     4923.000000\n",
       "mean         6.604713\n",
       "std          8.445354\n",
       "min          0.000000\n",
       "25%          0.000000\n",
       "50%          1.000000\n",
       "75%         17.000000\n",
       "max         31.000000"
      ]
     },
     "execution_count": 7,
     "metadata": {},
     "output_type": "execute_result"
    }
   ],
   "source": [
    "df.describe()"
   ]
  },
  {
   "cell_type": "code",
   "execution_count": 8,
   "id": "90bfc6c7",
   "metadata": {},
   "outputs": [
    {
     "data": {
      "text/plain": [
       "(5000, 9)"
      ]
     },
     "execution_count": 8,
     "metadata": {},
     "output_type": "execute_result"
    }
   ],
   "source": [
    "df.shape"
   ]
  },
  {
   "cell_type": "code",
   "execution_count": 9,
   "id": "8bc94521",
   "metadata": {},
   "outputs": [
    {
     "data": {
      "text/plain": [
       "Date                      0\n",
       "Time                      0\n",
       "Global_active_power       0\n",
       "Global_reactive_power     0\n",
       "Voltage                   0\n",
       "Global_intensity          0\n",
       "Sub_metering_1            0\n",
       "Sub_metering_2            0\n",
       "Sub_metering_3           77\n",
       "dtype: int64"
      ]
     },
     "execution_count": 9,
     "metadata": {},
     "output_type": "execute_result"
    }
   ],
   "source": [
    "df.isnull().sum()"
   ]
  },
  {
   "cell_type": "code",
   "execution_count": 10,
   "id": "b83e59b0",
   "metadata": {},
   "outputs": [
    {
     "data": {
      "text/plain": [
       "6.604712573633963"
      ]
     },
     "execution_count": 10,
     "metadata": {},
     "output_type": "execute_result"
    }
   ],
   "source": [
    "df['Sub_metering_3'].mean()"
   ]
  },
  {
   "cell_type": "code",
   "execution_count": 11,
   "id": "405e01e7",
   "metadata": {},
   "outputs": [],
   "source": [
    "df['Sub_metering_3'] = df['Sub_metering_3'].fillna(6.45)"
   ]
  },
  {
   "cell_type": "code",
   "execution_count": 12,
   "id": "917e3bb7",
   "metadata": {},
   "outputs": [
    {
     "data": {
      "text/plain": [
       "Date                     0\n",
       "Time                     0\n",
       "Global_active_power      0\n",
       "Global_reactive_power    0\n",
       "Voltage                  0\n",
       "Global_intensity         0\n",
       "Sub_metering_1           0\n",
       "Sub_metering_2           0\n",
       "Sub_metering_3           0\n",
       "dtype: int64"
      ]
     },
     "execution_count": 12,
     "metadata": {},
     "output_type": "execute_result"
    }
   ],
   "source": [
    "df.isnull().sum()"
   ]
  },
  {
   "cell_type": "code",
   "execution_count": 13,
   "id": "cf652d04",
   "metadata": {},
   "outputs": [
    {
     "data": {
      "text/plain": [
       "(5000, 9)"
      ]
     },
     "execution_count": 13,
     "metadata": {},
     "output_type": "execute_result"
    }
   ],
   "source": [
    "df.shape"
   ]
  },
  {
   "cell_type": "code",
   "execution_count": 14,
   "id": "cee16198",
   "metadata": {},
   "outputs": [
    {
     "name": "stdout",
     "output_type": "stream",
     "text": [
      "<class 'pandas.core.frame.DataFrame'>\n",
      "Int64Index: 5000 entries, 58522 to 2031444\n",
      "Data columns (total 9 columns):\n",
      " #   Column                 Non-Null Count  Dtype  \n",
      "---  ------                 --------------  -----  \n",
      " 0   Date                   5000 non-null   object \n",
      " 1   Time                   5000 non-null   object \n",
      " 2   Global_active_power    5000 non-null   object \n",
      " 3   Global_reactive_power  5000 non-null   object \n",
      " 4   Voltage                5000 non-null   object \n",
      " 5   Global_intensity       5000 non-null   object \n",
      " 6   Sub_metering_1         5000 non-null   object \n",
      " 7   Sub_metering_2         5000 non-null   object \n",
      " 8   Sub_metering_3         5000 non-null   float64\n",
      "dtypes: float64(1), object(8)\n",
      "memory usage: 390.6+ KB\n"
     ]
    }
   ],
   "source": [
    "df.info()"
   ]
  },
  {
   "cell_type": "code",
   "execution_count": 15,
   "id": "8bfc05f2",
   "metadata": {},
   "outputs": [
    {
     "data": {
      "text/html": [
       "<div>\n",
       "<style scoped>\n",
       "    .dataframe tbody tr th:only-of-type {\n",
       "        vertical-align: middle;\n",
       "    }\n",
       "\n",
       "    .dataframe tbody tr th {\n",
       "        vertical-align: top;\n",
       "    }\n",
       "\n",
       "    .dataframe thead th {\n",
       "        text-align: right;\n",
       "    }\n",
       "</style>\n",
       "<table border=\"1\" class=\"dataframe\">\n",
       "  <thead>\n",
       "    <tr style=\"text-align: right;\">\n",
       "      <th></th>\n",
       "      <th>Date</th>\n",
       "      <th>Time</th>\n",
       "      <th>Global_active_power</th>\n",
       "      <th>Global_reactive_power</th>\n",
       "      <th>Voltage</th>\n",
       "      <th>Global_intensity</th>\n",
       "      <th>Sub_metering_1</th>\n",
       "      <th>Sub_metering_2</th>\n",
       "      <th>Sub_metering_3</th>\n",
       "    </tr>\n",
       "  </thead>\n",
       "  <tbody>\n",
       "    <tr>\n",
       "      <th>58522</th>\n",
       "      <td>26/1/2007</td>\n",
       "      <td>08:46:00</td>\n",
       "      <td>0.806</td>\n",
       "      <td>0.084</td>\n",
       "      <td>242.670</td>\n",
       "      <td>3.600</td>\n",
       "      <td>0.000</td>\n",
       "      <td>0.000</td>\n",
       "      <td>0.0</td>\n",
       "    </tr>\n",
       "    <tr>\n",
       "      <th>1792862</th>\n",
       "      <td>14/5/2010</td>\n",
       "      <td>18:26:00</td>\n",
       "      <td>1.666</td>\n",
       "      <td>0.094</td>\n",
       "      <td>239.920</td>\n",
       "      <td>6.800</td>\n",
       "      <td>0.000</td>\n",
       "      <td>0.000</td>\n",
       "      <td>18.0</td>\n",
       "    </tr>\n",
       "    <tr>\n",
       "      <th>616638</th>\n",
       "      <td>17/2/2008</td>\n",
       "      <td>22:42:00</td>\n",
       "      <td>0.872</td>\n",
       "      <td>0.102</td>\n",
       "      <td>241.750</td>\n",
       "      <td>3.600</td>\n",
       "      <td>0.000</td>\n",
       "      <td>0.000</td>\n",
       "      <td>0.0</td>\n",
       "    </tr>\n",
       "    <tr>\n",
       "      <th>1186055</th>\n",
       "      <td>19/3/2009</td>\n",
       "      <td>08:59:00</td>\n",
       "      <td>1.460</td>\n",
       "      <td>0.190</td>\n",
       "      <td>240.810</td>\n",
       "      <td>6.000</td>\n",
       "      <td>0.000</td>\n",
       "      <td>0.000</td>\n",
       "      <td>17.0</td>\n",
       "    </tr>\n",
       "    <tr>\n",
       "      <th>148583</th>\n",
       "      <td>29/3/2007</td>\n",
       "      <td>21:47:00</td>\n",
       "      <td>2.902</td>\n",
       "      <td>0.326</td>\n",
       "      <td>239.910</td>\n",
       "      <td>12.000</td>\n",
       "      <td>2.000</td>\n",
       "      <td>1.000</td>\n",
       "      <td>18.0</td>\n",
       "    </tr>\n",
       "  </tbody>\n",
       "</table>\n",
       "</div>"
      ],
      "text/plain": [
       "              Date      Time Global_active_power Global_reactive_power  \\\n",
       "58522    26/1/2007  08:46:00               0.806                 0.084   \n",
       "1792862  14/5/2010  18:26:00               1.666                 0.094   \n",
       "616638   17/2/2008  22:42:00               0.872                 0.102   \n",
       "1186055  19/3/2009  08:59:00               1.460                 0.190   \n",
       "148583   29/3/2007  21:47:00               2.902                 0.326   \n",
       "\n",
       "         Voltage Global_intensity Sub_metering_1 Sub_metering_2  \\\n",
       "58522    242.670            3.600          0.000          0.000   \n",
       "1792862  239.920            6.800          0.000          0.000   \n",
       "616638   241.750            3.600          0.000          0.000   \n",
       "1186055  240.810            6.000          0.000          0.000   \n",
       "148583   239.910           12.000          2.000          1.000   \n",
       "\n",
       "         Sub_metering_3  \n",
       "58522               0.0  \n",
       "1792862            18.0  \n",
       "616638              0.0  \n",
       "1186055            17.0  \n",
       "148583             18.0  "
      ]
     },
     "execution_count": 15,
     "metadata": {},
     "output_type": "execute_result"
    }
   ],
   "source": [
    "df.head()"
   ]
  },
  {
   "cell_type": "code",
   "execution_count": 16,
   "id": "3f41e0ca",
   "metadata": {},
   "outputs": [],
   "source": [
    "df = df.replace(['?'],'NaN')"
   ]
  },
  {
   "cell_type": "code",
   "execution_count": 17,
   "id": "729c52f4",
   "metadata": {},
   "outputs": [
    {
     "data": {
      "text/plain": [
       "NaN      77\n",
       "0.252    28\n",
       "0.216    26\n",
       "0.290    26\n",
       "0.336    25\n",
       "         ..\n",
       "2.940     1\n",
       "3.854     1\n",
       "2.760     1\n",
       "0.61      1\n",
       "0.556     1\n",
       "Name: Global_active_power, Length: 1458, dtype: int64"
      ]
     },
     "execution_count": 17,
     "metadata": {},
     "output_type": "execute_result"
    }
   ],
   "source": [
    "df['Global_active_power'].value_counts()"
   ]
  },
  {
   "cell_type": "code",
   "execution_count": 18,
   "id": "d669f6e3",
   "metadata": {},
   "outputs": [],
   "source": [
    "df['Global_active_power'] = df['Global_active_power'].astype(float)"
   ]
  },
  {
   "cell_type": "code",
   "execution_count": 19,
   "id": "246c0720",
   "metadata": {},
   "outputs": [
    {
     "data": {
      "text/plain": [
       "1.096240097501527"
      ]
     },
     "execution_count": 19,
     "metadata": {},
     "output_type": "execute_result"
    }
   ],
   "source": [
    "df['Global_active_power'].mean()"
   ]
  },
  {
   "cell_type": "code",
   "execution_count": 20,
   "id": "dde983a8",
   "metadata": {},
   "outputs": [],
   "source": [
    "df['Global_active_power'] = df['Global_active_power'].replace('NaN', '1.09')"
   ]
  },
  {
   "cell_type": "code",
   "execution_count": 21,
   "id": "e9fcff87",
   "metadata": {},
   "outputs": [
    {
     "data": {
      "text/plain": [
       "0.000    1119\n",
       "NaN        77\n",
       "0.102      61\n",
       "0.106      57\n",
       "0.096      56\n",
       "         ... \n",
       "0.412       1\n",
       "0.058       1\n",
       "0.302       1\n",
       "0.084       1\n",
       "0.26        1\n",
       "Name: Global_reactive_power, Length: 317, dtype: int64"
      ]
     },
     "execution_count": 21,
     "metadata": {},
     "output_type": "execute_result"
    }
   ],
   "source": [
    "df['Global_reactive_power'].value_counts()"
   ]
  },
  {
   "cell_type": "code",
   "execution_count": 22,
   "id": "35fa3368",
   "metadata": {},
   "outputs": [],
   "source": [
    "df['Global_reactive_power'] = df['Global_reactive_power'].astype(float)"
   ]
  },
  {
   "cell_type": "code",
   "execution_count": 23,
   "id": "ac54bbd4",
   "metadata": {},
   "outputs": [
    {
     "data": {
      "text/plain": [
       "0.12397765590087347"
      ]
     },
     "execution_count": 23,
     "metadata": {},
     "output_type": "execute_result"
    }
   ],
   "source": [
    "df['Global_reactive_power'].mean()"
   ]
  },
  {
   "cell_type": "code",
   "execution_count": 24,
   "id": "36a5ee42",
   "metadata": {},
   "outputs": [],
   "source": [
    "df['Global_reactive_power'] = df['Global_reactive_power'].replace('NaN', '0.12')"
   ]
  },
  {
   "cell_type": "code",
   "execution_count": 25,
   "id": "9f80ce72",
   "metadata": {},
   "outputs": [
    {
     "data": {
      "text/plain": [
       "NaN        77\n",
       "243.170    14\n",
       "240.170    13\n",
       "240.300    13\n",
       "240.900    13\n",
       "           ..\n",
       "237.300     1\n",
       "235.720     1\n",
       "239.49      1\n",
       "250.960     1\n",
       "244.380     1\n",
       "Name: Voltage, Length: 1464, dtype: int64"
      ]
     },
     "execution_count": 25,
     "metadata": {},
     "output_type": "execute_result"
    }
   ],
   "source": [
    "df['Voltage'].value_counts()"
   ]
  },
  {
   "cell_type": "code",
   "execution_count": 26,
   "id": "f4fed422",
   "metadata": {},
   "outputs": [],
   "source": [
    "df['Voltage'] = df['Voltage'].astype(float)"
   ]
  },
  {
   "cell_type": "code",
   "execution_count": 27,
   "id": "ea83fab9",
   "metadata": {},
   "outputs": [
    {
     "data": {
      "text/plain": [
       "240.79564086938825"
      ]
     },
     "execution_count": 27,
     "metadata": {},
     "output_type": "execute_result"
    }
   ],
   "source": [
    "df['Voltage'].mean()"
   ]
  },
  {
   "cell_type": "code",
   "execution_count": 28,
   "id": "960f92aa",
   "metadata": {},
   "outputs": [],
   "source": [
    "df['Voltage'] = df['Voltage'].replace('NaN', '240.83')"
   ]
  },
  {
   "cell_type": "code",
   "execution_count": 29,
   "id": "8ad18afc",
   "metadata": {},
   "outputs": [
    {
     "data": {
      "text/plain": [
       "1.000     427\n",
       "1.400     368\n",
       "1.200     355\n",
       "1.600     282\n",
       "1.800     202\n",
       "         ... \n",
       "26.600      1\n",
       "19.0        1\n",
       "29.400      1\n",
       "18.0        1\n",
       "24.000      1\n",
       "Name: Global_intensity, Length: 182, dtype: int64"
      ]
     },
     "execution_count": 29,
     "metadata": {},
     "output_type": "execute_result"
    }
   ],
   "source": [
    "df['Global_intensity'].value_counts()"
   ]
  },
  {
   "cell_type": "code",
   "execution_count": 30,
   "id": "28f845f0",
   "metadata": {},
   "outputs": [
    {
     "data": {
      "text/plain": [
       "0.000     4402\n",
       "1.000      188\n",
       "0.0         96\n",
       "NaN         77\n",
       "2.000       52\n",
       "38.000      40\n",
       "37.000      35\n",
       "39.000      19\n",
       "36.000      14\n",
       "1.0         10\n",
       "28.000       4\n",
       "20.000       3\n",
       "32.000       3\n",
       "35.000       3\n",
       "40.000       3\n",
       "11.000       3\n",
       "44.000       3\n",
       "13.000       2\n",
       "25.000       2\n",
       "36.0         2\n",
       "15.000       2\n",
       "14.000       2\n",
       "21.000       2\n",
       "43.000       2\n",
       "22.000       1\n",
       "19.000       1\n",
       "12.000       1\n",
       "3.000        1\n",
       "8.000        1\n",
       "47.000       1\n",
       "71.000       1\n",
       "34.000       1\n",
       "31.000       1\n",
       "18.000       1\n",
       "33.000       1\n",
       "10.000       1\n",
       "30.000       1\n",
       "70.000       1\n",
       "2.0          1\n",
       "16.0         1\n",
       "27.000       1\n",
       "30.0         1\n",
       "32.0         1\n",
       "37.0         1\n",
       "48.0         1\n",
       "29.000       1\n",
       "53.000       1\n",
       "76.000       1\n",
       "75.000       1\n",
       "9.000        1\n",
       "16.000       1\n",
       "46.000       1\n",
       "17.000       1\n",
       "23.000       1\n",
       "78.000       1\n",
       "Name: Sub_metering_1, dtype: int64"
      ]
     },
     "execution_count": 30,
     "metadata": {},
     "output_type": "execute_result"
    }
   ],
   "source": [
    "df['Sub_metering_1'].value_counts()"
   ]
  },
  {
   "cell_type": "code",
   "execution_count": 31,
   "id": "2ed50c86",
   "metadata": {},
   "outputs": [],
   "source": [
    "df['Sub_metering_1'] = df['Sub_metering_1'].astype(float)"
   ]
  },
  {
   "cell_type": "code",
   "execution_count": 32,
   "id": "ca59269b",
   "metadata": {},
   "outputs": [
    {
     "data": {
      "text/plain": [
       "1.2951452366443226"
      ]
     },
     "execution_count": 32,
     "metadata": {},
     "output_type": "execute_result"
    }
   ],
   "source": [
    "df['Sub_metering_1'].mean()"
   ]
  },
  {
   "cell_type": "code",
   "execution_count": 33,
   "id": "42f7e14b",
   "metadata": {},
   "outputs": [],
   "source": [
    "df['Sub_metering_1'] = df['Sub_metering_1'].replace('NaN', '1.24')"
   ]
  },
  {
   "cell_type": "code",
   "execution_count": 34,
   "id": "85b52835",
   "metadata": {},
   "outputs": [
    {
     "data": {
      "text/plain": [
       "0.000     3375\n",
       "1.000      881\n",
       "2.000      363\n",
       "NaN         77\n",
       "0.0         75\n",
       "1.0         31\n",
       "3.000       18\n",
       "38.000      17\n",
       "5.000       17\n",
       "4.000       16\n",
       "37.000      15\n",
       "36.000      13\n",
       "35.000       8\n",
       "33.000       8\n",
       "6.000        7\n",
       "27.000       6\n",
       "23.000       5\n",
       "2.0          5\n",
       "13.000       4\n",
       "19.000       4\n",
       "39.000       4\n",
       "28.000       3\n",
       "31.000       3\n",
       "29.000       3\n",
       "73.000       2\n",
       "40.000       2\n",
       "18.000       2\n",
       "8.000        2\n",
       "7.000        2\n",
       "71.000       2\n",
       "15.000       2\n",
       "32.000       2\n",
       "30.000       2\n",
       "41.000       2\n",
       "14.000       2\n",
       "17.000       2\n",
       "34.000       1\n",
       "12.000       1\n",
       "75.000       1\n",
       "25.000       1\n",
       "22.000       1\n",
       "69.000       1\n",
       "24.000       1\n",
       "3.0          1\n",
       "16.000       1\n",
       "5.0          1\n",
       "65.000       1\n",
       "70.000       1\n",
       "79.000       1\n",
       "26.000       1\n",
       "77.000       1\n",
       "20.000       1\n",
       "72.000       1\n",
       "75.0         1\n",
       "Name: Sub_metering_2, dtype: int64"
      ]
     },
     "execution_count": 34,
     "metadata": {},
     "output_type": "execute_result"
    }
   ],
   "source": [
    "df['Sub_metering_2'].value_counts()"
   ]
  },
  {
   "cell_type": "code",
   "execution_count": 35,
   "id": "6fa6c733",
   "metadata": {},
   "outputs": [],
   "source": [
    "df['Sub_metering_2'] = df['Sub_metering_2'].astype(float)"
   ]
  },
  {
   "cell_type": "code",
   "execution_count": 36,
   "id": "b3991c53",
   "metadata": {},
   "outputs": [
    {
     "data": {
      "text/plain": [
       "1.3065204143814748"
      ]
     },
     "execution_count": 36,
     "metadata": {},
     "output_type": "execute_result"
    }
   ],
   "source": [
    "df['Sub_metering_2'].mean()"
   ]
  },
  {
   "cell_type": "code",
   "execution_count": 37,
   "id": "ae2ac976",
   "metadata": {},
   "outputs": [],
   "source": [
    "df['Sub_metering_2'] = df['Sub_metering_2'].replace('NaN', '1.28')"
   ]
  },
  {
   "cell_type": "code",
   "execution_count": 38,
   "id": "f290336a",
   "metadata": {},
   "outputs": [
    {
     "data": {
      "text/plain": [
       "0.00     2014\n",
       "1.00     1121\n",
       "18.00     898\n",
       "17.00     407\n",
       "19.00     274\n",
       "6.45       77\n",
       "16.00      42\n",
       "12.00      35\n",
       "11.00      17\n",
       "13.00      14\n",
       "29.00      11\n",
       "20.00       9\n",
       "6.00        8\n",
       "2.00        7\n",
       "5.00        6\n",
       "7.00        6\n",
       "28.00       6\n",
       "8.00        5\n",
       "26.00       5\n",
       "21.00       4\n",
       "9.00        4\n",
       "22.00       4\n",
       "30.00       4\n",
       "4.00        3\n",
       "27.00       3\n",
       "3.00        3\n",
       "14.00       3\n",
       "15.00       2\n",
       "25.00       2\n",
       "10.00       2\n",
       "23.00       2\n",
       "31.00       1\n",
       "24.00       1\n",
       "Name: Sub_metering_3, dtype: int64"
      ]
     },
     "execution_count": 38,
     "metadata": {},
     "output_type": "execute_result"
    }
   ],
   "source": [
    "df['Sub_metering_3'].value_counts()"
   ]
  },
  {
   "cell_type": "code",
   "execution_count": 39,
   "id": "52d1c392",
   "metadata": {},
   "outputs": [
    {
     "data": {
      "text/plain": [
       "1.000     427\n",
       "1.400     368\n",
       "1.200     355\n",
       "1.600     282\n",
       "1.800     202\n",
       "         ... \n",
       "26.600      1\n",
       "19.0        1\n",
       "29.400      1\n",
       "18.0        1\n",
       "24.000      1\n",
       "Name: Global_intensity, Length: 182, dtype: int64"
      ]
     },
     "execution_count": 39,
     "metadata": {},
     "output_type": "execute_result"
    }
   ],
   "source": [
    "df['Global_intensity'].value_counts()"
   ]
  },
  {
   "cell_type": "code",
   "execution_count": 40,
   "id": "c1285681",
   "metadata": {},
   "outputs": [],
   "source": [
    "df['Global_intensity'] = df['Global_intensity'].astype(float)"
   ]
  },
  {
   "cell_type": "code",
   "execution_count": 41,
   "id": "e494f846",
   "metadata": {},
   "outputs": [],
   "source": [
    "df[\"Date\"] = pd.to_datetime(df.Date + ' ' + df.Time)"
   ]
  },
  {
   "cell_type": "code",
   "execution_count": 42,
   "id": "2a67eb3a",
   "metadata": {},
   "outputs": [
    {
     "name": "stdout",
     "output_type": "stream",
     "text": [
      "<class 'pandas.core.frame.DataFrame'>\n",
      "Int64Index: 5000 entries, 58522 to 2031444\n",
      "Data columns (total 9 columns):\n",
      " #   Column                 Non-Null Count  Dtype         \n",
      "---  ------                 --------------  -----         \n",
      " 0   Date                   5000 non-null   datetime64[ns]\n",
      " 1   Time                   5000 non-null   object        \n",
      " 2   Global_active_power    4923 non-null   float64       \n",
      " 3   Global_reactive_power  4923 non-null   float64       \n",
      " 4   Voltage                4923 non-null   float64       \n",
      " 5   Global_intensity       4923 non-null   float64       \n",
      " 6   Sub_metering_1         4923 non-null   float64       \n",
      " 7   Sub_metering_2         4923 non-null   float64       \n",
      " 8   Sub_metering_3         5000 non-null   float64       \n",
      "dtypes: datetime64[ns](1), float64(7), object(1)\n",
      "memory usage: 390.6+ KB\n"
     ]
    }
   ],
   "source": [
    "df.info()"
   ]
  },
  {
   "cell_type": "code",
   "execution_count": 43,
   "id": "8e282226",
   "metadata": {},
   "outputs": [
    {
     "data": {
      "text/html": [
       "<div>\n",
       "<style scoped>\n",
       "    .dataframe tbody tr th:only-of-type {\n",
       "        vertical-align: middle;\n",
       "    }\n",
       "\n",
       "    .dataframe tbody tr th {\n",
       "        vertical-align: top;\n",
       "    }\n",
       "\n",
       "    .dataframe thead th {\n",
       "        text-align: right;\n",
       "    }\n",
       "</style>\n",
       "<table border=\"1\" class=\"dataframe\">\n",
       "  <thead>\n",
       "    <tr style=\"text-align: right;\">\n",
       "      <th></th>\n",
       "      <th>Date</th>\n",
       "      <th>Time</th>\n",
       "      <th>Global_active_power</th>\n",
       "      <th>Global_reactive_power</th>\n",
       "      <th>Voltage</th>\n",
       "      <th>Global_intensity</th>\n",
       "      <th>Sub_metering_1</th>\n",
       "      <th>Sub_metering_2</th>\n",
       "      <th>Sub_metering_3</th>\n",
       "    </tr>\n",
       "  </thead>\n",
       "  <tbody>\n",
       "    <tr>\n",
       "      <th>58522</th>\n",
       "      <td>2007-01-26 08:46:00</td>\n",
       "      <td>08:46:00</td>\n",
       "      <td>0.806</td>\n",
       "      <td>0.084</td>\n",
       "      <td>242.67</td>\n",
       "      <td>3.6</td>\n",
       "      <td>0.0</td>\n",
       "      <td>0.0</td>\n",
       "      <td>0.0</td>\n",
       "    </tr>\n",
       "    <tr>\n",
       "      <th>1792862</th>\n",
       "      <td>2010-05-14 18:26:00</td>\n",
       "      <td>18:26:00</td>\n",
       "      <td>1.666</td>\n",
       "      <td>0.094</td>\n",
       "      <td>239.92</td>\n",
       "      <td>6.8</td>\n",
       "      <td>0.0</td>\n",
       "      <td>0.0</td>\n",
       "      <td>18.0</td>\n",
       "    </tr>\n",
       "    <tr>\n",
       "      <th>616638</th>\n",
       "      <td>2008-02-17 22:42:00</td>\n",
       "      <td>22:42:00</td>\n",
       "      <td>0.872</td>\n",
       "      <td>0.102</td>\n",
       "      <td>241.75</td>\n",
       "      <td>3.6</td>\n",
       "      <td>0.0</td>\n",
       "      <td>0.0</td>\n",
       "      <td>0.0</td>\n",
       "    </tr>\n",
       "    <tr>\n",
       "      <th>1186055</th>\n",
       "      <td>2009-03-19 08:59:00</td>\n",
       "      <td>08:59:00</td>\n",
       "      <td>1.460</td>\n",
       "      <td>0.190</td>\n",
       "      <td>240.81</td>\n",
       "      <td>6.0</td>\n",
       "      <td>0.0</td>\n",
       "      <td>0.0</td>\n",
       "      <td>17.0</td>\n",
       "    </tr>\n",
       "    <tr>\n",
       "      <th>148583</th>\n",
       "      <td>2007-03-29 21:47:00</td>\n",
       "      <td>21:47:00</td>\n",
       "      <td>2.902</td>\n",
       "      <td>0.326</td>\n",
       "      <td>239.91</td>\n",
       "      <td>12.0</td>\n",
       "      <td>2.0</td>\n",
       "      <td>1.0</td>\n",
       "      <td>18.0</td>\n",
       "    </tr>\n",
       "  </tbody>\n",
       "</table>\n",
       "</div>"
      ],
      "text/plain": [
       "                       Date      Time  Global_active_power  \\\n",
       "58522   2007-01-26 08:46:00  08:46:00                0.806   \n",
       "1792862 2010-05-14 18:26:00  18:26:00                1.666   \n",
       "616638  2008-02-17 22:42:00  22:42:00                0.872   \n",
       "1186055 2009-03-19 08:59:00  08:59:00                1.460   \n",
       "148583  2007-03-29 21:47:00  21:47:00                2.902   \n",
       "\n",
       "         Global_reactive_power  Voltage  Global_intensity  Sub_metering_1  \\\n",
       "58522                    0.084   242.67               3.6             0.0   \n",
       "1792862                  0.094   239.92               6.8             0.0   \n",
       "616638                   0.102   241.75               3.6             0.0   \n",
       "1186055                  0.190   240.81               6.0             0.0   \n",
       "148583                   0.326   239.91              12.0             2.0   \n",
       "\n",
       "         Sub_metering_2  Sub_metering_3  \n",
       "58522               0.0             0.0  \n",
       "1792862             0.0            18.0  \n",
       "616638              0.0             0.0  \n",
       "1186055             0.0            17.0  \n",
       "148583              1.0            18.0  "
      ]
     },
     "execution_count": 43,
     "metadata": {},
     "output_type": "execute_result"
    }
   ],
   "source": [
    "df.head()"
   ]
  },
  {
   "cell_type": "code",
   "execution_count": 44,
   "id": "2da855b7",
   "metadata": {},
   "outputs": [],
   "source": [
    "df.drop(['Time'], axis=1, inplace=True)"
   ]
  },
  {
   "cell_type": "code",
   "execution_count": 45,
   "id": "d687721c",
   "metadata": {},
   "outputs": [
    {
     "data": {
      "text/html": [
       "<div>\n",
       "<style scoped>\n",
       "    .dataframe tbody tr th:only-of-type {\n",
       "        vertical-align: middle;\n",
       "    }\n",
       "\n",
       "    .dataframe tbody tr th {\n",
       "        vertical-align: top;\n",
       "    }\n",
       "\n",
       "    .dataframe thead th {\n",
       "        text-align: right;\n",
       "    }\n",
       "</style>\n",
       "<table border=\"1\" class=\"dataframe\">\n",
       "  <thead>\n",
       "    <tr style=\"text-align: right;\">\n",
       "      <th></th>\n",
       "      <th>Date</th>\n",
       "      <th>Global_active_power</th>\n",
       "      <th>Global_reactive_power</th>\n",
       "      <th>Voltage</th>\n",
       "      <th>Global_intensity</th>\n",
       "      <th>Sub_metering_1</th>\n",
       "      <th>Sub_metering_2</th>\n",
       "      <th>Sub_metering_3</th>\n",
       "    </tr>\n",
       "  </thead>\n",
       "  <tbody>\n",
       "    <tr>\n",
       "      <th>58522</th>\n",
       "      <td>2007-01-26 08:46:00</td>\n",
       "      <td>0.806</td>\n",
       "      <td>0.084</td>\n",
       "      <td>242.67</td>\n",
       "      <td>3.6</td>\n",
       "      <td>0.0</td>\n",
       "      <td>0.0</td>\n",
       "      <td>0.0</td>\n",
       "    </tr>\n",
       "    <tr>\n",
       "      <th>1792862</th>\n",
       "      <td>2010-05-14 18:26:00</td>\n",
       "      <td>1.666</td>\n",
       "      <td>0.094</td>\n",
       "      <td>239.92</td>\n",
       "      <td>6.8</td>\n",
       "      <td>0.0</td>\n",
       "      <td>0.0</td>\n",
       "      <td>18.0</td>\n",
       "    </tr>\n",
       "    <tr>\n",
       "      <th>616638</th>\n",
       "      <td>2008-02-17 22:42:00</td>\n",
       "      <td>0.872</td>\n",
       "      <td>0.102</td>\n",
       "      <td>241.75</td>\n",
       "      <td>3.6</td>\n",
       "      <td>0.0</td>\n",
       "      <td>0.0</td>\n",
       "      <td>0.0</td>\n",
       "    </tr>\n",
       "    <tr>\n",
       "      <th>1186055</th>\n",
       "      <td>2009-03-19 08:59:00</td>\n",
       "      <td>1.460</td>\n",
       "      <td>0.190</td>\n",
       "      <td>240.81</td>\n",
       "      <td>6.0</td>\n",
       "      <td>0.0</td>\n",
       "      <td>0.0</td>\n",
       "      <td>17.0</td>\n",
       "    </tr>\n",
       "    <tr>\n",
       "      <th>148583</th>\n",
       "      <td>2007-03-29 21:47:00</td>\n",
       "      <td>2.902</td>\n",
       "      <td>0.326</td>\n",
       "      <td>239.91</td>\n",
       "      <td>12.0</td>\n",
       "      <td>2.0</td>\n",
       "      <td>1.0</td>\n",
       "      <td>18.0</td>\n",
       "    </tr>\n",
       "  </tbody>\n",
       "</table>\n",
       "</div>"
      ],
      "text/plain": [
       "                       Date  Global_active_power  Global_reactive_power  \\\n",
       "58522   2007-01-26 08:46:00                0.806                  0.084   \n",
       "1792862 2010-05-14 18:26:00                1.666                  0.094   \n",
       "616638  2008-02-17 22:42:00                0.872                  0.102   \n",
       "1186055 2009-03-19 08:59:00                1.460                  0.190   \n",
       "148583  2007-03-29 21:47:00                2.902                  0.326   \n",
       "\n",
       "         Voltage  Global_intensity  Sub_metering_1  Sub_metering_2  \\\n",
       "58522     242.67               3.6             0.0             0.0   \n",
       "1792862   239.92               6.8             0.0             0.0   \n",
       "616638    241.75               3.6             0.0             0.0   \n",
       "1186055   240.81               6.0             0.0             0.0   \n",
       "148583    239.91              12.0             2.0             1.0   \n",
       "\n",
       "         Sub_metering_3  \n",
       "58522               0.0  \n",
       "1792862            18.0  \n",
       "616638              0.0  \n",
       "1186055            17.0  \n",
       "148583             18.0  "
      ]
     },
     "execution_count": 45,
     "metadata": {},
     "output_type": "execute_result"
    }
   ],
   "source": [
    "df.head()"
   ]
  },
  {
   "cell_type": "code",
   "execution_count": 46,
   "id": "891ad433",
   "metadata": {},
   "outputs": [],
   "source": [
    "df['Energy_Consumed'] = df['Global_active_power']*1000/60 - df['Sub_metering_1'] - df['Sub_metering_2'] - df['Sub_metering_3']"
   ]
  },
  {
   "cell_type": "code",
   "execution_count": 47,
   "id": "0f0bd848",
   "metadata": {},
   "outputs": [
    {
     "data": {
      "text/html": [
       "<div>\n",
       "<style scoped>\n",
       "    .dataframe tbody tr th:only-of-type {\n",
       "        vertical-align: middle;\n",
       "    }\n",
       "\n",
       "    .dataframe tbody tr th {\n",
       "        vertical-align: top;\n",
       "    }\n",
       "\n",
       "    .dataframe thead th {\n",
       "        text-align: right;\n",
       "    }\n",
       "</style>\n",
       "<table border=\"1\" class=\"dataframe\">\n",
       "  <thead>\n",
       "    <tr style=\"text-align: right;\">\n",
       "      <th></th>\n",
       "      <th>Date</th>\n",
       "      <th>Global_active_power</th>\n",
       "      <th>Global_reactive_power</th>\n",
       "      <th>Voltage</th>\n",
       "      <th>Global_intensity</th>\n",
       "      <th>Sub_metering_1</th>\n",
       "      <th>Sub_metering_2</th>\n",
       "      <th>Sub_metering_3</th>\n",
       "      <th>Energy_Consumed</th>\n",
       "    </tr>\n",
       "  </thead>\n",
       "  <tbody>\n",
       "    <tr>\n",
       "      <th>58522</th>\n",
       "      <td>2007-01-26 08:46:00</td>\n",
       "      <td>0.806</td>\n",
       "      <td>0.084</td>\n",
       "      <td>242.67</td>\n",
       "      <td>3.6</td>\n",
       "      <td>0.0</td>\n",
       "      <td>0.0</td>\n",
       "      <td>0.0</td>\n",
       "      <td>13.433333</td>\n",
       "    </tr>\n",
       "    <tr>\n",
       "      <th>1792862</th>\n",
       "      <td>2010-05-14 18:26:00</td>\n",
       "      <td>1.666</td>\n",
       "      <td>0.094</td>\n",
       "      <td>239.92</td>\n",
       "      <td>6.8</td>\n",
       "      <td>0.0</td>\n",
       "      <td>0.0</td>\n",
       "      <td>18.0</td>\n",
       "      <td>9.766667</td>\n",
       "    </tr>\n",
       "    <tr>\n",
       "      <th>616638</th>\n",
       "      <td>2008-02-17 22:42:00</td>\n",
       "      <td>0.872</td>\n",
       "      <td>0.102</td>\n",
       "      <td>241.75</td>\n",
       "      <td>3.6</td>\n",
       "      <td>0.0</td>\n",
       "      <td>0.0</td>\n",
       "      <td>0.0</td>\n",
       "      <td>14.533333</td>\n",
       "    </tr>\n",
       "    <tr>\n",
       "      <th>1186055</th>\n",
       "      <td>2009-03-19 08:59:00</td>\n",
       "      <td>1.460</td>\n",
       "      <td>0.190</td>\n",
       "      <td>240.81</td>\n",
       "      <td>6.0</td>\n",
       "      <td>0.0</td>\n",
       "      <td>0.0</td>\n",
       "      <td>17.0</td>\n",
       "      <td>7.333333</td>\n",
       "    </tr>\n",
       "    <tr>\n",
       "      <th>148583</th>\n",
       "      <td>2007-03-29 21:47:00</td>\n",
       "      <td>2.902</td>\n",
       "      <td>0.326</td>\n",
       "      <td>239.91</td>\n",
       "      <td>12.0</td>\n",
       "      <td>2.0</td>\n",
       "      <td>1.0</td>\n",
       "      <td>18.0</td>\n",
       "      <td>27.366667</td>\n",
       "    </tr>\n",
       "  </tbody>\n",
       "</table>\n",
       "</div>"
      ],
      "text/plain": [
       "                       Date  Global_active_power  Global_reactive_power  \\\n",
       "58522   2007-01-26 08:46:00                0.806                  0.084   \n",
       "1792862 2010-05-14 18:26:00                1.666                  0.094   \n",
       "616638  2008-02-17 22:42:00                0.872                  0.102   \n",
       "1186055 2009-03-19 08:59:00                1.460                  0.190   \n",
       "148583  2007-03-29 21:47:00                2.902                  0.326   \n",
       "\n",
       "         Voltage  Global_intensity  Sub_metering_1  Sub_metering_2  \\\n",
       "58522     242.67               3.6             0.0             0.0   \n",
       "1792862   239.92               6.8             0.0             0.0   \n",
       "616638    241.75               3.6             0.0             0.0   \n",
       "1186055   240.81               6.0             0.0             0.0   \n",
       "148583    239.91              12.0             2.0             1.0   \n",
       "\n",
       "         Sub_metering_3  Energy_Consumed  \n",
       "58522               0.0        13.433333  \n",
       "1792862            18.0         9.766667  \n",
       "616638              0.0        14.533333  \n",
       "1186055            17.0         7.333333  \n",
       "148583             18.0        27.366667  "
      ]
     },
     "execution_count": 47,
     "metadata": {},
     "output_type": "execute_result"
    }
   ],
   "source": [
    "df.head()"
   ]
  },
  {
   "cell_type": "code",
   "execution_count": 48,
   "id": "bad089d4",
   "metadata": {},
   "outputs": [
    {
     "name": "stdout",
     "output_type": "stream",
     "text": [
      "<class 'pandas.core.frame.DataFrame'>\n",
      "Int64Index: 5000 entries, 58522 to 2031444\n",
      "Data columns (total 9 columns):\n",
      " #   Column                 Non-Null Count  Dtype         \n",
      "---  ------                 --------------  -----         \n",
      " 0   Date                   5000 non-null   datetime64[ns]\n",
      " 1   Global_active_power    4923 non-null   float64       \n",
      " 2   Global_reactive_power  4923 non-null   float64       \n",
      " 3   Voltage                4923 non-null   float64       \n",
      " 4   Global_intensity       4923 non-null   float64       \n",
      " 5   Sub_metering_1         4923 non-null   float64       \n",
      " 6   Sub_metering_2         4923 non-null   float64       \n",
      " 7   Sub_metering_3         5000 non-null   float64       \n",
      " 8   Energy_Consumed        4923 non-null   float64       \n",
      "dtypes: datetime64[ns](1), float64(8)\n",
      "memory usage: 390.6 KB\n"
     ]
    }
   ],
   "source": [
    "df.info()"
   ]
  },
  {
   "cell_type": "code",
   "execution_count": 49,
   "id": "3fd8d9b1",
   "metadata": {},
   "outputs": [
    {
     "data": {
      "text/plain": [
       "Date                      0\n",
       "Global_active_power      77\n",
       "Global_reactive_power    77\n",
       "Voltage                  77\n",
       "Global_intensity         77\n",
       "Sub_metering_1           77\n",
       "Sub_metering_2           77\n",
       "Sub_metering_3            0\n",
       "Energy_Consumed          77\n",
       "dtype: int64"
      ]
     },
     "execution_count": 49,
     "metadata": {},
     "output_type": "execute_result"
    }
   ],
   "source": [
    "df.isnull().sum()"
   ]
  },
  {
   "cell_type": "code",
   "execution_count": 50,
   "id": "496b15c5",
   "metadata": {},
   "outputs": [],
   "source": [
    "df.dropna(axis=0, inplace=True)"
   ]
  },
  {
   "cell_type": "code",
   "execution_count": 51,
   "id": "85335142",
   "metadata": {},
   "outputs": [
    {
     "data": {
      "text/plain": [
       "(4923, 9)"
      ]
     },
     "execution_count": 51,
     "metadata": {},
     "output_type": "execute_result"
    }
   ],
   "source": [
    "df.shape"
   ]
  },
  {
   "cell_type": "code",
   "execution_count": 52,
   "id": "909c1a44",
   "metadata": {},
   "outputs": [
    {
     "data": {
      "text/plain": [
       "Date                     0\n",
       "Global_active_power      0\n",
       "Global_reactive_power    0\n",
       "Voltage                  0\n",
       "Global_intensity         0\n",
       "Sub_metering_1           0\n",
       "Sub_metering_2           0\n",
       "Sub_metering_3           0\n",
       "Energy_Consumed          0\n",
       "dtype: int64"
      ]
     },
     "execution_count": 52,
     "metadata": {},
     "output_type": "execute_result"
    }
   ],
   "source": [
    "df.isnull().sum()"
   ]
  },
  {
   "cell_type": "code",
   "execution_count": 53,
   "id": "18909e6d",
   "metadata": {},
   "outputs": [
    {
     "data": {
      "text/html": [
       "<div>\n",
       "<style scoped>\n",
       "    .dataframe tbody tr th:only-of-type {\n",
       "        vertical-align: middle;\n",
       "    }\n",
       "\n",
       "    .dataframe tbody tr th {\n",
       "        vertical-align: top;\n",
       "    }\n",
       "\n",
       "    .dataframe thead th {\n",
       "        text-align: right;\n",
       "    }\n",
       "</style>\n",
       "<table border=\"1\" class=\"dataframe\">\n",
       "  <thead>\n",
       "    <tr style=\"text-align: right;\">\n",
       "      <th></th>\n",
       "      <th>Date</th>\n",
       "      <th>Global_active_power</th>\n",
       "      <th>Global_reactive_power</th>\n",
       "      <th>Voltage</th>\n",
       "      <th>Global_intensity</th>\n",
       "      <th>Sub_metering_1</th>\n",
       "      <th>Sub_metering_2</th>\n",
       "      <th>Sub_metering_3</th>\n",
       "      <th>Energy_Consumed</th>\n",
       "    </tr>\n",
       "  </thead>\n",
       "  <tbody>\n",
       "    <tr>\n",
       "      <th>58522</th>\n",
       "      <td>2007-01-26 08:46:00</td>\n",
       "      <td>0.806</td>\n",
       "      <td>0.084</td>\n",
       "      <td>242.67</td>\n",
       "      <td>3.6</td>\n",
       "      <td>0.0</td>\n",
       "      <td>0.0</td>\n",
       "      <td>0.0</td>\n",
       "      <td>13.433333</td>\n",
       "    </tr>\n",
       "    <tr>\n",
       "      <th>1792862</th>\n",
       "      <td>2010-05-14 18:26:00</td>\n",
       "      <td>1.666</td>\n",
       "      <td>0.094</td>\n",
       "      <td>239.92</td>\n",
       "      <td>6.8</td>\n",
       "      <td>0.0</td>\n",
       "      <td>0.0</td>\n",
       "      <td>18.0</td>\n",
       "      <td>9.766667</td>\n",
       "    </tr>\n",
       "    <tr>\n",
       "      <th>616638</th>\n",
       "      <td>2008-02-17 22:42:00</td>\n",
       "      <td>0.872</td>\n",
       "      <td>0.102</td>\n",
       "      <td>241.75</td>\n",
       "      <td>3.6</td>\n",
       "      <td>0.0</td>\n",
       "      <td>0.0</td>\n",
       "      <td>0.0</td>\n",
       "      <td>14.533333</td>\n",
       "    </tr>\n",
       "    <tr>\n",
       "      <th>1186055</th>\n",
       "      <td>2009-03-19 08:59:00</td>\n",
       "      <td>1.460</td>\n",
       "      <td>0.190</td>\n",
       "      <td>240.81</td>\n",
       "      <td>6.0</td>\n",
       "      <td>0.0</td>\n",
       "      <td>0.0</td>\n",
       "      <td>17.0</td>\n",
       "      <td>7.333333</td>\n",
       "    </tr>\n",
       "    <tr>\n",
       "      <th>148583</th>\n",
       "      <td>2007-03-29 21:47:00</td>\n",
       "      <td>2.902</td>\n",
       "      <td>0.326</td>\n",
       "      <td>239.91</td>\n",
       "      <td>12.0</td>\n",
       "      <td>2.0</td>\n",
       "      <td>1.0</td>\n",
       "      <td>18.0</td>\n",
       "      <td>27.366667</td>\n",
       "    </tr>\n",
       "  </tbody>\n",
       "</table>\n",
       "</div>"
      ],
      "text/plain": [
       "                       Date  Global_active_power  Global_reactive_power  \\\n",
       "58522   2007-01-26 08:46:00                0.806                  0.084   \n",
       "1792862 2010-05-14 18:26:00                1.666                  0.094   \n",
       "616638  2008-02-17 22:42:00                0.872                  0.102   \n",
       "1186055 2009-03-19 08:59:00                1.460                  0.190   \n",
       "148583  2007-03-29 21:47:00                2.902                  0.326   \n",
       "\n",
       "         Voltage  Global_intensity  Sub_metering_1  Sub_metering_2  \\\n",
       "58522     242.67               3.6             0.0             0.0   \n",
       "1792862   239.92               6.8             0.0             0.0   \n",
       "616638    241.75               3.6             0.0             0.0   \n",
       "1186055   240.81               6.0             0.0             0.0   \n",
       "148583    239.91              12.0             2.0             1.0   \n",
       "\n",
       "         Sub_metering_3  Energy_Consumed  \n",
       "58522               0.0        13.433333  \n",
       "1792862            18.0         9.766667  \n",
       "616638              0.0        14.533333  \n",
       "1186055            17.0         7.333333  \n",
       "148583             18.0        27.366667  "
      ]
     },
     "execution_count": 53,
     "metadata": {},
     "output_type": "execute_result"
    }
   ],
   "source": [
    "df.head()"
   ]
  },
  {
   "cell_type": "code",
   "execution_count": 54,
   "id": "ffe946e4",
   "metadata": {},
   "outputs": [],
   "source": [
    "df_corr = df.corr()"
   ]
  },
  {
   "cell_type": "code",
   "execution_count": 55,
   "id": "d75a931f",
   "metadata": {},
   "outputs": [
    {
     "data": {
      "text/html": [
       "<div>\n",
       "<style scoped>\n",
       "    .dataframe tbody tr th:only-of-type {\n",
       "        vertical-align: middle;\n",
       "    }\n",
       "\n",
       "    .dataframe tbody tr th {\n",
       "        vertical-align: top;\n",
       "    }\n",
       "\n",
       "    .dataframe thead th {\n",
       "        text-align: right;\n",
       "    }\n",
       "</style>\n",
       "<table border=\"1\" class=\"dataframe\">\n",
       "  <thead>\n",
       "    <tr style=\"text-align: right;\">\n",
       "      <th></th>\n",
       "      <th>Global_active_power</th>\n",
       "      <th>Global_reactive_power</th>\n",
       "      <th>Voltage</th>\n",
       "      <th>Global_intensity</th>\n",
       "      <th>Sub_metering_1</th>\n",
       "      <th>Sub_metering_2</th>\n",
       "      <th>Sub_metering_3</th>\n",
       "      <th>Energy_Consumed</th>\n",
       "    </tr>\n",
       "  </thead>\n",
       "  <tbody>\n",
       "    <tr>\n",
       "      <th>Global_active_power</th>\n",
       "      <td>1.000000</td>\n",
       "      <td>0.277657</td>\n",
       "      <td>-0.401829</td>\n",
       "      <td>0.998924</td>\n",
       "      <td>0.528175</td>\n",
       "      <td>0.440617</td>\n",
       "      <td>0.627502</td>\n",
       "      <td>0.693661</td>\n",
       "    </tr>\n",
       "    <tr>\n",
       "      <th>Global_reactive_power</th>\n",
       "      <td>0.277657</td>\n",
       "      <td>1.000000</td>\n",
       "      <td>-0.137980</td>\n",
       "      <td>0.296205</td>\n",
       "      <td>0.174607</td>\n",
       "      <td>0.117061</td>\n",
       "      <td>0.087114</td>\n",
       "      <td>0.255247</td>\n",
       "    </tr>\n",
       "    <tr>\n",
       "      <th>Voltage</th>\n",
       "      <td>-0.401829</td>\n",
       "      <td>-0.137980</td>\n",
       "      <td>1.000000</td>\n",
       "      <td>-0.412793</td>\n",
       "      <td>-0.214928</td>\n",
       "      <td>-0.152821</td>\n",
       "      <td>-0.285917</td>\n",
       "      <td>-0.261691</td>\n",
       "    </tr>\n",
       "    <tr>\n",
       "      <th>Global_intensity</th>\n",
       "      <td>0.998924</td>\n",
       "      <td>0.296205</td>\n",
       "      <td>-0.412793</td>\n",
       "      <td>1.000000</td>\n",
       "      <td>0.534811</td>\n",
       "      <td>0.443954</td>\n",
       "      <td>0.614896</td>\n",
       "      <td>0.696061</td>\n",
       "    </tr>\n",
       "    <tr>\n",
       "      <th>Sub_metering_1</th>\n",
       "      <td>0.528175</td>\n",
       "      <td>0.174607</td>\n",
       "      <td>-0.214928</td>\n",
       "      <td>0.534811</td>\n",
       "      <td>1.000000</td>\n",
       "      <td>0.054204</td>\n",
       "      <td>0.090365</td>\n",
       "      <td>0.175109</td>\n",
       "    </tr>\n",
       "    <tr>\n",
       "      <th>Sub_metering_2</th>\n",
       "      <td>0.440617</td>\n",
       "      <td>0.117061</td>\n",
       "      <td>-0.152821</td>\n",
       "      <td>0.443954</td>\n",
       "      <td>0.054204</td>\n",
       "      <td>1.000000</td>\n",
       "      <td>0.088112</td>\n",
       "      <td>0.082717</td>\n",
       "    </tr>\n",
       "    <tr>\n",
       "      <th>Sub_metering_3</th>\n",
       "      <td>0.627502</td>\n",
       "      <td>0.087114</td>\n",
       "      <td>-0.285917</td>\n",
       "      <td>0.614896</td>\n",
       "      <td>0.090365</td>\n",
       "      <td>0.088112</td>\n",
       "      <td>1.000000</td>\n",
       "      <td>0.180343</td>\n",
       "    </tr>\n",
       "    <tr>\n",
       "      <th>Energy_Consumed</th>\n",
       "      <td>0.693661</td>\n",
       "      <td>0.255247</td>\n",
       "      <td>-0.261691</td>\n",
       "      <td>0.696061</td>\n",
       "      <td>0.175109</td>\n",
       "      <td>0.082717</td>\n",
       "      <td>0.180343</td>\n",
       "      <td>1.000000</td>\n",
       "    </tr>\n",
       "  </tbody>\n",
       "</table>\n",
       "</div>"
      ],
      "text/plain": [
       "                       Global_active_power  Global_reactive_power   Voltage  \\\n",
       "Global_active_power               1.000000               0.277657 -0.401829   \n",
       "Global_reactive_power             0.277657               1.000000 -0.137980   \n",
       "Voltage                          -0.401829              -0.137980  1.000000   \n",
       "Global_intensity                  0.998924               0.296205 -0.412793   \n",
       "Sub_metering_1                    0.528175               0.174607 -0.214928   \n",
       "Sub_metering_2                    0.440617               0.117061 -0.152821   \n",
       "Sub_metering_3                    0.627502               0.087114 -0.285917   \n",
       "Energy_Consumed                   0.693661               0.255247 -0.261691   \n",
       "\n",
       "                       Global_intensity  Sub_metering_1  Sub_metering_2  \\\n",
       "Global_active_power            0.998924        0.528175        0.440617   \n",
       "Global_reactive_power          0.296205        0.174607        0.117061   \n",
       "Voltage                       -0.412793       -0.214928       -0.152821   \n",
       "Global_intensity               1.000000        0.534811        0.443954   \n",
       "Sub_metering_1                 0.534811        1.000000        0.054204   \n",
       "Sub_metering_2                 0.443954        0.054204        1.000000   \n",
       "Sub_metering_3                 0.614896        0.090365        0.088112   \n",
       "Energy_Consumed                0.696061        0.175109        0.082717   \n",
       "\n",
       "                       Sub_metering_3  Energy_Consumed  \n",
       "Global_active_power          0.627502         0.693661  \n",
       "Global_reactive_power        0.087114         0.255247  \n",
       "Voltage                     -0.285917        -0.261691  \n",
       "Global_intensity             0.614896         0.696061  \n",
       "Sub_metering_1               0.090365         0.175109  \n",
       "Sub_metering_2               0.088112         0.082717  \n",
       "Sub_metering_3               1.000000         0.180343  \n",
       "Energy_Consumed              0.180343         1.000000  "
      ]
     },
     "execution_count": 55,
     "metadata": {},
     "output_type": "execute_result"
    }
   ],
   "source": [
    "df_corr"
   ]
  },
  {
   "cell_type": "code",
   "execution_count": 56,
   "id": "d42b7867",
   "metadata": {},
   "outputs": [
    {
     "data": {
      "text/plain": [
       "<AxesSubplot:>"
      ]
     },
     "execution_count": 56,
     "metadata": {},
     "output_type": "execute_result"
    },
    {
     "data": {
      "image/png": "[encoded data removed]",
      "text/plain": [
       "<Figure size 432x288 with 2 Axes>"
      ]
     },
     "metadata": {
      "needs_background": "light"
     },
     "output_type": "display_data"
    }
   ],
   "source": [
    "sns.heatmap(df_corr)"
   ]
  },
  {
   "cell_type": "code",
   "execution_count": 57,
   "id": "12600591",
   "metadata": {},
   "outputs": [
    {
     "data": {
      "text/plain": [
       "array([13.43333333,  9.76666667, 14.53333333, ..., 55.5       ,\n",
       "       28.43333333,  9.03333333])"
      ]
     },
     "execution_count": 57,
     "metadata": {},
     "output_type": "execute_result"
    }
   ],
   "source": [
    "df['Energy_Consumed'].unique()"
   ]
  },
  {
   "cell_type": "code",
   "execution_count": 58,
   "id": "6195183f",
   "metadata": {},
   "outputs": [
    {
     "data": {
      "text/html": [
       "<div>\n",
       "<style scoped>\n",
       "    .dataframe tbody tr th:only-of-type {\n",
       "        vertical-align: middle;\n",
       "    }\n",
       "\n",
       "    .dataframe tbody tr th {\n",
       "        vertical-align: top;\n",
       "    }\n",
       "\n",
       "    .dataframe thead th {\n",
       "        text-align: right;\n",
       "    }\n",
       "</style>\n",
       "<table border=\"1\" class=\"dataframe\">\n",
       "  <thead>\n",
       "    <tr style=\"text-align: right;\">\n",
       "      <th></th>\n",
       "      <th>Date</th>\n",
       "      <th>Global_active_power</th>\n",
       "      <th>Global_reactive_power</th>\n",
       "      <th>Voltage</th>\n",
       "      <th>Global_intensity</th>\n",
       "      <th>Sub_metering_1</th>\n",
       "      <th>Sub_metering_2</th>\n",
       "      <th>Sub_metering_3</th>\n",
       "      <th>Energy_Consumed</th>\n",
       "    </tr>\n",
       "  </thead>\n",
       "  <tbody>\n",
       "    <tr>\n",
       "      <th>58522</th>\n",
       "      <td>2007-01-26 08:46:00</td>\n",
       "      <td>0.806</td>\n",
       "      <td>0.084</td>\n",
       "      <td>242.67</td>\n",
       "      <td>3.6</td>\n",
       "      <td>0.0</td>\n",
       "      <td>0.0</td>\n",
       "      <td>0.0</td>\n",
       "      <td>13.433333</td>\n",
       "    </tr>\n",
       "    <tr>\n",
       "      <th>1792862</th>\n",
       "      <td>2010-05-14 18:26:00</td>\n",
       "      <td>1.666</td>\n",
       "      <td>0.094</td>\n",
       "      <td>239.92</td>\n",
       "      <td>6.8</td>\n",
       "      <td>0.0</td>\n",
       "      <td>0.0</td>\n",
       "      <td>18.0</td>\n",
       "      <td>9.766667</td>\n",
       "    </tr>\n",
       "    <tr>\n",
       "      <th>616638</th>\n",
       "      <td>2008-02-17 22:42:00</td>\n",
       "      <td>0.872</td>\n",
       "      <td>0.102</td>\n",
       "      <td>241.75</td>\n",
       "      <td>3.6</td>\n",
       "      <td>0.0</td>\n",
       "      <td>0.0</td>\n",
       "      <td>0.0</td>\n",
       "      <td>14.533333</td>\n",
       "    </tr>\n",
       "    <tr>\n",
       "      <th>1186055</th>\n",
       "      <td>2009-03-19 08:59:00</td>\n",
       "      <td>1.460</td>\n",
       "      <td>0.190</td>\n",
       "      <td>240.81</td>\n",
       "      <td>6.0</td>\n",
       "      <td>0.0</td>\n",
       "      <td>0.0</td>\n",
       "      <td>17.0</td>\n",
       "      <td>7.333333</td>\n",
       "    </tr>\n",
       "    <tr>\n",
       "      <th>148583</th>\n",
       "      <td>2007-03-29 21:47:00</td>\n",
       "      <td>2.902</td>\n",
       "      <td>0.326</td>\n",
       "      <td>239.91</td>\n",
       "      <td>12.0</td>\n",
       "      <td>2.0</td>\n",
       "      <td>1.0</td>\n",
       "      <td>18.0</td>\n",
       "      <td>27.366667</td>\n",
       "    </tr>\n",
       "  </tbody>\n",
       "</table>\n",
       "</div>"
      ],
      "text/plain": [
       "                       Date  Global_active_power  Global_reactive_power  \\\n",
       "58522   2007-01-26 08:46:00                0.806                  0.084   \n",
       "1792862 2010-05-14 18:26:00                1.666                  0.094   \n",
       "616638  2008-02-17 22:42:00                0.872                  0.102   \n",
       "1186055 2009-03-19 08:59:00                1.460                  0.190   \n",
       "148583  2007-03-29 21:47:00                2.902                  0.326   \n",
       "\n",
       "         Voltage  Global_intensity  Sub_metering_1  Sub_metering_2  \\\n",
       "58522     242.67               3.6             0.0             0.0   \n",
       "1792862   239.92               6.8             0.0             0.0   \n",
       "616638    241.75               3.6             0.0             0.0   \n",
       "1186055   240.81               6.0             0.0             0.0   \n",
       "148583    239.91              12.0             2.0             1.0   \n",
       "\n",
       "         Sub_metering_3  Energy_Consumed  \n",
       "58522               0.0        13.433333  \n",
       "1792862            18.0         9.766667  \n",
       "616638              0.0        14.533333  \n",
       "1186055            17.0         7.333333  \n",
       "148583             18.0        27.366667  "
      ]
     },
     "execution_count": 58,
     "metadata": {},
     "output_type": "execute_result"
    }
   ],
   "source": [
    "df.head()"
   ]
  },
  {
   "cell_type": "code",
   "execution_count": 59,
   "id": "2385cd68",
   "metadata": {},
   "outputs": [],
   "source": [
    "num_atr = ['Global_active_power','Global_reactive_power','Voltage','Global_intensity','Sub_metering_1','Sub_metering_2','Sub_metering_3','Energy_Consumed']"
   ]
  },
  {
   "cell_type": "code",
   "execution_count": 60,
   "id": "af9dea88",
   "metadata": {},
   "outputs": [
    {
     "data": {
      "image/png": "[encoded data removed]",
      "text/plain": [
       "<Figure size 1440x1080 with 9 Axes>"
      ]
     },
     "metadata": {
      "needs_background": "light"
     },
     "output_type": "display_data"
    }
   ],
   "source": [
    "df[num_atr].hist(bins=40, figsize=(20,15)) \n",
    "plt.show()"
   ]
  },
  {
   "cell_type": "code",
   "execution_count": 62,
   "id": "13d08f33",
   "metadata": {},
   "outputs": [],
   "source": [
    "df.drop(['Date'], axis=1, inplace=True)"
   ]
  },
  {
   "cell_type": "code",
   "execution_count": 63,
   "id": "02aa767c",
   "metadata": {},
   "outputs": [
    {
     "data": {
      "text/html": [
       "<div>\n",
       "<style scoped>\n",
       "    .dataframe tbody tr th:only-of-type {\n",
       "        vertical-align: middle;\n",
       "    }\n",
       "\n",
       "    .dataframe tbody tr th {\n",
       "        vertical-align: top;\n",
       "    }\n",
       "\n",
       "    .dataframe thead th {\n",
       "        text-align: right;\n",
       "    }\n",
       "</style>\n",
       "<table border=\"1\" class=\"dataframe\">\n",
       "  <thead>\n",
       "    <tr style=\"text-align: right;\">\n",
       "      <th></th>\n",
       "      <th>Global_active_power</th>\n",
       "      <th>Global_reactive_power</th>\n",
       "      <th>Voltage</th>\n",
       "      <th>Global_intensity</th>\n",
       "      <th>Sub_metering_1</th>\n",
       "      <th>Sub_metering_2</th>\n",
       "      <th>Sub_metering_3</th>\n",
       "      <th>Energy_Consumed</th>\n",
       "    </tr>\n",
       "  </thead>\n",
       "  <tbody>\n",
       "    <tr>\n",
       "      <th>58522</th>\n",
       "      <td>0.806</td>\n",
       "      <td>0.084</td>\n",
       "      <td>242.67</td>\n",
       "      <td>3.6</td>\n",
       "      <td>0.0</td>\n",
       "      <td>0.0</td>\n",
       "      <td>0.0</td>\n",
       "      <td>13.433333</td>\n",
       "    </tr>\n",
       "    <tr>\n",
       "      <th>1792862</th>\n",
       "      <td>1.666</td>\n",
       "      <td>0.094</td>\n",
       "      <td>239.92</td>\n",
       "      <td>6.8</td>\n",
       "      <td>0.0</td>\n",
       "      <td>0.0</td>\n",
       "      <td>18.0</td>\n",
       "      <td>9.766667</td>\n",
       "    </tr>\n",
       "    <tr>\n",
       "      <th>616638</th>\n",
       "      <td>0.872</td>\n",
       "      <td>0.102</td>\n",
       "      <td>241.75</td>\n",
       "      <td>3.6</td>\n",
       "      <td>0.0</td>\n",
       "      <td>0.0</td>\n",
       "      <td>0.0</td>\n",
       "      <td>14.533333</td>\n",
       "    </tr>\n",
       "    <tr>\n",
       "      <th>1186055</th>\n",
       "      <td>1.460</td>\n",
       "      <td>0.190</td>\n",
       "      <td>240.81</td>\n",
       "      <td>6.0</td>\n",
       "      <td>0.0</td>\n",
       "      <td>0.0</td>\n",
       "      <td>17.0</td>\n",
       "      <td>7.333333</td>\n",
       "    </tr>\n",
       "    <tr>\n",
       "      <th>148583</th>\n",
       "      <td>2.902</td>\n",
       "      <td>0.326</td>\n",
       "      <td>239.91</td>\n",
       "      <td>12.0</td>\n",
       "      <td>2.0</td>\n",
       "      <td>1.0</td>\n",
       "      <td>18.0</td>\n",
       "      <td>27.366667</td>\n",
       "    </tr>\n",
       "  </tbody>\n",
       "</table>\n",
       "</div>"
      ],
      "text/plain": [
       "         Global_active_power  Global_reactive_power  Voltage  \\\n",
       "58522                  0.806                  0.084   242.67   \n",
       "1792862                1.666                  0.094   239.92   \n",
       "616638                 0.872                  0.102   241.75   \n",
       "1186055                1.460                  0.190   240.81   \n",
       "148583                 2.902                  0.326   239.91   \n",
       "\n",
       "         Global_intensity  Sub_metering_1  Sub_metering_2  Sub_metering_3  \\\n",
       "58522                 3.6             0.0             0.0             0.0   \n",
       "1792862               6.8             0.0             0.0            18.0   \n",
       "616638                3.6             0.0             0.0             0.0   \n",
       "1186055               6.0             0.0             0.0            17.0   \n",
       "148583               12.0             2.0             1.0            18.0   \n",
       "\n",
       "         Energy_Consumed  \n",
       "58522          13.433333  \n",
       "1792862         9.766667  \n",
       "616638         14.533333  \n",
       "1186055         7.333333  \n",
       "148583         27.366667  "
      ]
     },
     "execution_count": 63,
     "metadata": {},
     "output_type": "execute_result"
    }
   ],
   "source": [
    "df.head()"
   ]
  },
  {
   "cell_type": "code",
   "execution_count": 65,
   "id": "44840073",
   "metadata": {},
   "outputs": [
    {
     "data": {
      "text/html": [
       "<div>\n",
       "<style scoped>\n",
       "    .dataframe tbody tr th:only-of-type {\n",
       "        vertical-align: middle;\n",
       "    }\n",
       "\n",
       "    .dataframe tbody tr th {\n",
       "        vertical-align: top;\n",
       "    }\n",
       "\n",
       "    .dataframe thead th {\n",
       "        text-align: right;\n",
       "    }\n",
       "</style>\n",
       "<table border=\"1\" class=\"dataframe\">\n",
       "  <thead>\n",
       "    <tr style=\"text-align: right;\">\n",
       "      <th></th>\n",
       "      <th>Global_active_power</th>\n",
       "      <th>Global_reactive_power</th>\n",
       "      <th>Voltage</th>\n",
       "      <th>Global_intensity</th>\n",
       "      <th>Sub_metering_1</th>\n",
       "      <th>Sub_metering_2</th>\n",
       "      <th>Sub_metering_3</th>\n",
       "      <th>Energy_Consumed</th>\n",
       "    </tr>\n",
       "  </thead>\n",
       "  <tbody>\n",
       "    <tr>\n",
       "      <th>3726</th>\n",
       "      <td>-0.470547</td>\n",
       "      <td>-0.176301</td>\n",
       "      <td>0.240001</td>\n",
       "      <td>-0.496685</td>\n",
       "      <td>-0.191467</td>\n",
       "      <td>-0.216803</td>\n",
       "      <td>-0.782132</td>\n",
       "      <td>0.083301</td>\n",
       "    </tr>\n",
       "    <tr>\n",
       "      <th>3147</th>\n",
       "      <td>-0.769844</td>\n",
       "      <td>-0.141002</td>\n",
       "      <td>-0.384206</td>\n",
       "      <td>-0.761668</td>\n",
       "      <td>-0.191467</td>\n",
       "      <td>-0.216803</td>\n",
       "      <td>-0.663712</td>\n",
       "      <td>-0.606322</td>\n",
       "    </tr>\n",
       "    <tr>\n",
       "      <th>1382</th>\n",
       "      <td>-0.749395</td>\n",
       "      <td>-1.094094</td>\n",
       "      <td>1.362962</td>\n",
       "      <td>-0.717504</td>\n",
       "      <td>-0.191467</td>\n",
       "      <td>-0.216803</td>\n",
       "      <td>-0.782132</td>\n",
       "      <td>-0.458287</td>\n",
       "    </tr>\n",
       "    <tr>\n",
       "      <th>279</th>\n",
       "      <td>-0.606253</td>\n",
       "      <td>0.794441</td>\n",
       "      <td>1.001901</td>\n",
       "      <td>-0.585013</td>\n",
       "      <td>-0.191467</td>\n",
       "      <td>-0.216803</td>\n",
       "      <td>-0.782132</td>\n",
       "      <td>-0.180272</td>\n",
       "    </tr>\n",
       "    <tr>\n",
       "      <th>375</th>\n",
       "      <td>0.339971</td>\n",
       "      <td>0.282595</td>\n",
       "      <td>1.800519</td>\n",
       "      <td>0.254102</td>\n",
       "      <td>-0.191467</td>\n",
       "      <td>-0.216803</td>\n",
       "      <td>1.467854</td>\n",
       "      <td>-0.400518</td>\n",
       "    </tr>\n",
       "  </tbody>\n",
       "</table>\n",
       "</div>"
      ],
      "text/plain": [
       "      Global_active_power  Global_reactive_power   Voltage  Global_intensity  \\\n",
       "3726            -0.470547              -0.176301  0.240001         -0.496685   \n",
       "3147            -0.769844              -0.141002 -0.384206         -0.761668   \n",
       "1382            -0.749395              -1.094094  1.362962         -0.717504   \n",
       "279             -0.606253               0.794441  1.001901         -0.585013   \n",
       "375              0.339971               0.282595  1.800519          0.254102   \n",
       "\n",
       "      Sub_metering_1  Sub_metering_2  Sub_metering_3  Energy_Consumed  \n",
       "3726       -0.191467       -0.216803       -0.782132         0.083301  \n",
       "3147       -0.191467       -0.216803       -0.663712        -0.606322  \n",
       "1382       -0.191467       -0.216803       -0.782132        -0.458287  \n",
       "279        -0.191467       -0.216803       -0.782132        -0.180272  \n",
       "375        -0.191467       -0.216803        1.467854        -0.400518  "
      ]
     },
     "execution_count": 65,
     "metadata": {},
     "output_type": "execute_result"
    }
   ],
   "source": [
    "from sklearn import preprocessing\n",
    "\n",
    "scaler = preprocessing.StandardScaler()\n",
    "\n",
    "scaler.fit(df)\n",
    "df_scaled_array = scaler.transform(df)\n",
    "df_scaled = pd.DataFrame(df_scaled_array, columns = df.columns)\n",
    "\n",
    "df_scaled.sample(5)"
   ]
  },
  {
   "cell_type": "markdown",
   "id": "845ea0d9",
   "metadata": {},
   "source": [
    "<h1>K-Means Clustering</h1>"
   ]
  },
  {
   "cell_type": "code",
   "execution_count": 67,
   "id": "1d45aa56",
   "metadata": {},
   "outputs": [
    {
     "data": {
      "text/plain": [
       "array([0, 2, 0, ..., 1, 0, 2])"
      ]
     },
     "execution_count": 67,
     "metadata": {},
     "output_type": "execute_result"
    }
   ],
   "source": [
    "from sklearn.cluster import KMeans\n",
    "\n",
    "nclusters = 3 # this is the k in kmeans\n",
    "seed = 0\n",
    "\n",
    "km = KMeans(n_clusters=nclusters, random_state=seed)\n",
    "km.fit(df_scaled)\n",
    "\n",
    "# predict the cluster for each data point\n",
    "y_cluster_kmeans = km.predict(df_scaled)\n",
    "y_cluster_kmeans"
   ]
  },
  {
   "cell_type": "code",
   "execution_count": 68,
   "id": "26c19147",
   "metadata": {},
   "outputs": [
    {
     "data": {
      "text/plain": [
       "0.391226957148888"
      ]
     },
     "execution_count": 68,
     "metadata": {},
     "output_type": "execute_result"
    }
   ],
   "source": [
    "from sklearn import metrics\n",
    "score = metrics.silhouette_score(df_scaled, y_cluster_kmeans)\n",
    "score"
   ]
  },
  {
   "cell_type": "code",
   "execution_count": 72,
   "id": "518cec80",
   "metadata": {},
   "outputs": [
    {
     "name": "stderr",
     "output_type": "stream",
     "text": [
      "C:\\ProgramData\\Anaconda3\\lib\\site-packages\\seaborn\\distributions.py:2557: FutureWarning: `distplot` is a deprecated function and will be removed in a future version. Please adapt your code to use either `displot` (a figure-level function with similar flexibility) or `histplot` (an axes-level function for histograms).\n",
      "  warnings.warn(msg, FutureWarning)\n"
     ]
    },
    {
     "data": {
      "image/png": "[encoded data removed]",
      "text/plain": [
       "<Figure size 432x288 with 1 Axes>"
      ]
     },
     "metadata": {
      "needs_background": "light"
     },
     "output_type": "display_data"
    }
   ],
   "source": [
    "scores = metrics.silhouette_samples(df_scaled, y_cluster_kmeans)\n",
    "sns.distplot(scores);"
   ]
  },
  {
   "cell_type": "code",
   "execution_count": 73,
   "id": "9648c3a1",
   "metadata": {},
   "outputs": [
    {
     "data": {
      "image/png": "[encoded data removed]",
      "text/plain": [
       "<Figure size 720x720 with 1 Axes>"
      ]
     },
     "metadata": {
      "needs_background": "light"
     },
     "output_type": "display_data"
    }
   ],
   "source": [
    "from sklearn.cluster import KMeans\n",
    "wcss = [] # within cluster sum of squares\n",
    "\n",
    "for k in range(1, 15):\n",
    "    kmeansForLoop = KMeans(n_clusters = k)\n",
    "    kmeansForLoop.fit(df_scaled)\n",
    "    wcss.append(kmeansForLoop.inertia_)\n",
    "\n",
    "plt.figure(figsize = (10, 10))\n",
    "plt.plot(range(1, 15), wcss)\n",
    "plt.xlabel(\"K value\")\n",
    "plt.ylabel(\"WCSS\")\n",
    "plt.show()"
   ]
  },
  {
   "cell_type": "markdown",
   "id": "a8fadaab",
   "metadata": {},
   "source": [
    "<h2> Calculating silhouette scores </h2>"
   ]
  },
  {
   "cell_type": "code",
   "execution_count": 74,
   "id": "a446bab5",
   "metadata": {},
   "outputs": [
    {
     "data": {
      "image/png": "[encoded data removed]",
      "text/plain": [
       "<Figure size 432x288 with 1 Axes>"
      ]
     },
     "metadata": {
      "needs_background": "light"
     },
     "output_type": "display_data"
    }
   ],
   "source": [
    "from sklearn.metrics import silhouette_score\n",
    "silhouette_scores = [] \n",
    "\n",
    "for n_cluster in range(2,15):\n",
    "    silhouette_scores.append( \n",
    "        silhouette_score(df_scaled, KMeans(n_clusters = n_cluster).fit_predict(df_scaled))) \n",
    "    \n",
    "# Plotting a bar graph to compare the results \n",
    "k = [2, 3, 4, 5, 6,7,8,9,10,11,12,13,14] \n",
    "plt.bar(k, silhouette_scores) \n",
    "plt.xlabel('Number of clusters', fontsize = 10) \n",
    "plt.ylabel('Silhouette Score', fontsize = 10) \n",
    "plt.grid()\n",
    "plt.show() "
   ]
  },
  {
   "cell_type": "code",
   "execution_count": 75,
   "id": "9e580047",
   "metadata": {},
   "outputs": [
    {
     "data": {
      "text/plain": [
       "array([0, 4, 0, ..., 3, 0, 4])"
      ]
     },
     "execution_count": 75,
     "metadata": {},
     "output_type": "execute_result"
    }
   ],
   "source": [
    "nclusters = 5 # value of k in kmeans\n",
    "seed = 0\n",
    "\n",
    "km = KMeans(n_clusters=nclusters, random_state=seed)\n",
    "km.fit(df_scaled)\n",
    "\n",
    "# predict the cluster for each data point\n",
    "y_cluster_kmeans = km.predict(df_scaled)\n",
    "y_cluster_kmeans"
   ]
  },
  {
   "cell_type": "code",
   "execution_count": 76,
   "id": "6eed4071",
   "metadata": {},
   "outputs": [
    {
     "data": {
      "text/plain": [
       "0.4128216001251047"
      ]
     },
     "execution_count": 76,
     "metadata": {},
     "output_type": "execute_result"
    }
   ],
   "source": [
    "score = metrics.silhouette_score(df_scaled, y_cluster_kmeans)\n",
    "score"
   ]
  },
  {
   "cell_type": "code",
   "execution_count": 77,
   "id": "70bfafdb",
   "metadata": {},
   "outputs": [
    {
     "data": {
      "text/plain": [
       "14300.89312184465"
      ]
     },
     "execution_count": 77,
     "metadata": {},
     "output_type": "execute_result"
    }
   ],
   "source": [
    "km.inertia_"
   ]
  },
  {
   "cell_type": "code",
   "execution_count": 78,
   "id": "80ee938a",
   "metadata": {},
   "outputs": [
    {
     "data": {
      "text/plain": [
       "array([[-0.65489877, -0.14515935,  0.31561484, -0.64621997, -0.1823059 ,\n",
       "        -0.14978491, -0.73009397, -0.37281184],\n",
       "       [ 1.22423924,  0.58839867, -0.56161042,  1.22700912, -0.14093066,\n",
       "        -0.1317146 ,  0.3592629 ,  2.23838324],\n",
       "       [ 2.66443834,  0.50135603, -0.97071245,  2.68149584,  0.27916245,\n",
       "         6.11021459,  0.49984928,  0.52475355],\n",
       "       [ 2.79316165,  0.86917109, -1.20762808,  2.8212462 ,  5.47867738,\n",
       "        -0.01555758,  0.45918154,  1.00092852],\n",
       "       [ 0.41730752, -0.04867319, -0.25257041,  0.39323134, -0.16120826,\n",
       "        -0.12944705,  1.33789569, -0.21063483]])"
      ]
     },
     "execution_count": 78,
     "metadata": {},
     "output_type": "execute_result"
    }
   ],
   "source": [
    "km.cluster_centers_"
   ]
  },
  {
   "cell_type": "code",
   "execution_count": 93,
   "id": "2469925c",
   "metadata": {},
   "outputs": [
    {
     "data": {
      "text/plain": [
       "array([0, 1, 3, 4, 2])"
      ]
     },
     "execution_count": 93,
     "metadata": {},
     "output_type": "execute_result"
    }
   ],
   "source": [
    "kmeans = KMeans(n_clusters = 5)\n",
    "clusters = kmeans.fit_predict(df_scaled)\n",
    "df_scaled[\"type\"] = clusters\n",
    "df_scaled[\"type\"].unique()"
   ]
  },
  {
   "cell_type": "code",
   "execution_count": 91,
   "id": "5ae85039",
   "metadata": {},
   "outputs": [
    {
     "data": {
      "text/html": [
       "<div>\n",
       "<style scoped>\n",
       "    .dataframe tbody tr th:only-of-type {\n",
       "        vertical-align: middle;\n",
       "    }\n",
       "\n",
       "    .dataframe tbody tr th {\n",
       "        vertical-align: top;\n",
       "    }\n",
       "\n",
       "    .dataframe thead th {\n",
       "        text-align: right;\n",
       "    }\n",
       "</style>\n",
       "<table border=\"1\" class=\"dataframe\">\n",
       "  <thead>\n",
       "    <tr style=\"text-align: right;\">\n",
       "      <th></th>\n",
       "      <th>Global_active_power</th>\n",
       "      <th>Global_reactive_power</th>\n",
       "      <th>Voltage</th>\n",
       "      <th>Global_intensity</th>\n",
       "      <th>Sub_metering_1</th>\n",
       "      <th>Sub_metering_2</th>\n",
       "      <th>Sub_metering_3</th>\n",
       "      <th>Energy_Consumed</th>\n",
       "      <th>type</th>\n",
       "    </tr>\n",
       "  </thead>\n",
       "  <tbody>\n",
       "    <tr>\n",
       "      <th>58522</th>\n",
       "      <td>0.806</td>\n",
       "      <td>0.084</td>\n",
       "      <td>242.67</td>\n",
       "      <td>3.6</td>\n",
       "      <td>0.0</td>\n",
       "      <td>0.0</td>\n",
       "      <td>0.0</td>\n",
       "      <td>13.433333</td>\n",
       "      <td>1</td>\n",
       "    </tr>\n",
       "    <tr>\n",
       "      <th>1792862</th>\n",
       "      <td>1.666</td>\n",
       "      <td>0.094</td>\n",
       "      <td>239.92</td>\n",
       "      <td>6.8</td>\n",
       "      <td>0.0</td>\n",
       "      <td>0.0</td>\n",
       "      <td>18.0</td>\n",
       "      <td>9.766667</td>\n",
       "      <td>0</td>\n",
       "    </tr>\n",
       "    <tr>\n",
       "      <th>616638</th>\n",
       "      <td>0.872</td>\n",
       "      <td>0.102</td>\n",
       "      <td>241.75</td>\n",
       "      <td>3.6</td>\n",
       "      <td>0.0</td>\n",
       "      <td>0.0</td>\n",
       "      <td>0.0</td>\n",
       "      <td>14.533333</td>\n",
       "      <td>1</td>\n",
       "    </tr>\n",
       "    <tr>\n",
       "      <th>1186055</th>\n",
       "      <td>1.460</td>\n",
       "      <td>0.190</td>\n",
       "      <td>240.81</td>\n",
       "      <td>6.0</td>\n",
       "      <td>0.0</td>\n",
       "      <td>0.0</td>\n",
       "      <td>17.0</td>\n",
       "      <td>7.333333</td>\n",
       "      <td>0</td>\n",
       "    </tr>\n",
       "    <tr>\n",
       "      <th>148583</th>\n",
       "      <td>2.902</td>\n",
       "      <td>0.326</td>\n",
       "      <td>239.91</td>\n",
       "      <td>12.0</td>\n",
       "      <td>2.0</td>\n",
       "      <td>1.0</td>\n",
       "      <td>18.0</td>\n",
       "      <td>27.366667</td>\n",
       "      <td>3</td>\n",
       "    </tr>\n",
       "  </tbody>\n",
       "</table>\n",
       "</div>"
      ],
      "text/plain": [
       "         Global_active_power  Global_reactive_power  Voltage  \\\n",
       "58522                  0.806                  0.084   242.67   \n",
       "1792862                1.666                  0.094   239.92   \n",
       "616638                 0.872                  0.102   241.75   \n",
       "1186055                1.460                  0.190   240.81   \n",
       "148583                 2.902                  0.326   239.91   \n",
       "\n",
       "         Global_intensity  Sub_metering_1  Sub_metering_2  Sub_metering_3  \\\n",
       "58522                 3.6             0.0             0.0             0.0   \n",
       "1792862               6.8             0.0             0.0            18.0   \n",
       "616638                3.6             0.0             0.0             0.0   \n",
       "1186055               6.0             0.0             0.0            17.0   \n",
       "148583               12.0             2.0             1.0            18.0   \n",
       "\n",
       "         Energy_Consumed  type  \n",
       "58522          13.433333     1  \n",
       "1792862         9.766667     0  \n",
       "616638         14.533333     1  \n",
       "1186055         7.333333     0  \n",
       "148583         27.366667     3  "
      ]
     },
     "execution_count": 91,
     "metadata": {},
     "output_type": "execute_result"
    }
   ],
   "source": [
    "df.head()"
   ]
  },
  {
   "cell_type": "code",
   "execution_count": 120,
   "id": "60fcf646",
   "metadata": {},
   "outputs": [
    {
     "data": {
      "image/png": "[encoded data removed]",
      "text/plain": [
       "<Figure size 1080x720 with 1 Axes>"
      ]
     },
     "metadata": {
      "needs_background": "light"
     },
     "output_type": "display_data"
    }
   ],
   "source": [
    "plt.figure(figsize = (15, 10))\n",
    "plt.scatter(df_scaled[\"Global_active_power\"][df_scaled[\"type\"] == 0], df_scaled[\"Energy_Consumed\"][df_scaled[\"type\"] == 0], color = \"red\")\n",
    "plt.scatter(df_scaled[\"Global_active_power\"][df_scaled[\"type\"] == 1], df_scaled[\"Energy_Consumed\"][df_scaled[\"type\"] == 1], color = \"green\")\n",
    "plt.scatter(df_scaled[\"Global_active_power\"][df_scaled[\"type\"] == 2], df_scaled[\"Energy_Consumed\"][df_scaled[\"type\"] == 2], color = \"blue\")\n",
    "plt.scatter(df_scaled[\"Global_active_power\"][df_scaled[\"type\"] == 3], df_scaled[\"Energy_Consumed\"][df_scaled[\"type\"] == 3], color = \"yellow\")\n",
    "plt.scatter(df_scaled[\"Global_active_power\"][df_scaled[\"type\"] == 4], df_scaled[\"Energy_Consumed\"][df_scaled[\"type\"] == 4], color = \"black\")\n",
    "plt.xlabel('Global_active_power')\n",
    "plt.ylabel('Energy_Consumed')\n",
    "plt.show()"
   ]
  },
  {
   "cell_type": "code",
   "execution_count": 79,
   "id": "610846d7",
   "metadata": {},
   "outputs": [],
   "source": [
    "# K-means++"
   ]
  },
  {
   "cell_type": "code",
   "execution_count": 80,
   "id": "744e61b1",
   "metadata": {},
   "outputs": [],
   "source": [
    "from sklearn.cluster import KMeans\n",
    "wcss=[]\n",
    "\n",
    "#we always assume the max number of cluster would be 10\n",
    "#you can judge the number of clusters by doing averaging\n",
    "###Static code to get max no of clusters\n",
    "\n",
    "for i in range(1,15):\n",
    "    kmeans = KMeans(n_clusters= i, init='k-means++', random_state=0)\n",
    "    kmeans.fit(df)\n",
    "    wcss.append(kmeans.inertia_)"
   ]
  },
  {
   "cell_type": "code",
   "execution_count": 82,
   "id": "fee061bc",
   "metadata": {},
   "outputs": [
    {
     "data": {
      "image/png": "[encoded data removed]",
      "text/plain": [
       "<Figure size 432x288 with 1 Axes>"
      ]
     },
     "metadata": {
      "needs_background": "light"
     },
     "output_type": "display_data"
    }
   ],
   "source": [
    "#Visualizing the ELBOW method to get the optimal value of K \n",
    "plt.plot(range(1,15), wcss)\n",
    "plt.title('The Elbow Method')\n",
    "plt.xlabel('no of clusters')\n",
    "plt.ylabel('wcss')\n",
    "plt.show()"
   ]
  },
  {
   "cell_type": "code",
   "execution_count": 83,
   "id": "d13448cf",
   "metadata": {},
   "outputs": [],
   "source": [
    "#Model Build   (K-means)\n",
    "kmeansmodel = KMeans(n_clusters= 5, random_state=0)\n",
    "y_kmeans= kmeansmodel.fit_predict(df)"
   ]
  },
  {
   "cell_type": "code",
   "execution_count": 86,
   "id": "d45b63ca",
   "metadata": {},
   "outputs": [
    {
     "data": {
      "text/plain": [
       "0.6156154700456421"
      ]
     },
     "execution_count": 86,
     "metadata": {},
     "output_type": "execute_result"
    }
   ],
   "source": [
    "score = metrics.silhouette_score(df, y_kmeans)\n",
    "score"
   ]
  },
  {
   "cell_type": "code",
   "execution_count": 87,
   "id": "8b0fdb77",
   "metadata": {},
   "outputs": [],
   "source": [
    "# Agglomerative Clustering"
   ]
  },
  {
   "cell_type": "code",
   "execution_count": 97,
   "id": "2208987f",
   "metadata": {},
   "outputs": [
    {
     "data": {
      "text/html": [
       "<div>\n",
       "<style scoped>\n",
       "    .dataframe tbody tr th:only-of-type {\n",
       "        vertical-align: middle;\n",
       "    }\n",
       "\n",
       "    .dataframe tbody tr th {\n",
       "        vertical-align: top;\n",
       "    }\n",
       "\n",
       "    .dataframe thead th {\n",
       "        text-align: right;\n",
       "    }\n",
       "</style>\n",
       "<table border=\"1\" class=\"dataframe\">\n",
       "  <thead>\n",
       "    <tr style=\"text-align: right;\">\n",
       "      <th></th>\n",
       "      <th>Global_active_power</th>\n",
       "      <th>Global_reactive_power</th>\n",
       "      <th>Voltage</th>\n",
       "      <th>Global_intensity</th>\n",
       "      <th>Sub_metering_1</th>\n",
       "      <th>Sub_metering_2</th>\n",
       "      <th>Sub_metering_3</th>\n",
       "      <th>Energy_Consumed</th>\n",
       "      <th>type</th>\n",
       "    </tr>\n",
       "  </thead>\n",
       "  <tbody>\n",
       "    <tr>\n",
       "      <th>58522</th>\n",
       "      <td>0.806</td>\n",
       "      <td>0.084</td>\n",
       "      <td>242.67</td>\n",
       "      <td>3.6</td>\n",
       "      <td>0.0</td>\n",
       "      <td>0.0</td>\n",
       "      <td>0.0</td>\n",
       "      <td>13.433333</td>\n",
       "      <td>1</td>\n",
       "    </tr>\n",
       "    <tr>\n",
       "      <th>1792862</th>\n",
       "      <td>1.666</td>\n",
       "      <td>0.094</td>\n",
       "      <td>239.92</td>\n",
       "      <td>6.8</td>\n",
       "      <td>0.0</td>\n",
       "      <td>0.0</td>\n",
       "      <td>18.0</td>\n",
       "      <td>9.766667</td>\n",
       "      <td>0</td>\n",
       "    </tr>\n",
       "    <tr>\n",
       "      <th>616638</th>\n",
       "      <td>0.872</td>\n",
       "      <td>0.102</td>\n",
       "      <td>241.75</td>\n",
       "      <td>3.6</td>\n",
       "      <td>0.0</td>\n",
       "      <td>0.0</td>\n",
       "      <td>0.0</td>\n",
       "      <td>14.533333</td>\n",
       "      <td>1</td>\n",
       "    </tr>\n",
       "    <tr>\n",
       "      <th>1186055</th>\n",
       "      <td>1.460</td>\n",
       "      <td>0.190</td>\n",
       "      <td>240.81</td>\n",
       "      <td>6.0</td>\n",
       "      <td>0.0</td>\n",
       "      <td>0.0</td>\n",
       "      <td>17.0</td>\n",
       "      <td>7.333333</td>\n",
       "      <td>0</td>\n",
       "    </tr>\n",
       "    <tr>\n",
       "      <th>148583</th>\n",
       "      <td>2.902</td>\n",
       "      <td>0.326</td>\n",
       "      <td>239.91</td>\n",
       "      <td>12.0</td>\n",
       "      <td>2.0</td>\n",
       "      <td>1.0</td>\n",
       "      <td>18.0</td>\n",
       "      <td>27.366667</td>\n",
       "      <td>3</td>\n",
       "    </tr>\n",
       "  </tbody>\n",
       "</table>\n",
       "</div>"
      ],
      "text/plain": [
       "         Global_active_power  Global_reactive_power  Voltage  \\\n",
       "58522                  0.806                  0.084   242.67   \n",
       "1792862                1.666                  0.094   239.92   \n",
       "616638                 0.872                  0.102   241.75   \n",
       "1186055                1.460                  0.190   240.81   \n",
       "148583                 2.902                  0.326   239.91   \n",
       "\n",
       "         Global_intensity  Sub_metering_1  Sub_metering_2  Sub_metering_3  \\\n",
       "58522                 3.6             0.0             0.0             0.0   \n",
       "1792862               6.8             0.0             0.0            18.0   \n",
       "616638                3.6             0.0             0.0             0.0   \n",
       "1186055               6.0             0.0             0.0            17.0   \n",
       "148583               12.0             2.0             1.0            18.0   \n",
       "\n",
       "         Energy_Consumed  type  \n",
       "58522          13.433333     1  \n",
       "1792862         9.766667     0  \n",
       "616638         14.533333     1  \n",
       "1186055         7.333333     0  \n",
       "148583         27.366667     3  "
      ]
     },
     "execution_count": 97,
     "metadata": {},
     "output_type": "execute_result"
    }
   ],
   "source": [
    "df.head()"
   ]
  },
  {
   "cell_type": "code",
   "execution_count": 101,
   "id": "4d2f73f4",
   "metadata": {},
   "outputs": [
    {
     "data": {
      "image/png": "[encoded data removed]",
      "text/plain": [
       "<Figure size 720x720 with 1 Axes>"
      ]
     },
     "metadata": {
      "needs_background": "light"
     },
     "output_type": "display_data"
    }
   ],
   "source": [
    "plt.figure(figsize = (10, 10))\n",
    "plt.scatter(df[\"Voltage\"], df[\"Energy_Consumed\"])\n",
    "plt.xlabel('Voltage')\n",
    "plt.ylabel('Energy_Consumed')\n",
    "plt.show()"
   ]
  },
  {
   "cell_type": "code",
   "execution_count": 98,
   "id": "ede08848",
   "metadata": {},
   "outputs": [
    {
     "data": {
      "image/png": "[encoded data removed]",
      "text/plain": [
       "<Figure size 720x720 with 1 Axes>"
      ]
     },
     "metadata": {
      "needs_background": "light"
     },
     "output_type": "display_data"
    }
   ],
   "source": [
    "plt.figure(figsize = (10, 10))\n",
    "plt.scatter(df[\"Sub_metering_1\"], df[\"Energy_Consumed\"])\n",
    "plt.xlabel('Sub_metering_1')\n",
    "plt.ylabel('Energy_Consumed')\n",
    "plt.show()"
   ]
  },
  {
   "cell_type": "code",
   "execution_count": 99,
   "id": "cee1eb48",
   "metadata": {},
   "outputs": [
    {
     "data": {
      "image/png": "[encoded data removed]",
      "text/plain": [
       "<Figure size 720x720 with 1 Axes>"
      ]
     },
     "metadata": {
      "needs_background": "light"
     },
     "output_type": "display_data"
    }
   ],
   "source": [
    "plt.figure(figsize = (10, 10))\n",
    "plt.scatter(df[\"Sub_metering_2\"], df[\"Energy_Consumed\"])\n",
    "plt.xlabel('Sub_metering_2')\n",
    "plt.ylabel('Energy_Consumed')\n",
    "plt.show()"
   ]
  },
  {
   "cell_type": "code",
   "execution_count": 100,
   "id": "3659645c",
   "metadata": {},
   "outputs": [
    {
     "data": {
      "image/png": "[encoded data removed]",
      "text/plain": [
       "<Figure size 720x720 with 1 Axes>"
      ]
     },
     "metadata": {
      "needs_background": "light"
     },
     "output_type": "display_data"
    }
   ],
   "source": [
    "plt.figure(figsize = (10, 10))\n",
    "plt.scatter(df[\"Sub_metering_3\"], df[\"Energy_Consumed\"])\n",
    "plt.xlabel('Sub_metering_3')\n",
    "plt.ylabel('Energy_Consumed')\n",
    "plt.show()"
   ]
  },
  {
   "cell_type": "code",
   "execution_count": 102,
   "id": "d9d7320c",
   "metadata": {},
   "outputs": [
    {
     "data": {
      "image/png": "[encoded data removed]",
      "text/plain": [
       "<Figure size 720x720 with 1 Axes>"
      ]
     },
     "metadata": {
      "needs_background": "light"
     },
     "output_type": "display_data"
    }
   ],
   "source": [
    "plt.figure(figsize = (10, 10))\n",
    "plt.scatter(df[\"Global_active_power\"], df[\"Energy_Consumed\"])\n",
    "plt.xlabel('Global_active_power')\n",
    "plt.ylabel('Energy_Consumed')\n",
    "plt.show()"
   ]
  },
  {
   "cell_type": "markdown",
   "id": "8649c748",
   "metadata": {},
   "source": [
    "<h2> Using Agglomerative Clustering Algorithm </h2>"
   ]
  },
  {
   "cell_type": "code",
   "execution_count": 104,
   "id": "f7af0ff0",
   "metadata": {},
   "outputs": [
    {
     "data": {
      "image/png": "[encoded data removed]",
      "text/plain": [
       "<Figure size 432x288 with 1 Axes>"
      ]
     },
     "metadata": {
      "needs_background": "light"
     },
     "output_type": "display_data"
    }
   ],
   "source": [
    "from scipy.cluster.hierarchy import linkage,dendrogram\n",
    "merg = linkage(df, method = \"ward\")\n",
    "dendrogram(merg, leaf_rotation = 90)\n",
    "plt.xlabel(\"data points\")\n",
    "plt.ylabel(\"euclidean distance\")\n",
    "plt.show()"
   ]
  },
  {
   "cell_type": "code",
   "execution_count": 105,
   "id": "b3cb997a",
   "metadata": {},
   "outputs": [],
   "source": [
    "from sklearn.cluster import AgglomerativeClustering\n",
    "hc = AgglomerativeClustering(n_clusters = 3, affinity = \"euclidean\", linkage = \"ward\")\n",
    "cluster = hc.fit_predict(df)\n",
    "df[\"label\"] = cluster"
   ]
  },
  {
   "cell_type": "code",
   "execution_count": 106,
   "id": "d760b8ad",
   "metadata": {},
   "outputs": [
    {
     "data": {
      "text/plain": [
       "1    2751\n",
       "2    1369\n",
       "0     803\n",
       "Name: label, dtype: int64"
      ]
     },
     "execution_count": 106,
     "metadata": {},
     "output_type": "execute_result"
    }
   ],
   "source": [
    "df.label.value_counts()"
   ]
  },
  {
   "cell_type": "code",
   "execution_count": 107,
   "id": "e4a819f3",
   "metadata": {},
   "outputs": [],
   "source": [
    "dataWithoutTypes= df[['Global_active_power','Energy_Consumed']]"
   ]
  },
  {
   "cell_type": "code",
   "execution_count": 108,
   "id": "6ef94658",
   "metadata": {},
   "outputs": [
    {
     "data": {
      "text/html": [
       "<div>\n",
       "<style scoped>\n",
       "    .dataframe tbody tr th:only-of-type {\n",
       "        vertical-align: middle;\n",
       "    }\n",
       "\n",
       "    .dataframe tbody tr th {\n",
       "        vertical-align: top;\n",
       "    }\n",
       "\n",
       "    .dataframe thead th {\n",
       "        text-align: right;\n",
       "    }\n",
       "</style>\n",
       "<table border=\"1\" class=\"dataframe\">\n",
       "  <thead>\n",
       "    <tr style=\"text-align: right;\">\n",
       "      <th></th>\n",
       "      <th>Global_active_power</th>\n",
       "      <th>Energy_Consumed</th>\n",
       "    </tr>\n",
       "  </thead>\n",
       "  <tbody>\n",
       "    <tr>\n",
       "      <th>58522</th>\n",
       "      <td>0.806</td>\n",
       "      <td>13.433333</td>\n",
       "    </tr>\n",
       "    <tr>\n",
       "      <th>1792862</th>\n",
       "      <td>1.666</td>\n",
       "      <td>9.766667</td>\n",
       "    </tr>\n",
       "    <tr>\n",
       "      <th>616638</th>\n",
       "      <td>0.872</td>\n",
       "      <td>14.533333</td>\n",
       "    </tr>\n",
       "    <tr>\n",
       "      <th>1186055</th>\n",
       "      <td>1.460</td>\n",
       "      <td>7.333333</td>\n",
       "    </tr>\n",
       "    <tr>\n",
       "      <th>148583</th>\n",
       "      <td>2.902</td>\n",
       "      <td>27.366667</td>\n",
       "    </tr>\n",
       "  </tbody>\n",
       "</table>\n",
       "</div>"
      ],
      "text/plain": [
       "         Global_active_power  Energy_Consumed\n",
       "58522                  0.806        13.433333\n",
       "1792862                1.666         9.766667\n",
       "616638                 0.872        14.533333\n",
       "1186055                1.460         7.333333\n",
       "148583                 2.902        27.366667"
      ]
     },
     "execution_count": 108,
     "metadata": {},
     "output_type": "execute_result"
    }
   ],
   "source": [
    "dataWithoutTypes.head()"
   ]
  },
  {
   "cell_type": "code",
   "execution_count": 109,
   "id": "48228312",
   "metadata": {},
   "outputs": [
    {
     "data": {
      "image/png": "[encoded data removed]",
      "text/plain": [
       "<Figure size 432x288 with 1 Axes>"
      ]
     },
     "metadata": {
      "needs_background": "light"
     },
     "output_type": "display_data"
    }
   ],
   "source": [
    "from scipy.cluster.hierarchy import linkage,dendrogram\n",
    "merg = linkage(dataWithoutTypes, method = \"ward\")\n",
    "dendrogram(merg, leaf_rotation = 90)\n",
    "plt.xlabel(\"data points\")\n",
    "plt.ylabel(\"euclidean distance\")\n",
    "plt.show()"
   ]
  },
  {
   "cell_type": "code",
   "execution_count": 113,
   "id": "610b1eeb",
   "metadata": {},
   "outputs": [
    {
     "name": "stderr",
     "output_type": "stream",
     "text": [
      "<ipython-input-113-60fac4c6e0a1>:4: SettingWithCopyWarning: \n",
      "A value is trying to be set on a copy of a slice from a DataFrame.\n",
      "Try using .loc[row_indexer,col_indexer] = value instead\n",
      "\n",
      "See the caveats in the documentation: https://pandas.pydata.org/pandas-docs/stable/user_guide/indexing.html#returning-a-view-versus-a-copy\n",
      "  dataWithoutTypes[\"label\"] = cluster\n"
     ]
    }
   ],
   "source": [
    "from sklearn.cluster import AgglomerativeClustering\n",
    "hc = AgglomerativeClustering(n_clusters = 2, affinity = \"euclidean\", linkage = \"ward\")\n",
    "cluster = hc.fit_predict(dataWithoutTypes)\n",
    "dataWithoutTypes[\"label\"] = cluster"
   ]
  },
  {
   "cell_type": "code",
   "execution_count": 114,
   "id": "577600ea",
   "metadata": {},
   "outputs": [
    {
     "data": {
      "text/plain": [
       "1    4210\n",
       "0     713\n",
       "Name: label, dtype: int64"
      ]
     },
     "execution_count": 114,
     "metadata": {},
     "output_type": "execute_result"
    }
   ],
   "source": [
    "dataWithoutTypes.label.value_counts()"
   ]
  },
  {
   "cell_type": "code",
   "execution_count": 118,
   "id": "15cd5a8f",
   "metadata": {},
   "outputs": [
    {
     "data": {
      "image/png": "[encoded data removed]",
      "text/plain": [
       "<Figure size 1080x720 with 1 Axes>"
      ]
     },
     "metadata": {
      "needs_background": "light"
     },
     "output_type": "display_data"
    }
   ],
   "source": [
    "# Data after hierarchical clustering\n",
    "\n",
    "plt.figure(figsize = (15, 10))\n",
    "plt.scatter(dataWithoutTypes[\"Global_active_power\"][dataWithoutTypes.label == 0], dataWithoutTypes[\"Energy_Consumed\"][dataWithoutTypes.label == 0], color = \"red\")\n",
    "plt.scatter(dataWithoutTypes[\"Global_active_power\"][dataWithoutTypes.label == 1], dataWithoutTypes[\"Energy_Consumed\"][dataWithoutTypes.label == 1], color = \"blue\")\n",
    "plt.xlabel(\"Global_active_power\")\n",
    "plt.ylabel(\"Energy_Consumed\")\n",
    "plt.show()"
   ]
  }
 ],
 "metadata": {
  "celltoolbar": "Raw Cell Format",
  "kernelspec": {
   "display_name": "Python 3",
   "language": "python",
   "name": "python3"
  },
  "language_info": {
   "codemirror_mode": {
    "name": "ipython",
    "version": 3
   },
   "file_extension": ".py",
   "mimetype": "text/x-python",
   "name": "python",
   "nbconvert_exporter": "python",
   "pygments_lexer": "ipython3",
   "version": "3.8.8"
  }
 },
 "nbformat": 4,
 "nbformat_minor": 5
}
