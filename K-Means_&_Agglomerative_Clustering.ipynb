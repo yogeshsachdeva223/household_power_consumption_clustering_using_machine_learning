{
 "cells": [
  {
   "cell_type": "code",
   "execution_count": 1,
   "id": "22fb8305",
   "metadata": {},
   "outputs": [],
   "source": [
    "import numpy as np\n",
    "import pandas as pd\n",
    "import matplotlib.pyplot as plt\n",
    "import seaborn as sns"
   ]
  },
  {
   "cell_type": "code",
   "execution_count": 2,
   "id": "6726b51c",
   "metadata": {},
   "outputs": [
    {
     "name": "stderr",
     "output_type": "stream",
     "text": [
      "C:\\Users\\Yogesh\\anaconda3\\lib\\site-packages\\IPython\\core\\interactiveshell.py:3165: DtypeWarning: Columns (2,3,4,5,6,7) have mixed types.Specify dtype option on import or set low_memory=False.\n",
      "  has_raised = await self.run_ast_nodes(code_ast.body, cell_name,\n"
     ]
    }
   ],
   "source": [
    "data = pd.read_csv(\"household_power_consumption.txt\", sep = \";\")"
   ]
  },
  {
   "cell_type": "code",
   "execution_count": 3,
   "id": "f2c143fc",
   "metadata": {},
   "outputs": [],
   "source": [
    "sample_data = data.sample(n=4000)"
   ]
  },
  {
   "cell_type": "code",
   "execution_count": 4,
   "id": "4270ddf6",
   "metadata": {},
   "outputs": [
    {
     "data": {
      "text/html": [
       "<div>\n",
       "<style scoped>\n",
       "    .dataframe tbody tr th:only-of-type {\n",
       "        vertical-align: middle;\n",
       "    }\n",
       "\n",
       "    .dataframe tbody tr th {\n",
       "        vertical-align: top;\n",
       "    }\n",
       "\n",
       "    .dataframe thead th {\n",
       "        text-align: right;\n",
       "    }\n",
       "</style>\n",
       "<table border=\"1\" class=\"dataframe\">\n",
       "  <thead>\n",
       "    <tr style=\"text-align: right;\">\n",
       "      <th></th>\n",
       "      <th>Date</th>\n",
       "      <th>Time</th>\n",
       "      <th>Global_active_power</th>\n",
       "      <th>Global_reactive_power</th>\n",
       "      <th>Voltage</th>\n",
       "      <th>Global_intensity</th>\n",
       "      <th>Sub_metering_1</th>\n",
       "      <th>Sub_metering_2</th>\n",
       "      <th>Sub_metering_3</th>\n",
       "    </tr>\n",
       "  </thead>\n",
       "  <tbody>\n",
       "    <tr>\n",
       "      <th>843235</th>\n",
       "      <td>24/7/2008</td>\n",
       "      <td>07:19:00</td>\n",
       "      <td>1.546</td>\n",
       "      <td>0.212</td>\n",
       "      <td>237.700</td>\n",
       "      <td>6.600</td>\n",
       "      <td>0.000</td>\n",
       "      <td>1.000</td>\n",
       "      <td>18.0</td>\n",
       "    </tr>\n",
       "    <tr>\n",
       "      <th>1338534</th>\n",
       "      <td>3/7/2009</td>\n",
       "      <td>06:18:00</td>\n",
       "      <td>0.308</td>\n",
       "      <td>0.246</td>\n",
       "      <td>243.470</td>\n",
       "      <td>1.600</td>\n",
       "      <td>0.000</td>\n",
       "      <td>2.000</td>\n",
       "      <td>1.0</td>\n",
       "    </tr>\n",
       "    <tr>\n",
       "      <th>122957</th>\n",
       "      <td>12/3/2007</td>\n",
       "      <td>02:41:00</td>\n",
       "      <td>0.312</td>\n",
       "      <td>0.104</td>\n",
       "      <td>246.440</td>\n",
       "      <td>1.400</td>\n",
       "      <td>0.000</td>\n",
       "      <td>1.000</td>\n",
       "      <td>0.0</td>\n",
       "    </tr>\n",
       "    <tr>\n",
       "      <th>1228092</th>\n",
       "      <td>17/4/2009</td>\n",
       "      <td>13:36:00</td>\n",
       "      <td>0.488</td>\n",
       "      <td>0.220</td>\n",
       "      <td>241.680</td>\n",
       "      <td>2.200</td>\n",
       "      <td>0.000</td>\n",
       "      <td>0.000</td>\n",
       "      <td>0.0</td>\n",
       "    </tr>\n",
       "    <tr>\n",
       "      <th>921361</th>\n",
       "      <td>16/9/2008</td>\n",
       "      <td>13:25:00</td>\n",
       "      <td>1.402</td>\n",
       "      <td>0.050</td>\n",
       "      <td>238.660</td>\n",
       "      <td>5.800</td>\n",
       "      <td>0.000</td>\n",
       "      <td>0.000</td>\n",
       "      <td>18.0</td>\n",
       "    </tr>\n",
       "  </tbody>\n",
       "</table>\n",
       "</div>"
      ],
      "text/plain": [
       "              Date      Time Global_active_power Global_reactive_power  \\\n",
       "843235   24/7/2008  07:19:00               1.546                 0.212   \n",
       "1338534   3/7/2009  06:18:00               0.308                 0.246   \n",
       "122957   12/3/2007  02:41:00               0.312                 0.104   \n",
       "1228092  17/4/2009  13:36:00               0.488                 0.220   \n",
       "921361   16/9/2008  13:25:00               1.402                 0.050   \n",
       "\n",
       "         Voltage Global_intensity Sub_metering_1 Sub_metering_2  \\\n",
       "843235   237.700            6.600          0.000          1.000   \n",
       "1338534  243.470            1.600          0.000          2.000   \n",
       "122957   246.440            1.400          0.000          1.000   \n",
       "1228092  241.680            2.200          0.000          0.000   \n",
       "921361   238.660            5.800          0.000          0.000   \n",
       "\n",
       "         Sub_metering_3  \n",
       "843235             18.0  \n",
       "1338534             1.0  \n",
       "122957              0.0  \n",
       "1228092             0.0  \n",
       "921361             18.0  "
      ]
     },
     "execution_count": 4,
     "metadata": {},
     "output_type": "execute_result"
    }
   ],
   "source": [
    "sample_data.head()"
   ]
  },
  {
   "cell_type": "code",
   "execution_count": 5,
   "id": "cd36f6f1",
   "metadata": {},
   "outputs": [
    {
     "data": {
      "text/html": [
       "<div>\n",
       "<style scoped>\n",
       "    .dataframe tbody tr th:only-of-type {\n",
       "        vertical-align: middle;\n",
       "    }\n",
       "\n",
       "    .dataframe tbody tr th {\n",
       "        vertical-align: top;\n",
       "    }\n",
       "\n",
       "    .dataframe thead th {\n",
       "        text-align: right;\n",
       "    }\n",
       "</style>\n",
       "<table border=\"1\" class=\"dataframe\">\n",
       "  <thead>\n",
       "    <tr style=\"text-align: right;\">\n",
       "      <th></th>\n",
       "      <th>Date</th>\n",
       "      <th>Time</th>\n",
       "      <th>Global_active_power</th>\n",
       "      <th>Global_reactive_power</th>\n",
       "      <th>Voltage</th>\n",
       "      <th>Global_intensity</th>\n",
       "      <th>Sub_metering_1</th>\n",
       "      <th>Sub_metering_2</th>\n",
       "      <th>Sub_metering_3</th>\n",
       "    </tr>\n",
       "  </thead>\n",
       "  <tbody>\n",
       "    <tr>\n",
       "      <th>1722076</th>\n",
       "      <td>26/3/2010</td>\n",
       "      <td>14:40:00</td>\n",
       "      <td>0.254</td>\n",
       "      <td>0.000</td>\n",
       "      <td>244.340</td>\n",
       "      <td>1.000</td>\n",
       "      <td>0.000</td>\n",
       "      <td>0.000</td>\n",
       "      <td>1.0</td>\n",
       "    </tr>\n",
       "    <tr>\n",
       "      <th>1680438</th>\n",
       "      <td>25/2/2010</td>\n",
       "      <td>16:42:00</td>\n",
       "      <td>2.098</td>\n",
       "      <td>0.000</td>\n",
       "      <td>244.890</td>\n",
       "      <td>8.400</td>\n",
       "      <td>0.000</td>\n",
       "      <td>0.000</td>\n",
       "      <td>19.0</td>\n",
       "    </tr>\n",
       "    <tr>\n",
       "      <th>33080</th>\n",
       "      <td>8/1/2007</td>\n",
       "      <td>16:44:00</td>\n",
       "      <td>2.802</td>\n",
       "      <td>0.244</td>\n",
       "      <td>240.600</td>\n",
       "      <td>11.600</td>\n",
       "      <td>0.000</td>\n",
       "      <td>1.000</td>\n",
       "      <td>17.0</td>\n",
       "    </tr>\n",
       "    <tr>\n",
       "      <th>349043</th>\n",
       "      <td>16/8/2007</td>\n",
       "      <td>02:47:00</td>\n",
       "      <td>0.176</td>\n",
       "      <td>0.112</td>\n",
       "      <td>240.700</td>\n",
       "      <td>0.800</td>\n",
       "      <td>0.000</td>\n",
       "      <td>0.000</td>\n",
       "      <td>0.0</td>\n",
       "    </tr>\n",
       "    <tr>\n",
       "      <th>1311176</th>\n",
       "      <td>14/6/2009</td>\n",
       "      <td>06:20:00</td>\n",
       "      <td>?</td>\n",
       "      <td>?</td>\n",
       "      <td>?</td>\n",
       "      <td>?</td>\n",
       "      <td>?</td>\n",
       "      <td>?</td>\n",
       "      <td>NaN</td>\n",
       "    </tr>\n",
       "  </tbody>\n",
       "</table>\n",
       "</div>"
      ],
      "text/plain": [
       "              Date      Time Global_active_power Global_reactive_power  \\\n",
       "1722076  26/3/2010  14:40:00               0.254                 0.000   \n",
       "1680438  25/2/2010  16:42:00               2.098                 0.000   \n",
       "33080     8/1/2007  16:44:00               2.802                 0.244   \n",
       "349043   16/8/2007  02:47:00               0.176                 0.112   \n",
       "1311176  14/6/2009  06:20:00                   ?                     ?   \n",
       "\n",
       "         Voltage Global_intensity Sub_metering_1 Sub_metering_2  \\\n",
       "1722076  244.340            1.000          0.000          0.000   \n",
       "1680438  244.890            8.400          0.000          0.000   \n",
       "33080    240.600           11.600          0.000          1.000   \n",
       "349043   240.700            0.800          0.000          0.000   \n",
       "1311176        ?                ?              ?              ?   \n",
       "\n",
       "         Sub_metering_3  \n",
       "1722076             1.0  \n",
       "1680438            19.0  \n",
       "33080              17.0  \n",
       "349043              0.0  \n",
       "1311176             NaN  "
      ]
     },
     "execution_count": 5,
     "metadata": {},
     "output_type": "execute_result"
    }
   ],
   "source": [
    "sample_data.tail()"
   ]
  },
  {
   "cell_type": "code",
   "execution_count": 6,
   "id": "80b56cb1",
   "metadata": {},
   "outputs": [
    {
     "name": "stdout",
     "output_type": "stream",
     "text": [
      "<class 'pandas.core.frame.DataFrame'>\n",
      "Int64Index: 4000 entries, 843235 to 1311176\n",
      "Data columns (total 9 columns):\n",
      " #   Column                 Non-Null Count  Dtype  \n",
      "---  ------                 --------------  -----  \n",
      " 0   Date                   4000 non-null   object \n",
      " 1   Time                   4000 non-null   object \n",
      " 2   Global_active_power    4000 non-null   object \n",
      " 3   Global_reactive_power  4000 non-null   object \n",
      " 4   Voltage                4000 non-null   object \n",
      " 5   Global_intensity       4000 non-null   object \n",
      " 6   Sub_metering_1         4000 non-null   object \n",
      " 7   Sub_metering_2         4000 non-null   object \n",
      " 8   Sub_metering_3         3955 non-null   float64\n",
      "dtypes: float64(1), object(8)\n",
      "memory usage: 312.5+ KB\n"
     ]
    }
   ],
   "source": [
    "sample_data.info()"
   ]
  },
  {
   "cell_type": "code",
   "execution_count": 7,
   "id": "d4e149d0",
   "metadata": {},
   "outputs": [
    {
     "data": {
      "text/html": [
       "<div>\n",
       "<style scoped>\n",
       "    .dataframe tbody tr th:only-of-type {\n",
       "        vertical-align: middle;\n",
       "    }\n",
       "\n",
       "    .dataframe tbody tr th {\n",
       "        vertical-align: top;\n",
       "    }\n",
       "\n",
       "    .dataframe thead th {\n",
       "        text-align: right;\n",
       "    }\n",
       "</style>\n",
       "<table border=\"1\" class=\"dataframe\">\n",
       "  <thead>\n",
       "    <tr style=\"text-align: right;\">\n",
       "      <th></th>\n",
       "      <th>Sub_metering_3</th>\n",
       "    </tr>\n",
       "  </thead>\n",
       "  <tbody>\n",
       "    <tr>\n",
       "      <th>count</th>\n",
       "      <td>3955.000000</td>\n",
       "    </tr>\n",
       "    <tr>\n",
       "      <th>mean</th>\n",
       "      <td>6.476359</td>\n",
       "    </tr>\n",
       "    <tr>\n",
       "      <th>std</th>\n",
       "      <td>8.468552</td>\n",
       "    </tr>\n",
       "    <tr>\n",
       "      <th>min</th>\n",
       "      <td>0.000000</td>\n",
       "    </tr>\n",
       "    <tr>\n",
       "      <th>25%</th>\n",
       "      <td>0.000000</td>\n",
       "    </tr>\n",
       "    <tr>\n",
       "      <th>50%</th>\n",
       "      <td>1.000000</td>\n",
       "    </tr>\n",
       "    <tr>\n",
       "      <th>75%</th>\n",
       "      <td>17.000000</td>\n",
       "    </tr>\n",
       "    <tr>\n",
       "      <th>max</th>\n",
       "      <td>30.000000</td>\n",
       "    </tr>\n",
       "  </tbody>\n",
       "</table>\n",
       "</div>"
      ],
      "text/plain": [
       "       Sub_metering_3\n",
       "count     3955.000000\n",
       "mean         6.476359\n",
       "std          8.468552\n",
       "min          0.000000\n",
       "25%          0.000000\n",
       "50%          1.000000\n",
       "75%         17.000000\n",
       "max         30.000000"
      ]
     },
     "execution_count": 7,
     "metadata": {},
     "output_type": "execute_result"
    }
   ],
   "source": [
    "sample_data.describe()"
   ]
  },
  {
   "cell_type": "code",
   "execution_count": 8,
   "id": "90bfc6c7",
   "metadata": {},
   "outputs": [
    {
     "data": {
      "text/plain": [
       "(4000, 9)"
      ]
     },
     "execution_count": 8,
     "metadata": {},
     "output_type": "execute_result"
    }
   ],
   "source": [
    "sample_data.shape"
   ]
  },
  {
   "cell_type": "code",
   "execution_count": 9,
   "id": "8bc94521",
   "metadata": {},
   "outputs": [
    {
     "data": {
      "text/plain": [
       "Date                      0\n",
       "Time                      0\n",
       "Global_active_power       0\n",
       "Global_reactive_power     0\n",
       "Voltage                   0\n",
       "Global_intensity          0\n",
       "Sub_metering_1            0\n",
       "Sub_metering_2            0\n",
       "Sub_metering_3           45\n",
       "dtype: int64"
      ]
     },
     "execution_count": 9,
     "metadata": {},
     "output_type": "execute_result"
    }
   ],
   "source": [
    "sample_data.isnull().sum()"
   ]
  },
  {
   "cell_type": "code",
   "execution_count": 10,
   "id": "b83e59b0",
   "metadata": {},
   "outputs": [
    {
     "data": {
      "text/plain": [
       "6.476359039190897"
      ]
     },
     "execution_count": 10,
     "metadata": {},
     "output_type": "execute_result"
    }
   ],
   "source": [
    "sample_data['Sub_metering_3'].mean()"
   ]
  },
  {
   "cell_type": "code",
   "execution_count": 11,
   "id": "405e01e7",
   "metadata": {},
   "outputs": [],
   "source": [
    "sample_data['Sub_metering_3'] = sample_data['Sub_metering_3'].fillna(6.48)"
   ]
  },
  {
   "cell_type": "code",
   "execution_count": 13,
   "id": "917e3bb7",
   "metadata": {},
   "outputs": [
    {
     "data": {
      "text/plain": [
       "Date                     0\n",
       "Time                     0\n",
       "Global_active_power      0\n",
       "Global_reactive_power    0\n",
       "Voltage                  0\n",
       "Global_intensity         0\n",
       "Sub_metering_1           0\n",
       "Sub_metering_2           0\n",
       "Sub_metering_3           0\n",
       "dtype: int64"
      ]
     },
     "execution_count": 13,
     "metadata": {},
     "output_type": "execute_result"
    }
   ],
   "source": [
    "sample_data.isnull().sum()"
   ]
  },
  {
   "cell_type": "code",
   "execution_count": 14,
   "id": "cf652d04",
   "metadata": {},
   "outputs": [
    {
     "data": {
      "text/plain": [
       "(4000, 9)"
      ]
     },
     "execution_count": 14,
     "metadata": {},
     "output_type": "execute_result"
    }
   ],
   "source": [
    "sample_data.shape"
   ]
  },
  {
   "cell_type": "code",
   "execution_count": 15,
   "id": "cee16198",
   "metadata": {},
   "outputs": [
    {
     "name": "stdout",
     "output_type": "stream",
     "text": [
      "<class 'pandas.core.frame.DataFrame'>\n",
      "Int64Index: 4000 entries, 843235 to 1311176\n",
      "Data columns (total 9 columns):\n",
      " #   Column                 Non-Null Count  Dtype  \n",
      "---  ------                 --------------  -----  \n",
      " 0   Date                   4000 non-null   object \n",
      " 1   Time                   4000 non-null   object \n",
      " 2   Global_active_power    4000 non-null   object \n",
      " 3   Global_reactive_power  4000 non-null   object \n",
      " 4   Voltage                4000 non-null   object \n",
      " 5   Global_intensity       4000 non-null   object \n",
      " 6   Sub_metering_1         4000 non-null   object \n",
      " 7   Sub_metering_2         4000 non-null   object \n",
      " 8   Sub_metering_3         4000 non-null   float64\n",
      "dtypes: float64(1), object(8)\n",
      "memory usage: 312.5+ KB\n"
     ]
    }
   ],
   "source": [
    "sample_data.info()"
   ]
  },
  {
   "cell_type": "code",
   "execution_count": 16,
   "id": "8bfc05f2",
   "metadata": {},
   "outputs": [
    {
     "data": {
      "text/html": [
       "<div>\n",
       "<style scoped>\n",
       "    .dataframe tbody tr th:only-of-type {\n",
       "        vertical-align: middle;\n",
       "    }\n",
       "\n",
       "    .dataframe tbody tr th {\n",
       "        vertical-align: top;\n",
       "    }\n",
       "\n",
       "    .dataframe thead th {\n",
       "        text-align: right;\n",
       "    }\n",
       "</style>\n",
       "<table border=\"1\" class=\"dataframe\">\n",
       "  <thead>\n",
       "    <tr style=\"text-align: right;\">\n",
       "      <th></th>\n",
       "      <th>Date</th>\n",
       "      <th>Time</th>\n",
       "      <th>Global_active_power</th>\n",
       "      <th>Global_reactive_power</th>\n",
       "      <th>Voltage</th>\n",
       "      <th>Global_intensity</th>\n",
       "      <th>Sub_metering_1</th>\n",
       "      <th>Sub_metering_2</th>\n",
       "      <th>Sub_metering_3</th>\n",
       "    </tr>\n",
       "  </thead>\n",
       "  <tbody>\n",
       "    <tr>\n",
       "      <th>843235</th>\n",
       "      <td>24/7/2008</td>\n",
       "      <td>07:19:00</td>\n",
       "      <td>1.546</td>\n",
       "      <td>0.212</td>\n",
       "      <td>237.700</td>\n",
       "      <td>6.600</td>\n",
       "      <td>0.000</td>\n",
       "      <td>1.000</td>\n",
       "      <td>18.0</td>\n",
       "    </tr>\n",
       "    <tr>\n",
       "      <th>1338534</th>\n",
       "      <td>3/7/2009</td>\n",
       "      <td>06:18:00</td>\n",
       "      <td>0.308</td>\n",
       "      <td>0.246</td>\n",
       "      <td>243.470</td>\n",
       "      <td>1.600</td>\n",
       "      <td>0.000</td>\n",
       "      <td>2.000</td>\n",
       "      <td>1.0</td>\n",
       "    </tr>\n",
       "    <tr>\n",
       "      <th>122957</th>\n",
       "      <td>12/3/2007</td>\n",
       "      <td>02:41:00</td>\n",
       "      <td>0.312</td>\n",
       "      <td>0.104</td>\n",
       "      <td>246.440</td>\n",
       "      <td>1.400</td>\n",
       "      <td>0.000</td>\n",
       "      <td>1.000</td>\n",
       "      <td>0.0</td>\n",
       "    </tr>\n",
       "    <tr>\n",
       "      <th>1228092</th>\n",
       "      <td>17/4/2009</td>\n",
       "      <td>13:36:00</td>\n",
       "      <td>0.488</td>\n",
       "      <td>0.220</td>\n",
       "      <td>241.680</td>\n",
       "      <td>2.200</td>\n",
       "      <td>0.000</td>\n",
       "      <td>0.000</td>\n",
       "      <td>0.0</td>\n",
       "    </tr>\n",
       "    <tr>\n",
       "      <th>921361</th>\n",
       "      <td>16/9/2008</td>\n",
       "      <td>13:25:00</td>\n",
       "      <td>1.402</td>\n",
       "      <td>0.050</td>\n",
       "      <td>238.660</td>\n",
       "      <td>5.800</td>\n",
       "      <td>0.000</td>\n",
       "      <td>0.000</td>\n",
       "      <td>18.0</td>\n",
       "    </tr>\n",
       "  </tbody>\n",
       "</table>\n",
       "</div>"
      ],
      "text/plain": [
       "              Date      Time Global_active_power Global_reactive_power  \\\n",
       "843235   24/7/2008  07:19:00               1.546                 0.212   \n",
       "1338534   3/7/2009  06:18:00               0.308                 0.246   \n",
       "122957   12/3/2007  02:41:00               0.312                 0.104   \n",
       "1228092  17/4/2009  13:36:00               0.488                 0.220   \n",
       "921361   16/9/2008  13:25:00               1.402                 0.050   \n",
       "\n",
       "         Voltage Global_intensity Sub_metering_1 Sub_metering_2  \\\n",
       "843235   237.700            6.600          0.000          1.000   \n",
       "1338534  243.470            1.600          0.000          2.000   \n",
       "122957   246.440            1.400          0.000          1.000   \n",
       "1228092  241.680            2.200          0.000          0.000   \n",
       "921361   238.660            5.800          0.000          0.000   \n",
       "\n",
       "         Sub_metering_3  \n",
       "843235             18.0  \n",
       "1338534             1.0  \n",
       "122957              0.0  \n",
       "1228092             0.0  \n",
       "921361             18.0  "
      ]
     },
     "execution_count": 16,
     "metadata": {},
     "output_type": "execute_result"
    }
   ],
   "source": [
    "sample_data.head()"
   ]
  },
  {
   "cell_type": "code",
   "execution_count": 17,
   "id": "3f41e0ca",
   "metadata": {},
   "outputs": [],
   "source": [
    "sample_data = sample_data.replace(['?'],'NaN')"
   ]
  },
  {
   "cell_type": "code",
   "execution_count": 18,
   "id": "729c52f4",
   "metadata": {},
   "outputs": [
    {
     "data": {
      "text/plain": [
       "NaN      45\n",
       "0.316    25\n",
       "0.304    24\n",
       "0.218    22\n",
       "0.300    22\n",
       "         ..\n",
       "0.914     1\n",
       "1.820     1\n",
       "2.326     1\n",
       "2.470     1\n",
       "1.868     1\n",
       "Name: Global_active_power, Length: 1312, dtype: int64"
      ]
     },
     "execution_count": 18,
     "metadata": {},
     "output_type": "execute_result"
    }
   ],
   "source": [
    "sample_data['Global_active_power'].value_counts()"
   ]
  },
  {
   "cell_type": "code",
   "execution_count": 19,
   "id": "d669f6e3",
   "metadata": {},
   "outputs": [],
   "source": [
    "sample_data['Global_active_power'] = sample_data['Global_active_power'].astype(float)"
   ]
  },
  {
   "cell_type": "code",
   "execution_count": 20,
   "id": "246c0720",
   "metadata": {},
   "outputs": [
    {
     "data": {
      "text/plain": [
       "1.078982553729456"
      ]
     },
     "execution_count": 20,
     "metadata": {},
     "output_type": "execute_result"
    }
   ],
   "source": [
    "sample_data['Global_active_power'].mean()"
   ]
  },
  {
   "cell_type": "code",
   "execution_count": 21,
   "id": "dde983a8",
   "metadata": {},
   "outputs": [],
   "source": [
    "sample_data['Global_active_power'] = sample_data['Global_active_power'].replace('NaN', '1.08')"
   ]
  },
  {
   "cell_type": "code",
   "execution_count": 23,
   "id": "e9fcff87",
   "metadata": {},
   "outputs": [
    {
     "data": {
      "text/plain": [
       "0.000    941\n",
       "0.100     54\n",
       "0.102     48\n",
       "0.094     47\n",
       "0.106     47\n",
       "        ... \n",
       "0.368      1\n",
       "0.376      1\n",
       "0.442      1\n",
       "0.188      1\n",
       "0.674      1\n",
       "Name: Global_reactive_power, Length: 277, dtype: int64"
      ]
     },
     "execution_count": 23,
     "metadata": {},
     "output_type": "execute_result"
    }
   ],
   "source": [
    "sample_data['Global_reactive_power'].value_counts()"
   ]
  },
  {
   "cell_type": "code",
   "execution_count": 25,
   "id": "9f80ce72",
   "metadata": {},
   "outputs": [
    {
     "data": {
      "text/plain": [
       "NaN        45\n",
       "241.180    13\n",
       "240.610    13\n",
       "241.190    12\n",
       "241.050    11\n",
       "           ..\n",
       "248.100     1\n",
       "242.740     1\n",
       "245.720     1\n",
       "237.16      1\n",
       "249.700     1\n",
       "Name: Voltage, Length: 1357, dtype: int64"
      ]
     },
     "execution_count": 25,
     "metadata": {},
     "output_type": "execute_result"
    }
   ],
   "source": [
    "sample_data['Voltage'].value_counts()"
   ]
  },
  {
   "cell_type": "code",
   "execution_count": 28,
   "id": "f4fed422",
   "metadata": {},
   "outputs": [],
   "source": [
    "sample_data['Voltage'] = sample_data['Voltage'].astype(float)"
   ]
  },
  {
   "cell_type": "code",
   "execution_count": 29,
   "id": "ea83fab9",
   "metadata": {},
   "outputs": [
    {
     "data": {
      "text/plain": [
       "240.84759544879904"
      ]
     },
     "execution_count": 29,
     "metadata": {},
     "output_type": "execute_result"
    }
   ],
   "source": [
    "sample_data['Voltage'].mean()"
   ]
  },
  {
   "cell_type": "code",
   "execution_count": 30,
   "id": "960f92aa",
   "metadata": {},
   "outputs": [],
   "source": [
    "sample_data['Voltage'] = sample_data['Voltage'].replace('NaN', '240.84')"
   ]
  },
  {
   "cell_type": "code",
   "execution_count": 31,
   "id": "8ad18afc",
   "metadata": {},
   "outputs": [
    {
     "data": {
      "text/plain": [
       "1.400     326\n",
       "1.000     316\n",
       "1.200     287\n",
       "1.600     233\n",
       "1.800     171\n",
       "         ... \n",
       "4.8         1\n",
       "24.400      1\n",
       "7.6         1\n",
       "21.800      1\n",
       "21.400      1\n",
       "Name: Global_intensity, Length: 165, dtype: int64"
      ]
     },
     "execution_count": 31,
     "metadata": {},
     "output_type": "execute_result"
    }
   ],
   "source": [
    "sample_data['Global_intensity'].value_counts()"
   ]
  },
  {
   "cell_type": "code",
   "execution_count": 32,
   "id": "28f845f0",
   "metadata": {},
   "outputs": [
    {
     "data": {
      "text/plain": [
       "0.000     3538\n",
       "1.000      166\n",
       "0.0         78\n",
       "NaN         45\n",
       "2.000       34\n",
       "38.000      31\n",
       "37.000      28\n",
       "36.000      14\n",
       "1.0         10\n",
       "39.000       8\n",
       "27.000       4\n",
       "14.000       3\n",
       "40.000       3\n",
       "3.000        2\n",
       "31.000       2\n",
       "38.0         2\n",
       "37.0         2\n",
       "7.000        2\n",
       "74.000       1\n",
       "4.000        1\n",
       "24.000       1\n",
       "15.000       1\n",
       "5.000        1\n",
       "35.000       1\n",
       "47.000       1\n",
       "32.000       1\n",
       "23.000       1\n",
       "44.000       1\n",
       "30.0         1\n",
       "25.000       1\n",
       "21.000       1\n",
       "17.000       1\n",
       "26.000       1\n",
       "30.000       1\n",
       "16.000       1\n",
       "10.000       1\n",
       "53.000       1\n",
       "73.000       1\n",
       "8.000        1\n",
       "6.000        1\n",
       "22.000       1\n",
       "20.000       1\n",
       "28.000       1\n",
       "18.000       1\n",
       "19.000       1\n",
       "50.000       1\n",
       "Name: Sub_metering_1, dtype: int64"
      ]
     },
     "execution_count": 32,
     "metadata": {},
     "output_type": "execute_result"
    }
   ],
   "source": [
    "sample_data['Sub_metering_1'].value_counts()"
   ]
  },
  {
   "cell_type": "code",
   "execution_count": 33,
   "id": "2ed50c86",
   "metadata": {},
   "outputs": [],
   "source": [
    "sample_data['Sub_metering_1'] = sample_data['Sub_metering_1'].astype(float)"
   ]
  },
  {
   "cell_type": "code",
   "execution_count": 34,
   "id": "ca59269b",
   "metadata": {},
   "outputs": [
    {
     "data": {
      "text/plain": [
       "1.1506953223767382"
      ]
     },
     "execution_count": 34,
     "metadata": {},
     "output_type": "execute_result"
    }
   ],
   "source": [
    "sample_data['Sub_metering_1'].mean()"
   ]
  },
  {
   "cell_type": "code",
   "execution_count": 35,
   "id": "42f7e14b",
   "metadata": {},
   "outputs": [],
   "source": [
    "sample_data['Sub_metering_1'] = sample_data['Sub_metering_1'].replace('NaN', '1.15')"
   ]
  },
  {
   "cell_type": "code",
   "execution_count": 36,
   "id": "85b52835",
   "metadata": {},
   "outputs": [
    {
     "data": {
      "text/plain": [
       "0.000     2692\n",
       "1.000      718\n",
       "2.000      290\n",
       "0.0         60\n",
       "NaN         45\n",
       "1.0         22\n",
       "37.000      21\n",
       "4.000       19\n",
       "38.000      13\n",
       "3.000       12\n",
       "5.000       11\n",
       "36.000      11\n",
       "2.0          8\n",
       "22.000       6\n",
       "17.000       5\n",
       "35.000       5\n",
       "20.000       5\n",
       "18.000       3\n",
       "8.000        3\n",
       "24.000       3\n",
       "16.000       3\n",
       "27.000       3\n",
       "19.000       3\n",
       "6.000        2\n",
       "56.000       2\n",
       "33.000       2\n",
       "31.000       2\n",
       "30.000       2\n",
       "7.000        2\n",
       "26.000       2\n",
       "39.000       2\n",
       "72.000       2\n",
       "29.000       2\n",
       "34.000       1\n",
       "74.000       1\n",
       "67.000       1\n",
       "15.000       1\n",
       "40.000       1\n",
       "43.000       1\n",
       "32.000       1\n",
       "23.000       1\n",
       "49.000       1\n",
       "28.000       1\n",
       "66.000       1\n",
       "21.000       1\n",
       "12.000       1\n",
       "69.000       1\n",
       "26.0         1\n",
       "24.0         1\n",
       "55.000       1\n",
       "3.0          1\n",
       "14.000       1\n",
       "Name: Sub_metering_2, dtype: int64"
      ]
     },
     "execution_count": 36,
     "metadata": {},
     "output_type": "execute_result"
    }
   ],
   "source": [
    "sample_data['Sub_metering_2'].value_counts()"
   ]
  },
  {
   "cell_type": "code",
   "execution_count": 37,
   "id": "6fa6c733",
   "metadata": {},
   "outputs": [],
   "source": [
    "sample_data['Sub_metering_2'] = sample_data['Sub_metering_2'].astype(float)"
   ]
  },
  {
   "cell_type": "code",
   "execution_count": 38,
   "id": "b3991c53",
   "metadata": {},
   "outputs": [
    {
     "data": {
      "text/plain": [
       "1.3529709228824274"
      ]
     },
     "execution_count": 38,
     "metadata": {},
     "output_type": "execute_result"
    }
   ],
   "source": [
    "sample_data['Sub_metering_2'].mean()"
   ]
  },
  {
   "cell_type": "code",
   "execution_count": 39,
   "id": "ae2ac976",
   "metadata": {},
   "outputs": [],
   "source": [
    "sample_data['Sub_metering_2'] = sample_data['Sub_metering_2'].replace('NaN', '1.35')"
   ]
  },
  {
   "cell_type": "code",
   "execution_count": 40,
   "id": "f290336a",
   "metadata": {},
   "outputs": [
    {
     "data": {
      "text/plain": [
       "0.00     1694\n",
       "1.00      863\n",
       "18.00     697\n",
       "17.00     306\n",
       "19.00     221\n",
       "6.48       45\n",
       "12.00      33\n",
       "16.00      33\n",
       "11.00      19\n",
       "28.00      14\n",
       "29.00      14\n",
       "20.00       9\n",
       "13.00       8\n",
       "10.00       6\n",
       "3.00        4\n",
       "6.00        4\n",
       "7.00        4\n",
       "22.00       4\n",
       "30.00       3\n",
       "9.00        3\n",
       "8.00        2\n",
       "25.00       2\n",
       "4.00        2\n",
       "15.00       2\n",
       "5.00        2\n",
       "24.00       2\n",
       "27.00       2\n",
       "23.00       1\n",
       "21.00       1\n",
       "Name: Sub_metering_3, dtype: int64"
      ]
     },
     "execution_count": 40,
     "metadata": {},
     "output_type": "execute_result"
    }
   ],
   "source": [
    "sample_data['Sub_metering_3'].value_counts()"
   ]
  },
  {
   "cell_type": "code",
   "execution_count": 41,
   "id": "52d1c392",
   "metadata": {},
   "outputs": [
    {
     "data": {
      "text/plain": [
       "1.400     326\n",
       "1.000     316\n",
       "1.200     287\n",
       "1.600     233\n",
       "1.800     171\n",
       "         ... \n",
       "4.8         1\n",
       "24.400      1\n",
       "7.6         1\n",
       "21.800      1\n",
       "21.400      1\n",
       "Name: Global_intensity, Length: 165, dtype: int64"
      ]
     },
     "execution_count": 41,
     "metadata": {},
     "output_type": "execute_result"
    }
   ],
   "source": [
    "sample_data['Global_intensity'].value_counts()"
   ]
  },
  {
   "cell_type": "code",
   "execution_count": 42,
   "id": "c1285681",
   "metadata": {},
   "outputs": [],
   "source": [
    "sample_data['Global_intensity'] = sample_data['Global_intensity'].astype(float)"
   ]
  },
  {
   "cell_type": "code",
   "execution_count": 44,
   "id": "e494f846",
   "metadata": {},
   "outputs": [],
   "source": [
    "sample_data[\"Date\"] = pd.to_datetime(sample_data.Date + ' ' + sample_data.Time)"
   ]
  },
  {
   "cell_type": "code",
   "execution_count": 45,
   "id": "2a67eb3a",
   "metadata": {},
   "outputs": [
    {
     "name": "stdout",
     "output_type": "stream",
     "text": [
      "<class 'pandas.core.frame.DataFrame'>\n",
      "Int64Index: 4000 entries, 843235 to 1311176\n",
      "Data columns (total 9 columns):\n",
      " #   Column                 Non-Null Count  Dtype         \n",
      "---  ------                 --------------  -----         \n",
      " 0   Date                   4000 non-null   datetime64[ns]\n",
      " 1   Time                   4000 non-null   object        \n",
      " 2   Global_active_power    3955 non-null   float64       \n",
      " 3   Global_reactive_power  4000 non-null   object        \n",
      " 4   Voltage                3955 non-null   float64       \n",
      " 5   Global_intensity       3955 non-null   float64       \n",
      " 6   Sub_metering_1         3955 non-null   float64       \n",
      " 7   Sub_metering_2         3955 non-null   float64       \n",
      " 8   Sub_metering_3         4000 non-null   float64       \n",
      "dtypes: datetime64[ns](1), float64(6), object(2)\n",
      "memory usage: 312.5+ KB\n"
     ]
    }
   ],
   "source": [
    "sample_data.info()"
   ]
  },
  {
   "cell_type": "code",
   "execution_count": 46,
   "id": "8e282226",
   "metadata": {},
   "outputs": [
    {
     "data": {
      "text/html": [
       "<div>\n",
       "<style scoped>\n",
       "    .dataframe tbody tr th:only-of-type {\n",
       "        vertical-align: middle;\n",
       "    }\n",
       "\n",
       "    .dataframe tbody tr th {\n",
       "        vertical-align: top;\n",
       "    }\n",
       "\n",
       "    .dataframe thead th {\n",
       "        text-align: right;\n",
       "    }\n",
       "</style>\n",
       "<table border=\"1\" class=\"dataframe\">\n",
       "  <thead>\n",
       "    <tr style=\"text-align: right;\">\n",
       "      <th></th>\n",
       "      <th>Date</th>\n",
       "      <th>Time</th>\n",
       "      <th>Global_active_power</th>\n",
       "      <th>Global_reactive_power</th>\n",
       "      <th>Voltage</th>\n",
       "      <th>Global_intensity</th>\n",
       "      <th>Sub_metering_1</th>\n",
       "      <th>Sub_metering_2</th>\n",
       "      <th>Sub_metering_3</th>\n",
       "    </tr>\n",
       "  </thead>\n",
       "  <tbody>\n",
       "    <tr>\n",
       "      <th>843235</th>\n",
       "      <td>2008-07-24 07:19:00</td>\n",
       "      <td>07:19:00</td>\n",
       "      <td>1.546</td>\n",
       "      <td>0.212</td>\n",
       "      <td>237.70</td>\n",
       "      <td>6.6</td>\n",
       "      <td>0.0</td>\n",
       "      <td>1.0</td>\n",
       "      <td>18.0</td>\n",
       "    </tr>\n",
       "    <tr>\n",
       "      <th>1338534</th>\n",
       "      <td>2009-03-07 06:18:00</td>\n",
       "      <td>06:18:00</td>\n",
       "      <td>0.308</td>\n",
       "      <td>0.246</td>\n",
       "      <td>243.47</td>\n",
       "      <td>1.6</td>\n",
       "      <td>0.0</td>\n",
       "      <td>2.0</td>\n",
       "      <td>1.0</td>\n",
       "    </tr>\n",
       "    <tr>\n",
       "      <th>122957</th>\n",
       "      <td>2007-12-03 02:41:00</td>\n",
       "      <td>02:41:00</td>\n",
       "      <td>0.312</td>\n",
       "      <td>0.104</td>\n",
       "      <td>246.44</td>\n",
       "      <td>1.4</td>\n",
       "      <td>0.0</td>\n",
       "      <td>1.0</td>\n",
       "      <td>0.0</td>\n",
       "    </tr>\n",
       "    <tr>\n",
       "      <th>1228092</th>\n",
       "      <td>2009-04-17 13:36:00</td>\n",
       "      <td>13:36:00</td>\n",
       "      <td>0.488</td>\n",
       "      <td>0.220</td>\n",
       "      <td>241.68</td>\n",
       "      <td>2.2</td>\n",
       "      <td>0.0</td>\n",
       "      <td>0.0</td>\n",
       "      <td>0.0</td>\n",
       "    </tr>\n",
       "    <tr>\n",
       "      <th>921361</th>\n",
       "      <td>2008-09-16 13:25:00</td>\n",
       "      <td>13:25:00</td>\n",
       "      <td>1.402</td>\n",
       "      <td>0.050</td>\n",
       "      <td>238.66</td>\n",
       "      <td>5.8</td>\n",
       "      <td>0.0</td>\n",
       "      <td>0.0</td>\n",
       "      <td>18.0</td>\n",
       "    </tr>\n",
       "  </tbody>\n",
       "</table>\n",
       "</div>"
      ],
      "text/plain": [
       "                       Date      Time  Global_active_power  \\\n",
       "843235  2008-07-24 07:19:00  07:19:00                1.546   \n",
       "1338534 2009-03-07 06:18:00  06:18:00                0.308   \n",
       "122957  2007-12-03 02:41:00  02:41:00                0.312   \n",
       "1228092 2009-04-17 13:36:00  13:36:00                0.488   \n",
       "921361  2008-09-16 13:25:00  13:25:00                1.402   \n",
       "\n",
       "        Global_reactive_power  Voltage  Global_intensity  Sub_metering_1  \\\n",
       "843235                  0.212   237.70               6.6             0.0   \n",
       "1338534                 0.246   243.47               1.6             0.0   \n",
       "122957                  0.104   246.44               1.4             0.0   \n",
       "1228092                 0.220   241.68               2.2             0.0   \n",
       "921361                  0.050   238.66               5.8             0.0   \n",
       "\n",
       "         Sub_metering_2  Sub_metering_3  \n",
       "843235              1.0            18.0  \n",
       "1338534             2.0             1.0  \n",
       "122957              1.0             0.0  \n",
       "1228092             0.0             0.0  \n",
       "921361              0.0            18.0  "
      ]
     },
     "execution_count": 46,
     "metadata": {},
     "output_type": "execute_result"
    }
   ],
   "source": [
    "sample_data.head()"
   ]
  },
  {
   "cell_type": "code",
   "execution_count": 47,
   "id": "2da855b7",
   "metadata": {},
   "outputs": [],
   "source": [
    "sample_data.drop(['Time'], axis=1, inplace=True)\n",
    "# Time is unique, so it is not required in clustering"
   ]
  },
  {
   "cell_type": "code",
   "execution_count": 49,
   "id": "d687721c",
   "metadata": {},
   "outputs": [
    {
     "data": {
      "text/html": [
       "<div>\n",
       "<style scoped>\n",
       "    .dataframe tbody tr th:only-of-type {\n",
       "        vertical-align: middle;\n",
       "    }\n",
       "\n",
       "    .dataframe tbody tr th {\n",
       "        vertical-align: top;\n",
       "    }\n",
       "\n",
       "    .dataframe thead th {\n",
       "        text-align: right;\n",
       "    }\n",
       "</style>\n",
       "<table border=\"1\" class=\"dataframe\">\n",
       "  <thead>\n",
       "    <tr style=\"text-align: right;\">\n",
       "      <th></th>\n",
       "      <th>Date</th>\n",
       "      <th>Global_active_power</th>\n",
       "      <th>Global_reactive_power</th>\n",
       "      <th>Voltage</th>\n",
       "      <th>Global_intensity</th>\n",
       "      <th>Sub_metering_1</th>\n",
       "      <th>Sub_metering_2</th>\n",
       "      <th>Sub_metering_3</th>\n",
       "    </tr>\n",
       "  </thead>\n",
       "  <tbody>\n",
       "    <tr>\n",
       "      <th>843235</th>\n",
       "      <td>2008-07-24 07:19:00</td>\n",
       "      <td>1.546</td>\n",
       "      <td>0.212</td>\n",
       "      <td>237.70</td>\n",
       "      <td>6.6</td>\n",
       "      <td>0.0</td>\n",
       "      <td>1.0</td>\n",
       "      <td>18.0</td>\n",
       "    </tr>\n",
       "    <tr>\n",
       "      <th>1338534</th>\n",
       "      <td>2009-03-07 06:18:00</td>\n",
       "      <td>0.308</td>\n",
       "      <td>0.246</td>\n",
       "      <td>243.47</td>\n",
       "      <td>1.6</td>\n",
       "      <td>0.0</td>\n",
       "      <td>2.0</td>\n",
       "      <td>1.0</td>\n",
       "    </tr>\n",
       "    <tr>\n",
       "      <th>122957</th>\n",
       "      <td>2007-12-03 02:41:00</td>\n",
       "      <td>0.312</td>\n",
       "      <td>0.104</td>\n",
       "      <td>246.44</td>\n",
       "      <td>1.4</td>\n",
       "      <td>0.0</td>\n",
       "      <td>1.0</td>\n",
       "      <td>0.0</td>\n",
       "    </tr>\n",
       "    <tr>\n",
       "      <th>1228092</th>\n",
       "      <td>2009-04-17 13:36:00</td>\n",
       "      <td>0.488</td>\n",
       "      <td>0.220</td>\n",
       "      <td>241.68</td>\n",
       "      <td>2.2</td>\n",
       "      <td>0.0</td>\n",
       "      <td>0.0</td>\n",
       "      <td>0.0</td>\n",
       "    </tr>\n",
       "    <tr>\n",
       "      <th>921361</th>\n",
       "      <td>2008-09-16 13:25:00</td>\n",
       "      <td>1.402</td>\n",
       "      <td>0.050</td>\n",
       "      <td>238.66</td>\n",
       "      <td>5.8</td>\n",
       "      <td>0.0</td>\n",
       "      <td>0.0</td>\n",
       "      <td>18.0</td>\n",
       "    </tr>\n",
       "  </tbody>\n",
       "</table>\n",
       "</div>"
      ],
      "text/plain": [
       "                       Date  Global_active_power Global_reactive_power  \\\n",
       "843235  2008-07-24 07:19:00                1.546                 0.212   \n",
       "1338534 2009-03-07 06:18:00                0.308                 0.246   \n",
       "122957  2007-12-03 02:41:00                0.312                 0.104   \n",
       "1228092 2009-04-17 13:36:00                0.488                 0.220   \n",
       "921361  2008-09-16 13:25:00                1.402                 0.050   \n",
       "\n",
       "         Voltage  Global_intensity  Sub_metering_1  Sub_metering_2  \\\n",
       "843235    237.70               6.6             0.0             1.0   \n",
       "1338534   243.47               1.6             0.0             2.0   \n",
       "122957    246.44               1.4             0.0             1.0   \n",
       "1228092   241.68               2.2             0.0             0.0   \n",
       "921361    238.66               5.8             0.0             0.0   \n",
       "\n",
       "         Sub_metering_3  \n",
       "843235             18.0  \n",
       "1338534             1.0  \n",
       "122957              0.0  \n",
       "1228092             0.0  \n",
       "921361             18.0  "
      ]
     },
     "execution_count": 49,
     "metadata": {},
     "output_type": "execute_result"
    }
   ],
   "source": [
    "sample_data.head()"
   ]
  },
  {
   "cell_type": "code",
   "execution_count": 50,
   "id": "891ad433",
   "metadata": {},
   "outputs": [],
   "source": [
    "sample_data['Energy_Consumed'] = sample_data['Global_active_power']*1000/60 - sample_data['Sub_metering_1'] - sample_data['Sub_metering_2'] - sample_data['Sub_metering_3']"
   ]
  },
  {
   "cell_type": "code",
   "execution_count": 51,
   "id": "0f0bd848",
   "metadata": {},
   "outputs": [
    {
     "data": {
      "text/html": [
       "<div>\n",
       "<style scoped>\n",
       "    .dataframe tbody tr th:only-of-type {\n",
       "        vertical-align: middle;\n",
       "    }\n",
       "\n",
       "    .dataframe tbody tr th {\n",
       "        vertical-align: top;\n",
       "    }\n",
       "\n",
       "    .dataframe thead th {\n",
       "        text-align: right;\n",
       "    }\n",
       "</style>\n",
       "<table border=\"1\" class=\"dataframe\">\n",
       "  <thead>\n",
       "    <tr style=\"text-align: right;\">\n",
       "      <th></th>\n",
       "      <th>Date</th>\n",
       "      <th>Global_active_power</th>\n",
       "      <th>Global_reactive_power</th>\n",
       "      <th>Voltage</th>\n",
       "      <th>Global_intensity</th>\n",
       "      <th>Sub_metering_1</th>\n",
       "      <th>Sub_metering_2</th>\n",
       "      <th>Sub_metering_3</th>\n",
       "      <th>Energy_Consumed</th>\n",
       "    </tr>\n",
       "  </thead>\n",
       "  <tbody>\n",
       "    <tr>\n",
       "      <th>843235</th>\n",
       "      <td>2008-07-24 07:19:00</td>\n",
       "      <td>1.546</td>\n",
       "      <td>0.212</td>\n",
       "      <td>237.70</td>\n",
       "      <td>6.6</td>\n",
       "      <td>0.0</td>\n",
       "      <td>1.0</td>\n",
       "      <td>18.0</td>\n",
       "      <td>6.766667</td>\n",
       "    </tr>\n",
       "    <tr>\n",
       "      <th>1338534</th>\n",
       "      <td>2009-03-07 06:18:00</td>\n",
       "      <td>0.308</td>\n",
       "      <td>0.246</td>\n",
       "      <td>243.47</td>\n",
       "      <td>1.6</td>\n",
       "      <td>0.0</td>\n",
       "      <td>2.0</td>\n",
       "      <td>1.0</td>\n",
       "      <td>2.133333</td>\n",
       "    </tr>\n",
       "    <tr>\n",
       "      <th>122957</th>\n",
       "      <td>2007-12-03 02:41:00</td>\n",
       "      <td>0.312</td>\n",
       "      <td>0.104</td>\n",
       "      <td>246.44</td>\n",
       "      <td>1.4</td>\n",
       "      <td>0.0</td>\n",
       "      <td>1.0</td>\n",
       "      <td>0.0</td>\n",
       "      <td>4.200000</td>\n",
       "    </tr>\n",
       "    <tr>\n",
       "      <th>1228092</th>\n",
       "      <td>2009-04-17 13:36:00</td>\n",
       "      <td>0.488</td>\n",
       "      <td>0.220</td>\n",
       "      <td>241.68</td>\n",
       "      <td>2.2</td>\n",
       "      <td>0.0</td>\n",
       "      <td>0.0</td>\n",
       "      <td>0.0</td>\n",
       "      <td>8.133333</td>\n",
       "    </tr>\n",
       "    <tr>\n",
       "      <th>921361</th>\n",
       "      <td>2008-09-16 13:25:00</td>\n",
       "      <td>1.402</td>\n",
       "      <td>0.050</td>\n",
       "      <td>238.66</td>\n",
       "      <td>5.8</td>\n",
       "      <td>0.0</td>\n",
       "      <td>0.0</td>\n",
       "      <td>18.0</td>\n",
       "      <td>5.366667</td>\n",
       "    </tr>\n",
       "  </tbody>\n",
       "</table>\n",
       "</div>"
      ],
      "text/plain": [
       "                       Date  Global_active_power Global_reactive_power  \\\n",
       "843235  2008-07-24 07:19:00                1.546                 0.212   \n",
       "1338534 2009-03-07 06:18:00                0.308                 0.246   \n",
       "122957  2007-12-03 02:41:00                0.312                 0.104   \n",
       "1228092 2009-04-17 13:36:00                0.488                 0.220   \n",
       "921361  2008-09-16 13:25:00                1.402                 0.050   \n",
       "\n",
       "         Voltage  Global_intensity  Sub_metering_1  Sub_metering_2  \\\n",
       "843235    237.70               6.6             0.0             1.0   \n",
       "1338534   243.47               1.6             0.0             2.0   \n",
       "122957    246.44               1.4             0.0             1.0   \n",
       "1228092   241.68               2.2             0.0             0.0   \n",
       "921361    238.66               5.8             0.0             0.0   \n",
       "\n",
       "         Sub_metering_3  Energy_Consumed  \n",
       "843235             18.0         6.766667  \n",
       "1338534             1.0         2.133333  \n",
       "122957              0.0         4.200000  \n",
       "1228092             0.0         8.133333  \n",
       "921361             18.0         5.366667  "
      ]
     },
     "execution_count": 51,
     "metadata": {},
     "output_type": "execute_result"
    }
   ],
   "source": [
    "sample_data.head()"
   ]
  },
  {
   "cell_type": "code",
   "execution_count": 52,
   "id": "bad089d4",
   "metadata": {},
   "outputs": [
    {
     "name": "stdout",
     "output_type": "stream",
     "text": [
      "<class 'pandas.core.frame.DataFrame'>\n",
      "Int64Index: 4000 entries, 843235 to 1311176\n",
      "Data columns (total 9 columns):\n",
      " #   Column                 Non-Null Count  Dtype         \n",
      "---  ------                 --------------  -----         \n",
      " 0   Date                   4000 non-null   datetime64[ns]\n",
      " 1   Global_active_power    3955 non-null   float64       \n",
      " 2   Global_reactive_power  4000 non-null   object        \n",
      " 3   Voltage                3955 non-null   float64       \n",
      " 4   Global_intensity       3955 non-null   float64       \n",
      " 5   Sub_metering_1         3955 non-null   float64       \n",
      " 6   Sub_metering_2         3955 non-null   float64       \n",
      " 7   Sub_metering_3         4000 non-null   float64       \n",
      " 8   Energy_Consumed        3955 non-null   float64       \n",
      "dtypes: datetime64[ns](1), float64(7), object(1)\n",
      "memory usage: 312.5+ KB\n"
     ]
    }
   ],
   "source": [
    "sample_data.info()"
   ]
  },
  {
   "cell_type": "code",
   "execution_count": 53,
   "id": "3fd8d9b1",
   "metadata": {},
   "outputs": [
    {
     "data": {
      "text/plain": [
       "Date                      0\n",
       "Global_active_power      45\n",
       "Global_reactive_power     0\n",
       "Voltage                  45\n",
       "Global_intensity         45\n",
       "Sub_metering_1           45\n",
       "Sub_metering_2           45\n",
       "Sub_metering_3            0\n",
       "Energy_Consumed          45\n",
       "dtype: int64"
      ]
     },
     "execution_count": 53,
     "metadata": {},
     "output_type": "execute_result"
    }
   ],
   "source": [
    "sample_data.isnull().sum()"
   ]
  },
  {
   "cell_type": "code",
   "execution_count": 55,
   "id": "496b15c5",
   "metadata": {},
   "outputs": [],
   "source": [
    "sample_data.dropna(axis=0, inplace=True)"
   ]
  },
  {
   "cell_type": "code",
   "execution_count": 56,
   "id": "85335142",
   "metadata": {},
   "outputs": [
    {
     "data": {
      "text/plain": [
       "(3955, 9)"
      ]
     },
     "execution_count": 56,
     "metadata": {},
     "output_type": "execute_result"
    }
   ],
   "source": [
    "sample_data.shape"
   ]
  },
  {
   "cell_type": "code",
   "execution_count": 57,
   "id": "909c1a44",
   "metadata": {},
   "outputs": [
    {
     "data": {
      "text/plain": [
       "Date                     0\n",
       "Global_active_power      0\n",
       "Global_reactive_power    0\n",
       "Voltage                  0\n",
       "Global_intensity         0\n",
       "Sub_metering_1           0\n",
       "Sub_metering_2           0\n",
       "Sub_metering_3           0\n",
       "Energy_Consumed          0\n",
       "dtype: int64"
      ]
     },
     "execution_count": 57,
     "metadata": {},
     "output_type": "execute_result"
    }
   ],
   "source": [
    "sample_data.isnull().sum()"
   ]
  },
  {
   "cell_type": "code",
   "execution_count": 58,
   "id": "18909e6d",
   "metadata": {},
   "outputs": [
    {
     "data": {
      "text/html": [
       "<div>\n",
       "<style scoped>\n",
       "    .dataframe tbody tr th:only-of-type {\n",
       "        vertical-align: middle;\n",
       "    }\n",
       "\n",
       "    .dataframe tbody tr th {\n",
       "        vertical-align: top;\n",
       "    }\n",
       "\n",
       "    .dataframe thead th {\n",
       "        text-align: right;\n",
       "    }\n",
       "</style>\n",
       "<table border=\"1\" class=\"dataframe\">\n",
       "  <thead>\n",
       "    <tr style=\"text-align: right;\">\n",
       "      <th></th>\n",
       "      <th>Date</th>\n",
       "      <th>Global_active_power</th>\n",
       "      <th>Global_reactive_power</th>\n",
       "      <th>Voltage</th>\n",
       "      <th>Global_intensity</th>\n",
       "      <th>Sub_metering_1</th>\n",
       "      <th>Sub_metering_2</th>\n",
       "      <th>Sub_metering_3</th>\n",
       "      <th>Energy_Consumed</th>\n",
       "    </tr>\n",
       "  </thead>\n",
       "  <tbody>\n",
       "    <tr>\n",
       "      <th>843235</th>\n",
       "      <td>2008-07-24 07:19:00</td>\n",
       "      <td>1.546</td>\n",
       "      <td>0.212</td>\n",
       "      <td>237.70</td>\n",
       "      <td>6.6</td>\n",
       "      <td>0.0</td>\n",
       "      <td>1.0</td>\n",
       "      <td>18.0</td>\n",
       "      <td>6.766667</td>\n",
       "    </tr>\n",
       "    <tr>\n",
       "      <th>1338534</th>\n",
       "      <td>2009-03-07 06:18:00</td>\n",
       "      <td>0.308</td>\n",
       "      <td>0.246</td>\n",
       "      <td>243.47</td>\n",
       "      <td>1.6</td>\n",
       "      <td>0.0</td>\n",
       "      <td>2.0</td>\n",
       "      <td>1.0</td>\n",
       "      <td>2.133333</td>\n",
       "    </tr>\n",
       "    <tr>\n",
       "      <th>122957</th>\n",
       "      <td>2007-12-03 02:41:00</td>\n",
       "      <td>0.312</td>\n",
       "      <td>0.104</td>\n",
       "      <td>246.44</td>\n",
       "      <td>1.4</td>\n",
       "      <td>0.0</td>\n",
       "      <td>1.0</td>\n",
       "      <td>0.0</td>\n",
       "      <td>4.200000</td>\n",
       "    </tr>\n",
       "    <tr>\n",
       "      <th>1228092</th>\n",
       "      <td>2009-04-17 13:36:00</td>\n",
       "      <td>0.488</td>\n",
       "      <td>0.220</td>\n",
       "      <td>241.68</td>\n",
       "      <td>2.2</td>\n",
       "      <td>0.0</td>\n",
       "      <td>0.0</td>\n",
       "      <td>0.0</td>\n",
       "      <td>8.133333</td>\n",
       "    </tr>\n",
       "    <tr>\n",
       "      <th>921361</th>\n",
       "      <td>2008-09-16 13:25:00</td>\n",
       "      <td>1.402</td>\n",
       "      <td>0.050</td>\n",
       "      <td>238.66</td>\n",
       "      <td>5.8</td>\n",
       "      <td>0.0</td>\n",
       "      <td>0.0</td>\n",
       "      <td>18.0</td>\n",
       "      <td>5.366667</td>\n",
       "    </tr>\n",
       "  </tbody>\n",
       "</table>\n",
       "</div>"
      ],
      "text/plain": [
       "                       Date  Global_active_power Global_reactive_power  \\\n",
       "843235  2008-07-24 07:19:00                1.546                 0.212   \n",
       "1338534 2009-03-07 06:18:00                0.308                 0.246   \n",
       "122957  2007-12-03 02:41:00                0.312                 0.104   \n",
       "1228092 2009-04-17 13:36:00                0.488                 0.220   \n",
       "921361  2008-09-16 13:25:00                1.402                 0.050   \n",
       "\n",
       "         Voltage  Global_intensity  Sub_metering_1  Sub_metering_2  \\\n",
       "843235    237.70               6.6             0.0             1.0   \n",
       "1338534   243.47               1.6             0.0             2.0   \n",
       "122957    246.44               1.4             0.0             1.0   \n",
       "1228092   241.68               2.2             0.0             0.0   \n",
       "921361    238.66               5.8             0.0             0.0   \n",
       "\n",
       "         Sub_metering_3  Energy_Consumed  \n",
       "843235             18.0         6.766667  \n",
       "1338534             1.0         2.133333  \n",
       "122957              0.0         4.200000  \n",
       "1228092             0.0         8.133333  \n",
       "921361             18.0         5.366667  "
      ]
     },
     "execution_count": 58,
     "metadata": {},
     "output_type": "execute_result"
    }
   ],
   "source": [
    "sample_data.head()"
   ]
  },
  {
   "cell_type": "code",
   "execution_count": 59,
   "id": "ffe946e4",
   "metadata": {},
   "outputs": [],
   "source": [
    "df_corr = sample_data.corr()"
   ]
  },
  {
   "cell_type": "code",
   "execution_count": 60,
   "id": "d75a931f",
   "metadata": {},
   "outputs": [
    {
     "data": {
      "text/html": [
       "<div>\n",
       "<style scoped>\n",
       "    .dataframe tbody tr th:only-of-type {\n",
       "        vertical-align: middle;\n",
       "    }\n",
       "\n",
       "    .dataframe tbody tr th {\n",
       "        vertical-align: top;\n",
       "    }\n",
       "\n",
       "    .dataframe thead th {\n",
       "        text-align: right;\n",
       "    }\n",
       "</style>\n",
       "<table border=\"1\" class=\"dataframe\">\n",
       "  <thead>\n",
       "    <tr style=\"text-align: right;\">\n",
       "      <th></th>\n",
       "      <th>Global_active_power</th>\n",
       "      <th>Voltage</th>\n",
       "      <th>Global_intensity</th>\n",
       "      <th>Sub_metering_1</th>\n",
       "      <th>Sub_metering_2</th>\n",
       "      <th>Sub_metering_3</th>\n",
       "      <th>Energy_Consumed</th>\n",
       "    </tr>\n",
       "  </thead>\n",
       "  <tbody>\n",
       "    <tr>\n",
       "      <th>Global_active_power</th>\n",
       "      <td>1.000000</td>\n",
       "      <td>-0.412075</td>\n",
       "      <td>0.999031</td>\n",
       "      <td>0.468708</td>\n",
       "      <td>0.438276</td>\n",
       "      <td>0.641403</td>\n",
       "      <td>0.690245</td>\n",
       "    </tr>\n",
       "    <tr>\n",
       "      <th>Voltage</th>\n",
       "      <td>-0.412075</td>\n",
       "      <td>1.000000</td>\n",
       "      <td>-0.423708</td>\n",
       "      <td>-0.190456</td>\n",
       "      <td>-0.178473</td>\n",
       "      <td>-0.281930</td>\n",
       "      <td>-0.271700</td>\n",
       "    </tr>\n",
       "    <tr>\n",
       "      <th>Global_intensity</th>\n",
       "      <td>0.999031</td>\n",
       "      <td>-0.423708</td>\n",
       "      <td>1.000000</td>\n",
       "      <td>0.472669</td>\n",
       "      <td>0.445424</td>\n",
       "      <td>0.630447</td>\n",
       "      <td>0.691167</td>\n",
       "    </tr>\n",
       "    <tr>\n",
       "      <th>Sub_metering_1</th>\n",
       "      <td>0.468708</td>\n",
       "      <td>-0.190456</td>\n",
       "      <td>0.472669</td>\n",
       "      <td>1.000000</td>\n",
       "      <td>0.016700</td>\n",
       "      <td>0.107738</td>\n",
       "      <td>0.096861</td>\n",
       "    </tr>\n",
       "    <tr>\n",
       "      <th>Sub_metering_2</th>\n",
       "      <td>0.438276</td>\n",
       "      <td>-0.178473</td>\n",
       "      <td>0.445424</td>\n",
       "      <td>0.016700</td>\n",
       "      <td>1.000000</td>\n",
       "      <td>0.077964</td>\n",
       "      <td>0.101680</td>\n",
       "    </tr>\n",
       "    <tr>\n",
       "      <th>Sub_metering_3</th>\n",
       "      <td>0.641403</td>\n",
       "      <td>-0.281930</td>\n",
       "      <td>0.630447</td>\n",
       "      <td>0.107738</td>\n",
       "      <td>0.077964</td>\n",
       "      <td>1.000000</td>\n",
       "      <td>0.169307</td>\n",
       "    </tr>\n",
       "    <tr>\n",
       "      <th>Energy_Consumed</th>\n",
       "      <td>0.690245</td>\n",
       "      <td>-0.271700</td>\n",
       "      <td>0.691167</td>\n",
       "      <td>0.096861</td>\n",
       "      <td>0.101680</td>\n",
       "      <td>0.169307</td>\n",
       "      <td>1.000000</td>\n",
       "    </tr>\n",
       "  </tbody>\n",
       "</table>\n",
       "</div>"
      ],
      "text/plain": [
       "                     Global_active_power   Voltage  Global_intensity  \\\n",
       "Global_active_power             1.000000 -0.412075          0.999031   \n",
       "Voltage                        -0.412075  1.000000         -0.423708   \n",
       "Global_intensity                0.999031 -0.423708          1.000000   \n",
       "Sub_metering_1                  0.468708 -0.190456          0.472669   \n",
       "Sub_metering_2                  0.438276 -0.178473          0.445424   \n",
       "Sub_metering_3                  0.641403 -0.281930          0.630447   \n",
       "Energy_Consumed                 0.690245 -0.271700          0.691167   \n",
       "\n",
       "                     Sub_metering_1  Sub_metering_2  Sub_metering_3  \\\n",
       "Global_active_power        0.468708        0.438276        0.641403   \n",
       "Voltage                   -0.190456       -0.178473       -0.281930   \n",
       "Global_intensity           0.472669        0.445424        0.630447   \n",
       "Sub_metering_1             1.000000        0.016700        0.107738   \n",
       "Sub_metering_2             0.016700        1.000000        0.077964   \n",
       "Sub_metering_3             0.107738        0.077964        1.000000   \n",
       "Energy_Consumed            0.096861        0.101680        0.169307   \n",
       "\n",
       "                     Energy_Consumed  \n",
       "Global_active_power         0.690245  \n",
       "Voltage                    -0.271700  \n",
       "Global_intensity            0.691167  \n",
       "Sub_metering_1              0.096861  \n",
       "Sub_metering_2              0.101680  \n",
       "Sub_metering_3              0.169307  \n",
       "Energy_Consumed             1.000000  "
      ]
     },
     "execution_count": 60,
     "metadata": {},
     "output_type": "execute_result"
    }
   ],
   "source": [
    "df_corr"
   ]
  },
  {
   "cell_type": "code",
   "execution_count": 61,
   "id": "d42b7867",
   "metadata": {},
   "outputs": [
    {
     "data": {
      "text/plain": [
       "<AxesSubplot:>"
      ]
     },
     "execution_count": 61,
     "metadata": {},
     "output_type": "execute_result"
    },
    {
     "data": {
      "image/png": "[encoded data removed]",
      "text/plain": [
       "<Figure size 432x288 with 2 Axes>"
      ]
     },
     "metadata": {
      "needs_background": "light"
     },
     "output_type": "display_data"
    }
   ],
   "source": [
    "sns.heatmap(df_corr)"
   ]
  },
  {
   "cell_type": "code",
   "execution_count": 62,
   "id": "12600591",
   "metadata": {},
   "outputs": [
    {
     "data": {
      "text/plain": [
       "array([ 6.76666667,  2.13333333,  4.2       , ..., 18.46666667,\n",
       "       15.96666667, 28.7       ])"
      ]
     },
     "execution_count": 62,
     "metadata": {},
     "output_type": "execute_result"
    }
   ],
   "source": [
    "sample_data['Energy_Consumed'].unique()"
   ]
  },
  {
   "cell_type": "code",
   "execution_count": 63,
   "id": "6195183f",
   "metadata": {},
   "outputs": [
    {
     "data": {
      "text/html": [
       "<div>\n",
       "<style scoped>\n",
       "    .dataframe tbody tr th:only-of-type {\n",
       "        vertical-align: middle;\n",
       "    }\n",
       "\n",
       "    .dataframe tbody tr th {\n",
       "        vertical-align: top;\n",
       "    }\n",
       "\n",
       "    .dataframe thead th {\n",
       "        text-align: right;\n",
       "    }\n",
       "</style>\n",
       "<table border=\"1\" class=\"dataframe\">\n",
       "  <thead>\n",
       "    <tr style=\"text-align: right;\">\n",
       "      <th></th>\n",
       "      <th>Date</th>\n",
       "      <th>Global_active_power</th>\n",
       "      <th>Global_reactive_power</th>\n",
       "      <th>Voltage</th>\n",
       "      <th>Global_intensity</th>\n",
       "      <th>Sub_metering_1</th>\n",
       "      <th>Sub_metering_2</th>\n",
       "      <th>Sub_metering_3</th>\n",
       "      <th>Energy_Consumed</th>\n",
       "    </tr>\n",
       "  </thead>\n",
       "  <tbody>\n",
       "    <tr>\n",
       "      <th>843235</th>\n",
       "      <td>2008-07-24 07:19:00</td>\n",
       "      <td>1.546</td>\n",
       "      <td>0.212</td>\n",
       "      <td>237.70</td>\n",
       "      <td>6.6</td>\n",
       "      <td>0.0</td>\n",
       "      <td>1.0</td>\n",
       "      <td>18.0</td>\n",
       "      <td>6.766667</td>\n",
       "    </tr>\n",
       "    <tr>\n",
       "      <th>1338534</th>\n",
       "      <td>2009-03-07 06:18:00</td>\n",
       "      <td>0.308</td>\n",
       "      <td>0.246</td>\n",
       "      <td>243.47</td>\n",
       "      <td>1.6</td>\n",
       "      <td>0.0</td>\n",
       "      <td>2.0</td>\n",
       "      <td>1.0</td>\n",
       "      <td>2.133333</td>\n",
       "    </tr>\n",
       "    <tr>\n",
       "      <th>122957</th>\n",
       "      <td>2007-12-03 02:41:00</td>\n",
       "      <td>0.312</td>\n",
       "      <td>0.104</td>\n",
       "      <td>246.44</td>\n",
       "      <td>1.4</td>\n",
       "      <td>0.0</td>\n",
       "      <td>1.0</td>\n",
       "      <td>0.0</td>\n",
       "      <td>4.200000</td>\n",
       "    </tr>\n",
       "    <tr>\n",
       "      <th>1228092</th>\n",
       "      <td>2009-04-17 13:36:00</td>\n",
       "      <td>0.488</td>\n",
       "      <td>0.220</td>\n",
       "      <td>241.68</td>\n",
       "      <td>2.2</td>\n",
       "      <td>0.0</td>\n",
       "      <td>0.0</td>\n",
       "      <td>0.0</td>\n",
       "      <td>8.133333</td>\n",
       "    </tr>\n",
       "    <tr>\n",
       "      <th>921361</th>\n",
       "      <td>2008-09-16 13:25:00</td>\n",
       "      <td>1.402</td>\n",
       "      <td>0.050</td>\n",
       "      <td>238.66</td>\n",
       "      <td>5.8</td>\n",
       "      <td>0.0</td>\n",
       "      <td>0.0</td>\n",
       "      <td>18.0</td>\n",
       "      <td>5.366667</td>\n",
       "    </tr>\n",
       "  </tbody>\n",
       "</table>\n",
       "</div>"
      ],
      "text/plain": [
       "                       Date  Global_active_power Global_reactive_power  \\\n",
       "843235  2008-07-24 07:19:00                1.546                 0.212   \n",
       "1338534 2009-03-07 06:18:00                0.308                 0.246   \n",
       "122957  2007-12-03 02:41:00                0.312                 0.104   \n",
       "1228092 2009-04-17 13:36:00                0.488                 0.220   \n",
       "921361  2008-09-16 13:25:00                1.402                 0.050   \n",
       "\n",
       "         Voltage  Global_intensity  Sub_metering_1  Sub_metering_2  \\\n",
       "843235    237.70               6.6             0.0             1.0   \n",
       "1338534   243.47               1.6             0.0             2.0   \n",
       "122957    246.44               1.4             0.0             1.0   \n",
       "1228092   241.68               2.2             0.0             0.0   \n",
       "921361    238.66               5.8             0.0             0.0   \n",
       "\n",
       "         Sub_metering_3  Energy_Consumed  \n",
       "843235             18.0         6.766667  \n",
       "1338534             1.0         2.133333  \n",
       "122957              0.0         4.200000  \n",
       "1228092             0.0         8.133333  \n",
       "921361             18.0         5.366667  "
      ]
     },
     "execution_count": 63,
     "metadata": {},
     "output_type": "execute_result"
    }
   ],
   "source": [
    "sample_data.head()"
   ]
  },
  {
   "cell_type": "code",
   "execution_count": 65,
   "id": "2385cd68",
   "metadata": {},
   "outputs": [],
   "source": [
    "num_atr = ['Global_active_power','Global_reactive_power','Voltage','Global_intensity','Sub_metering_1','Sub_metering_2','Sub_metering_3','Energy_Consumed']"
   ]
  },
  {
   "cell_type": "code",
   "execution_count": 66,
   "id": "af9dea88",
   "metadata": {},
   "outputs": [
    {
     "data": {
      "image/png": "[encoded data removed]",
      "text/plain": [
       "<Figure size 1440x1080 with 9 Axes>"
      ]
     },
     "metadata": {
      "needs_background": "light"
     },
     "output_type": "display_data"
    }
   ],
   "source": [
    "sample_data[num_atr].hist(bins=40, figsize=(20,15)) \n",
    "plt.show()"
   ]
  },
  {
   "cell_type": "code",
   "execution_count": 67,
   "id": "13d08f33",
   "metadata": {},
   "outputs": [],
   "source": [
    "sample_data.drop(['Date'], axis=1, inplace=True)"
   ]
  },
  {
   "cell_type": "code",
   "execution_count": 69,
   "id": "02aa767c",
   "metadata": {},
   "outputs": [
    {
     "data": {
      "text/html": [
       "<div>\n",
       "<style scoped>\n",
       "    .dataframe tbody tr th:only-of-type {\n",
       "        vertical-align: middle;\n",
       "    }\n",
       "\n",
       "    .dataframe tbody tr th {\n",
       "        vertical-align: top;\n",
       "    }\n",
       "\n",
       "    .dataframe thead th {\n",
       "        text-align: right;\n",
       "    }\n",
       "</style>\n",
       "<table border=\"1\" class=\"dataframe\">\n",
       "  <thead>\n",
       "    <tr style=\"text-align: right;\">\n",
       "      <th></th>\n",
       "      <th>Global_active_power</th>\n",
       "      <th>Global_reactive_power</th>\n",
       "      <th>Voltage</th>\n",
       "      <th>Global_intensity</th>\n",
       "      <th>Sub_metering_1</th>\n",
       "      <th>Sub_metering_2</th>\n",
       "      <th>Sub_metering_3</th>\n",
       "      <th>Energy_Consumed</th>\n",
       "    </tr>\n",
       "  </thead>\n",
       "  <tbody>\n",
       "    <tr>\n",
       "      <th>843235</th>\n",
       "      <td>1.546</td>\n",
       "      <td>0.212</td>\n",
       "      <td>237.70</td>\n",
       "      <td>6.6</td>\n",
       "      <td>0.0</td>\n",
       "      <td>1.0</td>\n",
       "      <td>18.0</td>\n",
       "      <td>6.766667</td>\n",
       "    </tr>\n",
       "    <tr>\n",
       "      <th>1338534</th>\n",
       "      <td>0.308</td>\n",
       "      <td>0.246</td>\n",
       "      <td>243.47</td>\n",
       "      <td>1.6</td>\n",
       "      <td>0.0</td>\n",
       "      <td>2.0</td>\n",
       "      <td>1.0</td>\n",
       "      <td>2.133333</td>\n",
       "    </tr>\n",
       "    <tr>\n",
       "      <th>122957</th>\n",
       "      <td>0.312</td>\n",
       "      <td>0.104</td>\n",
       "      <td>246.44</td>\n",
       "      <td>1.4</td>\n",
       "      <td>0.0</td>\n",
       "      <td>1.0</td>\n",
       "      <td>0.0</td>\n",
       "      <td>4.200000</td>\n",
       "    </tr>\n",
       "    <tr>\n",
       "      <th>1228092</th>\n",
       "      <td>0.488</td>\n",
       "      <td>0.220</td>\n",
       "      <td>241.68</td>\n",
       "      <td>2.2</td>\n",
       "      <td>0.0</td>\n",
       "      <td>0.0</td>\n",
       "      <td>0.0</td>\n",
       "      <td>8.133333</td>\n",
       "    </tr>\n",
       "    <tr>\n",
       "      <th>921361</th>\n",
       "      <td>1.402</td>\n",
       "      <td>0.050</td>\n",
       "      <td>238.66</td>\n",
       "      <td>5.8</td>\n",
       "      <td>0.0</td>\n",
       "      <td>0.0</td>\n",
       "      <td>18.0</td>\n",
       "      <td>5.366667</td>\n",
       "    </tr>\n",
       "  </tbody>\n",
       "</table>\n",
       "</div>"
      ],
      "text/plain": [
       "         Global_active_power Global_reactive_power  Voltage  Global_intensity  \\\n",
       "843235                 1.546                 0.212   237.70               6.6   \n",
       "1338534                0.308                 0.246   243.47               1.6   \n",
       "122957                 0.312                 0.104   246.44               1.4   \n",
       "1228092                0.488                 0.220   241.68               2.2   \n",
       "921361                 1.402                 0.050   238.66               5.8   \n",
       "\n",
       "         Sub_metering_1  Sub_metering_2  Sub_metering_3  Energy_Consumed  \n",
       "843235              0.0             1.0            18.0         6.766667  \n",
       "1338534             0.0             2.0             1.0         2.133333  \n",
       "122957              0.0             1.0             0.0         4.200000  \n",
       "1228092             0.0             0.0             0.0         8.133333  \n",
       "921361              0.0             0.0            18.0         5.366667  "
      ]
     },
     "execution_count": 69,
     "metadata": {},
     "output_type": "execute_result"
    }
   ],
   "source": [
    "sample_data.head()\n",
    "#dropping date as date is unique and it is not required in clustering"
   ]
  },
  {
   "cell_type": "code",
   "execution_count": 70,
   "id": "44840073",
   "metadata": {},
   "outputs": [
    {
     "data": {
      "text/html": [
       "<div>\n",
       "<style scoped>\n",
       "    .dataframe tbody tr th:only-of-type {\n",
       "        vertical-align: middle;\n",
       "    }\n",
       "\n",
       "    .dataframe tbody tr th {\n",
       "        vertical-align: top;\n",
       "    }\n",
       "\n",
       "    .dataframe thead th {\n",
       "        text-align: right;\n",
       "    }\n",
       "</style>\n",
       "<table border=\"1\" class=\"dataframe\">\n",
       "  <thead>\n",
       "    <tr style=\"text-align: right;\">\n",
       "      <th></th>\n",
       "      <th>Global_active_power</th>\n",
       "      <th>Global_reactive_power</th>\n",
       "      <th>Voltage</th>\n",
       "      <th>Global_intensity</th>\n",
       "      <th>Sub_metering_1</th>\n",
       "      <th>Sub_metering_2</th>\n",
       "      <th>Sub_metering_3</th>\n",
       "      <th>Energy_Consumed</th>\n",
       "    </tr>\n",
       "  </thead>\n",
       "  <tbody>\n",
       "    <tr>\n",
       "      <th>2803</th>\n",
       "      <td>0.388597</td>\n",
       "      <td>1.390280</td>\n",
       "      <td>-0.488108</td>\n",
       "      <td>0.415585</td>\n",
       "      <td>-0.183827</td>\n",
       "      <td>-0.228168</td>\n",
       "      <td>0.652336</td>\n",
       "      <td>0.400109</td>\n",
       "    </tr>\n",
       "    <tr>\n",
       "      <th>2352</th>\n",
       "      <td>-0.728453</td>\n",
       "      <td>0.961195</td>\n",
       "      <td>0.086282</td>\n",
       "      <td>-0.676080</td>\n",
       "      <td>-0.183827</td>\n",
       "      <td>-0.228168</td>\n",
       "      <td>-0.764851</td>\n",
       "      <td>-0.397207</td>\n",
       "    </tr>\n",
       "    <tr>\n",
       "      <th>1759</th>\n",
       "      <td>-0.638707</td>\n",
       "      <td>1.372401</td>\n",
       "      <td>0.526241</td>\n",
       "      <td>-0.539622</td>\n",
       "      <td>-0.183827</td>\n",
       "      <td>-0.059526</td>\n",
       "      <td>-0.764851</td>\n",
       "      <td>-0.336965</td>\n",
       "    </tr>\n",
       "    <tr>\n",
       "      <th>527</th>\n",
       "      <td>0.388597</td>\n",
       "      <td>0.639382</td>\n",
       "      <td>0.373477</td>\n",
       "      <td>0.370099</td>\n",
       "      <td>-0.183827</td>\n",
       "      <td>-0.059526</td>\n",
       "      <td>1.360929</td>\n",
       "      <td>-0.344053</td>\n",
       "    </tr>\n",
       "    <tr>\n",
       "      <th>2623</th>\n",
       "      <td>-0.541323</td>\n",
       "      <td>0.013634</td>\n",
       "      <td>0.208493</td>\n",
       "      <td>-0.539622</td>\n",
       "      <td>-0.183827</td>\n",
       "      <td>-0.228168</td>\n",
       "      <td>-0.764851</td>\n",
       "      <td>-0.049932</td>\n",
       "    </tr>\n",
       "  </tbody>\n",
       "</table>\n",
       "</div>"
      ],
      "text/plain": [
       "      Global_active_power  Global_reactive_power   Voltage  Global_intensity  \\\n",
       "2803             0.388597               1.390280 -0.488108          0.415585   \n",
       "2352            -0.728453               0.961195  0.086282         -0.676080   \n",
       "1759            -0.638707               1.372401  0.526241         -0.539622   \n",
       "527              0.388597               0.639382  0.373477          0.370099   \n",
       "2623            -0.541323               0.013634  0.208493         -0.539622   \n",
       "\n",
       "      Sub_metering_1  Sub_metering_2  Sub_metering_3  Energy_Consumed  \n",
       "2803       -0.183827       -0.228168        0.652336         0.400109  \n",
       "2352       -0.183827       -0.228168       -0.764851        -0.397207  \n",
       "1759       -0.183827       -0.059526       -0.764851        -0.336965  \n",
       "527        -0.183827       -0.059526        1.360929        -0.344053  \n",
       "2623       -0.183827       -0.228168       -0.764851        -0.049932  "
      ]
     },
     "execution_count": 70,
     "metadata": {},
     "output_type": "execute_result"
    }
   ],
   "source": [
    "from sklearn import preprocessing\n",
    "\n",
    "scaler = preprocessing.StandardScaler()\n",
    "\n",
    "scaler.fit(sample_data)\n",
    "df_scaled_array = scaler.transform(sample_data)\n",
    "df_scaled = pd.DataFrame(df_scaled_array, columns = sample_data.columns)\n",
    "\n",
    "df_scaled.sample(5)"
   ]
  },
  {
   "cell_type": "markdown",
   "id": "845ea0d9",
   "metadata": {},
   "source": [
    "<h1>K-Means Clustering</h1>"
   ]
  },
  {
   "cell_type": "code",
   "execution_count": 71,
   "id": "1d45aa56",
   "metadata": {},
   "outputs": [
    {
     "data": {
      "text/plain": [
       "array([1, 0, 0, ..., 1, 1, 0])"
      ]
     },
     "execution_count": 71,
     "metadata": {},
     "output_type": "execute_result"
    }
   ],
   "source": [
    "from sklearn.cluster import KMeans\n",
    "\n",
    "nclusters = 4 # this is the k in kmeans\n",
    "seed = 0\n",
    "\n",
    "km = KMeans(n_clusters=nclusters, random_state=seed)\n",
    "km.fit(df_scaled)\n",
    "\n",
    "# predict the cluster for each data point\n",
    "y_cluster_kmeans = km.predict(df_scaled)\n",
    "y_cluster_kmeans"
   ]
  },
  {
   "cell_type": "code",
   "execution_count": 72,
   "id": "26c19147",
   "metadata": {},
   "outputs": [
    {
     "data": {
      "text/plain": [
       "0.4127623900249653"
      ]
     },
     "execution_count": 72,
     "metadata": {},
     "output_type": "execute_result"
    }
   ],
   "source": [
    "from sklearn import metrics\n",
    "score = metrics.silhouette_score(df_scaled, y_cluster_kmeans)\n",
    "score"
   ]
  },
  {
   "cell_type": "code",
   "execution_count": 72,
   "id": "518cec80",
   "metadata": {},
   "outputs": [
    {
     "name": "stderr",
     "output_type": "stream",
     "text": [
      "C:\\ProgramData\\Anaconda3\\lib\\site-packages\\seaborn\\distributions.py:2557: FutureWarning: `distplot` is a deprecated function and will be removed in a future version. Please adapt your code to use either `displot` (a figure-level function with similar flexibility) or `histplot` (an axes-level function for histograms).\n",
      "  warnings.warn(msg, FutureWarning)\n"
     ]
    },
    {
     "data": {
      "image/png": "[encoded data removed]",
      "text/plain": [
       "<Figure size 432x288 with 1 Axes>"
      ]
     },
     "metadata": {
      "needs_background": "light"
     },
     "output_type": "display_data"
    }
   ],
   "source": [
    "scores = metrics.silhouette_samples(df_scaled, y_cluster_kmeans)\n",
    "sns.distplot(scores);"
   ]
  },
  {
   "cell_type": "code",
   "execution_count": 73,
   "id": "9648c3a1",
   "metadata": {},
   "outputs": [
    {
     "data": {
      "image/png": "[encoded data removed]",
      "text/plain": [
       "<Figure size 720x720 with 1 Axes>"
      ]
     },
     "metadata": {
      "needs_background": "light"
     },
     "output_type": "display_data"
    }
   ],
   "source": [
    "from sklearn.cluster import KMeans\n",
    "wcss = [] # within cluster sum of squares\n",
    "\n",
    "for k in range(1, 15):\n",
    "    kmeansForLoop = KMeans(n_clusters = k)\n",
    "    kmeansForLoop.fit(df_scaled)\n",
    "    wcss.append(kmeansForLoop.inertia_)\n",
    "\n",
    "plt.figure(figsize = (10, 10))\n",
    "plt.plot(range(1, 15), wcss)\n",
    "plt.xlabel(\"K value\")\n",
    "plt.ylabel(\"WCSS\")\n",
    "plt.show()"
   ]
  },
  {
   "cell_type": "markdown",
   "id": "a8fadaab",
   "metadata": {},
   "source": [
    "<h2> Calculating silhouette scores </h2>"
   ]
  },
  {
   "cell_type": "code",
   "execution_count": 74,
   "id": "a446bab5",
   "metadata": {},
   "outputs": [
    {
     "data": {
      "image/png": "[encoded data removed]",
      "text/plain": [
       "<Figure size 432x288 with 1 Axes>"
      ]
     },
     "metadata": {
      "needs_background": "light"
     },
     "output_type": "display_data"
    }
   ],
   "source": [
    "from sklearn.metrics import silhouette_score\n",
    "silhouette_scores = [] \n",
    "\n",
    "for n_cluster in range(2,15):\n",
    "    silhouette_scores.append( \n",
    "        silhouette_score(df_scaled, KMeans(n_clusters = n_cluster).fit_predict(df_scaled))) \n",
    "    \n",
    "# Plotting a bar graph to compare the results \n",
    "k = [2, 3, 4, 5, 6,7,8,9,10,11,12,13,14] \n",
    "plt.bar(k, silhouette_scores) \n",
    "plt.xlabel('Number of clusters', fontsize = 10) \n",
    "plt.ylabel('Silhouette Score', fontsize = 10) \n",
    "plt.grid()\n",
    "plt.show() "
   ]
  },
  {
   "cell_type": "code",
   "execution_count": 75,
   "id": "9e580047",
   "metadata": {},
   "outputs": [
    {
     "data": {
      "text/plain": [
       "array([0, 2, 2, ..., 0, 1, 2])"
      ]
     },
     "execution_count": 75,
     "metadata": {},
     "output_type": "execute_result"
    }
   ],
   "source": [
    "nclusters = 5 # value of k in kmeans\n",
    "seed = 0\n",
    "\n",
    "km = KMeans(n_clusters=nclusters, random_state=seed)\n",
    "km.fit(df_scaled)\n",
    "\n",
    "# predict the cluster for each data point\n",
    "y_cluster_kmeans = km.predict(df_scaled)\n",
    "y_cluster_kmeans"
   ]
  },
  {
   "cell_type": "code",
   "execution_count": 76,
   "id": "6eed4071",
   "metadata": {},
   "outputs": [
    {
     "data": {
      "text/plain": [
       "0.4170988320034064"
      ]
     },
     "execution_count": 76,
     "metadata": {},
     "output_type": "execute_result"
    }
   ],
   "source": [
    "score = metrics.silhouette_score(df_scaled, y_cluster_kmeans)\n",
    "score"
   ]
  },
  {
   "cell_type": "code",
   "execution_count": 77,
   "id": "70bfafdb",
   "metadata": {},
   "outputs": [
    {
     "data": {
      "text/plain": [
       "11370.994169302736"
      ]
     },
     "execution_count": 77,
     "metadata": {},
     "output_type": "execute_result"
    }
   ],
   "source": [
    "km.inertia_"
   ]
  },
  {
   "cell_type": "code",
   "execution_count": 78,
   "id": "80ee938a",
   "metadata": {},
   "outputs": [
    {
     "data": {
      "text/plain": [
       "array([[ 4.36330668e-01, -3.44627763e-03, -2.20763290e-01,\n",
       "         4.12670402e-01, -1.57149882e-01, -1.40900005e-01,\n",
       "         1.35462276e+00, -2.16248124e-01],\n",
       "       [ 1.41422519e+00,  4.81613549e-01, -6.72594144e-01,\n",
       "         1.41047167e+00, -1.34116700e-01, -1.29943119e-01,\n",
       "         4.54457340e-01,  2.38659544e+00],\n",
       "       [-6.45097126e-01, -1.31956073e-01,  3.00260243e-01,\n",
       "        -6.36723844e-01, -1.78581468e-01, -1.47982313e-01,\n",
       "        -7.16352103e-01, -3.40211357e-01],\n",
       "       [ 2.57715627e+00,  6.02517418e-01, -1.10294668e+00,\n",
       "         2.60253879e+00,  5.64786623e+00,  1.66297290e-03,\n",
       "         5.70816195e-01,  5.09397199e-01],\n",
       "       [ 2.64137189e+00,  7.01269160e-01, -1.09006274e+00,\n",
       "         2.67739196e+00, -7.84954077e-02,  5.94303546e+00,\n",
       "         5.40725847e-01,  7.20982771e-01]])"
      ]
     },
     "execution_count": 78,
     "metadata": {},
     "output_type": "execute_result"
    }
   ],
   "source": [
    "km.cluster_centers_"
   ]
  },
  {
   "cell_type": "code",
   "execution_count": 79,
   "id": "2469925c",
   "metadata": {},
   "outputs": [
    {
     "data": {
      "text/plain": [
       "array([2, 0, 1, 3, 4])"
      ]
     },
     "execution_count": 79,
     "metadata": {},
     "output_type": "execute_result"
    }
   ],
   "source": [
    "kmeans = KMeans(n_clusters = 5)\n",
    "clusters = kmeans.fit_predict(df_scaled)\n",
    "df_scaled[\"type\"] = clusters\n",
    "df_scaled[\"type\"].unique()"
   ]
  },
  {
   "cell_type": "code",
   "execution_count": 80,
   "id": "5ae85039",
   "metadata": {},
   "outputs": [
    {
     "data": {
      "text/html": [
       "<div>\n",
       "<style scoped>\n",
       "    .dataframe tbody tr th:only-of-type {\n",
       "        vertical-align: middle;\n",
       "    }\n",
       "\n",
       "    .dataframe tbody tr th {\n",
       "        vertical-align: top;\n",
       "    }\n",
       "\n",
       "    .dataframe thead th {\n",
       "        text-align: right;\n",
       "    }\n",
       "</style>\n",
       "<table border=\"1\" class=\"dataframe\">\n",
       "  <thead>\n",
       "    <tr style=\"text-align: right;\">\n",
       "      <th></th>\n",
       "      <th>Global_active_power</th>\n",
       "      <th>Global_reactive_power</th>\n",
       "      <th>Voltage</th>\n",
       "      <th>Global_intensity</th>\n",
       "      <th>Sub_metering_1</th>\n",
       "      <th>Sub_metering_2</th>\n",
       "      <th>Sub_metering_3</th>\n",
       "      <th>Energy_Consumed</th>\n",
       "    </tr>\n",
       "  </thead>\n",
       "  <tbody>\n",
       "    <tr>\n",
       "      <th>843235</th>\n",
       "      <td>1.546</td>\n",
       "      <td>0.212</td>\n",
       "      <td>237.70</td>\n",
       "      <td>6.6</td>\n",
       "      <td>0.0</td>\n",
       "      <td>1.0</td>\n",
       "      <td>18.0</td>\n",
       "      <td>6.766667</td>\n",
       "    </tr>\n",
       "    <tr>\n",
       "      <th>1338534</th>\n",
       "      <td>0.308</td>\n",
       "      <td>0.246</td>\n",
       "      <td>243.47</td>\n",
       "      <td>1.6</td>\n",
       "      <td>0.0</td>\n",
       "      <td>2.0</td>\n",
       "      <td>1.0</td>\n",
       "      <td>2.133333</td>\n",
       "    </tr>\n",
       "    <tr>\n",
       "      <th>122957</th>\n",
       "      <td>0.312</td>\n",
       "      <td>0.104</td>\n",
       "      <td>246.44</td>\n",
       "      <td>1.4</td>\n",
       "      <td>0.0</td>\n",
       "      <td>1.0</td>\n",
       "      <td>0.0</td>\n",
       "      <td>4.200000</td>\n",
       "    </tr>\n",
       "    <tr>\n",
       "      <th>1228092</th>\n",
       "      <td>0.488</td>\n",
       "      <td>0.220</td>\n",
       "      <td>241.68</td>\n",
       "      <td>2.2</td>\n",
       "      <td>0.0</td>\n",
       "      <td>0.0</td>\n",
       "      <td>0.0</td>\n",
       "      <td>8.133333</td>\n",
       "    </tr>\n",
       "    <tr>\n",
       "      <th>921361</th>\n",
       "      <td>1.402</td>\n",
       "      <td>0.050</td>\n",
       "      <td>238.66</td>\n",
       "      <td>5.8</td>\n",
       "      <td>0.0</td>\n",
       "      <td>0.0</td>\n",
       "      <td>18.0</td>\n",
       "      <td>5.366667</td>\n",
       "    </tr>\n",
       "  </tbody>\n",
       "</table>\n",
       "</div>"
      ],
      "text/plain": [
       "         Global_active_power Global_reactive_power  Voltage  Global_intensity  \\\n",
       "843235                 1.546                 0.212   237.70               6.6   \n",
       "1338534                0.308                 0.246   243.47               1.6   \n",
       "122957                 0.312                 0.104   246.44               1.4   \n",
       "1228092                0.488                 0.220   241.68               2.2   \n",
       "921361                 1.402                 0.050   238.66               5.8   \n",
       "\n",
       "         Sub_metering_1  Sub_metering_2  Sub_metering_3  Energy_Consumed  \n",
       "843235              0.0             1.0            18.0         6.766667  \n",
       "1338534             0.0             2.0             1.0         2.133333  \n",
       "122957              0.0             1.0             0.0         4.200000  \n",
       "1228092             0.0             0.0             0.0         8.133333  \n",
       "921361              0.0             0.0            18.0         5.366667  "
      ]
     },
     "execution_count": 80,
     "metadata": {},
     "output_type": "execute_result"
    }
   ],
   "source": [
    "sample_data.head()"
   ]
  },
  {
   "cell_type": "code",
   "execution_count": 81,
   "id": "60fcf646",
   "metadata": {},
   "outputs": [
    {
     "data": {
      "image/png": "[encoded data removed]",
      "text/plain": [
       "<Figure size 1080x720 with 1 Axes>"
      ]
     },
     "metadata": {
      "needs_background": "light"
     },
     "output_type": "display_data"
    }
   ],
   "source": [
    "plt.figure(figsize = (15, 10))\n",
    "plt.scatter(df_scaled[\"Global_active_power\"][df_scaled[\"type\"] == 0], df_scaled[\"Energy_Consumed\"][df_scaled[\"type\"] == 0], color = \"red\")\n",
    "plt.scatter(df_scaled[\"Global_active_power\"][df_scaled[\"type\"] == 1], df_scaled[\"Energy_Consumed\"][df_scaled[\"type\"] == 1], color = \"green\")\n",
    "plt.scatter(df_scaled[\"Global_active_power\"][df_scaled[\"type\"] == 2], df_scaled[\"Energy_Consumed\"][df_scaled[\"type\"] == 2], color = \"blue\")\n",
    "plt.scatter(df_scaled[\"Global_active_power\"][df_scaled[\"type\"] == 3], df_scaled[\"Energy_Consumed\"][df_scaled[\"type\"] == 3], color = \"yellow\")\n",
    "plt.scatter(df_scaled[\"Global_active_power\"][df_scaled[\"type\"] == 4], df_scaled[\"Energy_Consumed\"][df_scaled[\"type\"] == 4], color = \"black\")\n",
    "plt.xlabel('Global_active_power')\n",
    "plt.ylabel('Energy_Consumed')\n",
    "plt.show()"
   ]
  },
  {
   "cell_type": "code",
   "execution_count": 79,
   "id": "610846d7",
   "metadata": {},
   "outputs": [],
   "source": [
    "# K-means++"
   ]
  },
  {
   "cell_type": "code",
   "execution_count": 82,
   "id": "744e61b1",
   "metadata": {},
   "outputs": [],
   "source": [
    "from sklearn.cluster import KMeans\n",
    "wcss=[]\n",
    "\n",
    "#we always assume the max number of cluster would be 10\n",
    "#you can judge the number of clusters by doing averaging\n",
    "###Static code to get max no of clusters\n",
    "\n",
    "for i in range(1,15):\n",
    "    kmeans = KMeans(n_clusters= i, init='k-means++', random_state=0)\n",
    "    kmeans.fit(sample_data)\n",
    "    wcss.append(kmeans.inertia_)"
   ]
  },
  {
   "cell_type": "code",
   "execution_count": 84,
   "id": "fee061bc",
   "metadata": {},
   "outputs": [
    {
     "data": {
      "image/png": "[encoded data removed]",
      "text/plain": [
       "<Figure size 432x288 with 1 Axes>"
      ]
     },
     "metadata": {
      "needs_background": "light"
     },
     "output_type": "display_data"
    }
   ],
   "source": [
    "# ELBOW method Visualization to get the optimal value of K \n",
    "plt.plot(range(1,15), wcss)\n",
    "plt.title('The Elbow Method')\n",
    "plt.xlabel('no of clusters')\n",
    "plt.ylabel('wcss')\n",
    "plt.show()"
   ]
  },
  {
   "cell_type": "code",
   "execution_count": 85,
   "id": "d13448cf",
   "metadata": {},
   "outputs": [],
   "source": [
    "#Building model   (K-means)\n",
    "kmeansmodel = KMeans(n_clusters= 5, random_state=0)\n",
    "y_kmeans= kmeansmodel.fit_predict(sample_data)"
   ]
  },
  {
   "cell_type": "code",
   "execution_count": 86,
   "id": "d45b63ca",
   "metadata": {},
   "outputs": [
    {
     "data": {
      "text/plain": [
       "0.619179853841764"
      ]
     },
     "execution_count": 86,
     "metadata": {},
     "output_type": "execute_result"
    }
   ],
   "source": [
    "silhouette_score = metrics.silhouette_score(sample_data, y_kmeans)\n",
    "silhouette_score"
   ]
  },
  {
   "cell_type": "code",
   "execution_count": 87,
   "id": "8b0fdb77",
   "metadata": {},
   "outputs": [],
   "source": [
    "# Agglomerative Clustering"
   ]
  },
  {
   "cell_type": "code",
   "execution_count": 87,
   "id": "2208987f",
   "metadata": {},
   "outputs": [
    {
     "data": {
      "text/html": [
       "<div>\n",
       "<style scoped>\n",
       "    .dataframe tbody tr th:only-of-type {\n",
       "        vertical-align: middle;\n",
       "    }\n",
       "\n",
       "    .dataframe tbody tr th {\n",
       "        vertical-align: top;\n",
       "    }\n",
       "\n",
       "    .dataframe thead th {\n",
       "        text-align: right;\n",
       "    }\n",
       "</style>\n",
       "<table border=\"1\" class=\"dataframe\">\n",
       "  <thead>\n",
       "    <tr style=\"text-align: right;\">\n",
       "      <th></th>\n",
       "      <th>Global_active_power</th>\n",
       "      <th>Global_reactive_power</th>\n",
       "      <th>Voltage</th>\n",
       "      <th>Global_intensity</th>\n",
       "      <th>Sub_metering_1</th>\n",
       "      <th>Sub_metering_2</th>\n",
       "      <th>Sub_metering_3</th>\n",
       "      <th>Energy_Consumed</th>\n",
       "    </tr>\n",
       "  </thead>\n",
       "  <tbody>\n",
       "    <tr>\n",
       "      <th>843235</th>\n",
       "      <td>1.546</td>\n",
       "      <td>0.212</td>\n",
       "      <td>237.70</td>\n",
       "      <td>6.6</td>\n",
       "      <td>0.0</td>\n",
       "      <td>1.0</td>\n",
       "      <td>18.0</td>\n",
       "      <td>6.766667</td>\n",
       "    </tr>\n",
       "    <tr>\n",
       "      <th>1338534</th>\n",
       "      <td>0.308</td>\n",
       "      <td>0.246</td>\n",
       "      <td>243.47</td>\n",
       "      <td>1.6</td>\n",
       "      <td>0.0</td>\n",
       "      <td>2.0</td>\n",
       "      <td>1.0</td>\n",
       "      <td>2.133333</td>\n",
       "    </tr>\n",
       "    <tr>\n",
       "      <th>122957</th>\n",
       "      <td>0.312</td>\n",
       "      <td>0.104</td>\n",
       "      <td>246.44</td>\n",
       "      <td>1.4</td>\n",
       "      <td>0.0</td>\n",
       "      <td>1.0</td>\n",
       "      <td>0.0</td>\n",
       "      <td>4.200000</td>\n",
       "    </tr>\n",
       "    <tr>\n",
       "      <th>1228092</th>\n",
       "      <td>0.488</td>\n",
       "      <td>0.220</td>\n",
       "      <td>241.68</td>\n",
       "      <td>2.2</td>\n",
       "      <td>0.0</td>\n",
       "      <td>0.0</td>\n",
       "      <td>0.0</td>\n",
       "      <td>8.133333</td>\n",
       "    </tr>\n",
       "    <tr>\n",
       "      <th>921361</th>\n",
       "      <td>1.402</td>\n",
       "      <td>0.050</td>\n",
       "      <td>238.66</td>\n",
       "      <td>5.8</td>\n",
       "      <td>0.0</td>\n",
       "      <td>0.0</td>\n",
       "      <td>18.0</td>\n",
       "      <td>5.366667</td>\n",
       "    </tr>\n",
       "  </tbody>\n",
       "</table>\n",
       "</div>"
      ],
      "text/plain": [
       "         Global_active_power Global_reactive_power  Voltage  Global_intensity  \\\n",
       "843235                 1.546                 0.212   237.70               6.6   \n",
       "1338534                0.308                 0.246   243.47               1.6   \n",
       "122957                 0.312                 0.104   246.44               1.4   \n",
       "1228092                0.488                 0.220   241.68               2.2   \n",
       "921361                 1.402                 0.050   238.66               5.8   \n",
       "\n",
       "         Sub_metering_1  Sub_metering_2  Sub_metering_3  Energy_Consumed  \n",
       "843235              0.0             1.0            18.0         6.766667  \n",
       "1338534             0.0             2.0             1.0         2.133333  \n",
       "122957              0.0             1.0             0.0         4.200000  \n",
       "1228092             0.0             0.0             0.0         8.133333  \n",
       "921361              0.0             0.0            18.0         5.366667  "
      ]
     },
     "execution_count": 87,
     "metadata": {},
     "output_type": "execute_result"
    }
   ],
   "source": [
    "sample_data.head()"
   ]
  },
  {
   "cell_type": "code",
   "execution_count": 88,
   "id": "4d2f73f4",
   "metadata": {},
   "outputs": [
    {
     "data": {
      "image/png": "[encoded data removed]",
      "text/plain": [
       "<Figure size 720x720 with 1 Axes>"
      ]
     },
     "metadata": {
      "needs_background": "light"
     },
     "output_type": "display_data"
    }
   ],
   "source": [
    "plt.figure(figsize = (10, 10))\n",
    "plt.scatter(sample_data[\"Voltage\"], sample_data[\"Energy_Consumed\"])\n",
    "plt.xlabel('Voltage')\n",
    "plt.ylabel('Energy_Consumed')\n",
    "plt.show()"
   ]
  },
  {
   "cell_type": "code",
   "execution_count": 98,
   "id": "ede08848",
   "metadata": {},
   "outputs": [
    {
     "data": {
      "image/png": "[encoded data removed]",
      "text/plain": [
       "<Figure size 720x720 with 1 Axes>"
      ]
     },
     "metadata": {
      "needs_background": "light"
     },
     "output_type": "display_data"
    }
   ],
   "source": [
    "plt.figure(figsize = (10, 10))\n",
    "plt.scatter(df[\"Sub_metering_1\"], df[\"Energy_Consumed\"])\n",
    "plt.xlabel('Sub_metering_1')\n",
    "plt.ylabel('Energy_Consumed')\n",
    "plt.show()"
   ]
  },
  {
   "cell_type": "code",
   "execution_count": 89,
   "id": "cee1eb48",
   "metadata": {},
   "outputs": [
    {
     "data": {
      "image/png": "[encoded data removed]",
      "text/plain": [
       "<Figure size 720x720 with 1 Axes>"
      ]
     },
     "metadata": {
      "needs_background": "light"
     },
     "output_type": "display_data"
    }
   ],
   "source": [
    "plt.figure(figsize = (10, 10))\n",
    "plt.scatter(sample_data[\"Sub_metering_2\"], sample_data[\"Energy_Consumed\"])\n",
    "plt.xlabel('Sub_metering_2')\n",
    "plt.ylabel('Energy_Consumed')\n",
    "plt.show()"
   ]
  },
  {
   "cell_type": "code",
   "execution_count": 90,
   "id": "3659645c",
   "metadata": {},
   "outputs": [
    {
     "data": {
      "image/png": "[encoded data removed]",
      "text/plain": [
       "<Figure size 720x720 with 1 Axes>"
      ]
     },
     "metadata": {
      "needs_background": "light"
     },
     "output_type": "display_data"
    }
   ],
   "source": [
    "plt.figure(figsize = (10, 10))\n",
    "plt.scatter(sample_data[\"Sub_metering_3\"], sample_data[\"Energy_Consumed\"])\n",
    "plt.xlabel('Sub_metering_3')\n",
    "plt.ylabel('Energy_Consumed')\n",
    "plt.show()"
   ]
  },
  {
   "cell_type": "code",
   "execution_count": 102,
   "id": "d9d7320c",
   "metadata": {},
   "outputs": [
    {
     "data": {
      "image/png": "[encoded data removed]",
      "text/plain": [
       "<Figure size 720x720 with 1 Axes>"
      ]
     },
     "metadata": {
      "needs_background": "light"
     },
     "output_type": "display_data"
    }
   ],
   "source": [
    "plt.figure(figsize = (10, 10))\n",
    "plt.scatter(df[\"Global_active_power\"], df[\"Energy_Consumed\"])\n",
    "plt.xlabel('Global_active_power')\n",
    "plt.ylabel('Energy_Consumed')\n",
    "plt.show()"
   ]
  },
  {
   "cell_type": "markdown",
   "id": "8649c748",
   "metadata": {},
   "source": [
    "<h2> Using Agglomerative Clustering Algorithm </h2>"
   ]
  },
  {
   "cell_type": "code",
   "execution_count": 91,
   "id": "f7af0ff0",
   "metadata": {},
   "outputs": [
    {
     "data": {
      "image/png": "[encoded data removed]",
      "text/plain": [
       "<Figure size 432x288 with 1 Axes>"
      ]
     },
     "metadata": {
      "needs_background": "light"
     },
     "output_type": "display_data"
    }
   ],
   "source": [
    "from scipy.cluster.hierarchy import linkage,dendrogram\n",
    "merg = linkage(sample_data, method = \"ward\")\n",
    "dendrogram(merg, leaf_rotation = 90)\n",
    "plt.xlabel(\"data points\")\n",
    "plt.ylabel(\"euclidean distance\")\n",
    "plt.show()"
   ]
  },
  {
   "cell_type": "code",
   "execution_count": 92,
   "id": "b3cb997a",
   "metadata": {},
   "outputs": [],
   "source": [
    "from sklearn.cluster import AgglomerativeClustering\n",
    "ac = AgglomerativeClustering(n_clusters = 3, affinity = \"euclidean\", linkage = \"ward\")\n",
    "cluster = ac.fit_predict(sample_data)\n",
    "sample_data[\"label\"] = cluster"
   ]
  },
  {
   "cell_type": "code",
   "execution_count": 93,
   "id": "d760b8ad",
   "metadata": {},
   "outputs": [
    {
     "data": {
      "text/plain": [
       "1    2428\n",
       "2    1284\n",
       "0     243\n",
       "Name: label, dtype: int64"
      ]
     },
     "execution_count": 93,
     "metadata": {},
     "output_type": "execute_result"
    }
   ],
   "source": [
    "sample_data.label.value_counts()"
   ]
  },
  {
   "cell_type": "code",
   "execution_count": 94,
   "id": "e4a819f3",
   "metadata": {},
   "outputs": [],
   "source": [
    "dataWithoutTypes= sample_data[['Global_active_power','Energy_Consumed']]"
   ]
  },
  {
   "cell_type": "code",
   "execution_count": 95,
   "id": "6ef94658",
   "metadata": {},
   "outputs": [
    {
     "data": {
      "text/html": [
       "<div>\n",
       "<style scoped>\n",
       "    .dataframe tbody tr th:only-of-type {\n",
       "        vertical-align: middle;\n",
       "    }\n",
       "\n",
       "    .dataframe tbody tr th {\n",
       "        vertical-align: top;\n",
       "    }\n",
       "\n",
       "    .dataframe thead th {\n",
       "        text-align: right;\n",
       "    }\n",
       "</style>\n",
       "<table border=\"1\" class=\"dataframe\">\n",
       "  <thead>\n",
       "    <tr style=\"text-align: right;\">\n",
       "      <th></th>\n",
       "      <th>Global_active_power</th>\n",
       "      <th>Energy_Consumed</th>\n",
       "    </tr>\n",
       "  </thead>\n",
       "  <tbody>\n",
       "    <tr>\n",
       "      <th>843235</th>\n",
       "      <td>1.546</td>\n",
       "      <td>6.766667</td>\n",
       "    </tr>\n",
       "    <tr>\n",
       "      <th>1338534</th>\n",
       "      <td>0.308</td>\n",
       "      <td>2.133333</td>\n",
       "    </tr>\n",
       "    <tr>\n",
       "      <th>122957</th>\n",
       "      <td>0.312</td>\n",
       "      <td>4.200000</td>\n",
       "    </tr>\n",
       "    <tr>\n",
       "      <th>1228092</th>\n",
       "      <td>0.488</td>\n",
       "      <td>8.133333</td>\n",
       "    </tr>\n",
       "    <tr>\n",
       "      <th>921361</th>\n",
       "      <td>1.402</td>\n",
       "      <td>5.366667</td>\n",
       "    </tr>\n",
       "  </tbody>\n",
       "</table>\n",
       "</div>"
      ],
      "text/plain": [
       "         Global_active_power  Energy_Consumed\n",
       "843235                 1.546         6.766667\n",
       "1338534                0.308         2.133333\n",
       "122957                 0.312         4.200000\n",
       "1228092                0.488         8.133333\n",
       "921361                 1.402         5.366667"
      ]
     },
     "execution_count": 95,
     "metadata": {},
     "output_type": "execute_result"
    }
   ],
   "source": [
    "dataWithoutTypes.head()"
   ]
  },
  {
   "cell_type": "code",
   "execution_count": 96,
   "id": "48228312",
   "metadata": {},
   "outputs": [
    {
     "data": {
      "image/png": "[encoded data removed]",
      "text/plain": [
       "<Figure size 432x288 with 1 Axes>"
      ]
     },
     "metadata": {
      "needs_background": "light"
     },
     "output_type": "display_data"
    }
   ],
   "source": [
    "from scipy.cluster.hierarchy import linkage,dendrogram\n",
    "merg = linkage(dataWithoutTypes, method = \"ward\")\n",
    "dendrogram(merg, leaf_rotation = 90)\n",
    "plt.xlabel(\"data points\")\n",
    "plt.ylabel(\"euclidean distance\")\n",
    "plt.show()"
   ]
  },
  {
   "cell_type": "code",
   "execution_count": 97,
   "id": "610b1eeb",
   "metadata": {},
   "outputs": [
    {
     "name": "stderr",
     "output_type": "stream",
     "text": [
      "<ipython-input-97-9bc3656b0e21>:4: SettingWithCopyWarning: \n",
      "A value is trying to be set on a copy of a slice from a DataFrame.\n",
      "Try using .loc[row_indexer,col_indexer] = value instead\n",
      "\n",
      "See the caveats in the documentation: https://pandas.pydata.org/pandas-docs/stable/user_guide/indexing.html#returning-a-view-versus-a-copy\n",
      "  dataWithoutTypes[\"label\"] = cluster\n"
     ]
    }
   ],
   "source": [
    "from sklearn.cluster import AgglomerativeClustering\n",
    "ac = AgglomerativeClustering(n_clusters = 2, affinity = \"euclidean\", linkage = \"ward\")\n",
    "cluster = ac.fit_predict(dataWithoutTypes)\n",
    "dataWithoutTypes[\"label\"] = cluster"
   ]
  },
  {
   "cell_type": "code",
   "execution_count": 98,
   "id": "577600ea",
   "metadata": {},
   "outputs": [
    {
     "data": {
      "text/plain": [
       "1    2996\n",
       "0     959\n",
       "Name: label, dtype: int64"
      ]
     },
     "execution_count": 98,
     "metadata": {},
     "output_type": "execute_result"
    }
   ],
   "source": [
    "dataWithoutTypes.label.value_counts()"
   ]
  },
  {
   "cell_type": "code",
   "execution_count": 99,
   "id": "15cd5a8f",
   "metadata": {},
   "outputs": [
    {
     "data": {
      "image/png": "[encoded data removed]",
      "text/plain": [
       "<Figure size 1080x720 with 1 Axes>"
      ]
     },
     "metadata": {
      "needs_background": "light"
     },
     "output_type": "display_data"
    }
   ],
   "source": [
    "# Data after hierarchical clustering\n",
    "\n",
    "plt.figure(figsize = (15, 10))\n",
    "plt.scatter(dataWithoutTypes[\"Global_active_power\"][dataWithoutTypes.label == 0], dataWithoutTypes[\"Energy_Consumed\"][dataWithoutTypes.label == 0], color = \"red\")\n",
    "plt.scatter(dataWithoutTypes[\"Global_active_power\"][dataWithoutTypes.label == 1], dataWithoutTypes[\"Energy_Consumed\"][dataWithoutTypes.label == 1], color = \"blue\")\n",
    "plt.xlabel(\"Global_active_power\")\n",
    "plt.ylabel(\"Energy_Consumed\")\n",
    "plt.show()"
   ]
  }
 ],
 "metadata": {
  "celltoolbar": "Raw Cell Format",
  "kernelspec": {
   "display_name": "Python 3",
   "language": "python",
   "name": "python3"
  },
  "language_info": {
   "codemirror_mode": {
    "name": "ipython",
    "version": 3
   },
   "file_extension": ".py",
   "mimetype": "text/x-python",
   "name": "python",
   "nbconvert_exporter": "python",
   "pygments_lexer": "ipython3",
   "version": "3.8.8"
  }
 },
 "nbformat": 4,
 "nbformat_minor": 5
}
